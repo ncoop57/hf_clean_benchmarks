{
 "cells": [
  {
   "cell_type": "markdown",
   "metadata": {},
   "source": [
    "# core\n",
    "\n",
    "> Fill in a module description here"
   ]
  },
  {
   "cell_type": "code",
   "execution_count": null,
   "metadata": {},
   "outputs": [],
   "source": [
    "#| default_exp core"
   ]
  },
  {
   "cell_type": "code",
   "execution_count": 1,
   "metadata": {},
   "outputs": [],
   "source": [
    "#| export\n",
    "import logging\n",
    "import multiprocessing\n",
    "import os\n",
    "import re\n",
    "import requests\n",
    "import time\n",
    "\n",
    "import numpy as np\n",
    "\n",
    "from datasets import Dataset, load_dataset, Features, Sequence, Value\n",
    "from datasketch import LeanMinHash, MinHash, MinHashLSH\n",
    "from rich.logging import RichHandler\n",
    "from tqdm.auto import tqdm"
   ]
  },
  {
   "cell_type": "code",
   "execution_count": 2,
   "metadata": {},
   "outputs": [],
   "source": [
    "#| export\n",
    "multiprocessing.set_start_method(\"fork\", force=True)\n",
    "logging.getLogger(\"datasets\").setLevel(logging.ERROR)\n",
    "logger = logging.getLogger(__name__)\n",
    "logger.setLevel(logging.INFO)\n",
    "logger.addHandler(RichHandler(rich_tracebacks=True))\n",
    "logger.propagate = False"
   ]
  },
  {
   "cell_type": "code",
   "execution_count": 3,
   "metadata": {},
   "outputs": [],
   "source": [
    "#| hide\n",
    "from nbdev.showdoc import *"
   ]
  },
  {
   "cell_type": "code",
   "execution_count": 4,
   "metadata": {},
   "outputs": [],
   "source": [
    "#| export\n",
    "MINHASH_SEED = 42\n",
    "NON_ALPHA = re.compile(\"[^A-Za-z_0-9]\")"
   ]
  },
  {
   "cell_type": "code",
   "execution_count": 5,
   "metadata": {},
   "outputs": [],
   "source": [
    "#| export\n",
    "def hash_content(\n",
    "    idx: int, # index of the document\n",
    "    content: str, # content of the document\n",
    "    *,\n",
    "    num_perm: int # number of permutations\n",
    "    ): # The MinHash signature and the index of the record.\n",
    "    \"\"\"\n",
    "    Hash the content of a record using MinHash. This function should be\n",
    "    used with multiprocessing and it scales well with the number of cores.\n",
    "    \"\"\"\n",
    "    m = MinHash(num_perm=num_perm, seed=MINHASH_SEED)\n",
    "    m.update_batch([token.encode(\"utf-8\") for token in {t for t in NON_ALPHA.split(content) if t}])\n",
    "    return {\"__signature__\": m.hashvalues, \"__id__\": idx}"
   ]
  },
  {
   "cell_type": "code",
   "execution_count": 6,
   "metadata": {},
   "outputs": [],
   "source": [
    "result = hash_content(0, \"Hello world!\", num_perm=128)\n",
    "assert result[\"__id__\"] == 0\n",
    "assert result[\"__signature__\"].shape == (128,)\n",
    "assert result[\"__signature__\"].dtype == np.dtype('uint64')"
   ]
  },
  {
   "cell_type": "code",
   "execution_count": 7,
   "metadata": {},
   "outputs": [],
   "source": [
    "#| export\n",
    "def query_content(\n",
    "    idx: int, # index of the document\n",
    "    signature: np.ndarray, # MinHash signature of the document\n",
    "    *,\n",
    "    index: MinHashLSH # The MinHashLSH index. It is shared across all processes when using multiprocessing with fork without copy.\n",
    "    ): # The query result.\n",
    "    \"\"\"\n",
    "    Query the MinHashLSH index for the record. This function can be used with multiprocessing\n",
    "    as long as the index is shared across processes.\n",
    "    Parameters.\n",
    "    \"\"\"\n",
    "    return {\n",
    "        \"__neighbors__\": [\n",
    "            str(dup_idx)\n",
    "            for dup_idx in index.query(\n",
    "                LeanMinHash(seed=MINHASH_SEED, hashvalues=signature),\n",
    "            )\n",
    "        ],\n",
    "        \"__id__\": idx,\n",
    "    }"
   ]
  },
  {
   "cell_type": "code",
   "execution_count": 8,
   "metadata": {},
   "outputs": [],
   "source": [
    "#| export\n",
    "def jaccard_similarity(\n",
    "    s1: str, # The first string to compare.\n",
    "    s2: str # The second string to compare.\n",
    "    ) -> float: # The Jaccard similarity between the two strings.\n",
    "    \"\"\"\n",
    "    Calculate the jaccard similarity between two code snippets.\n",
    "    \"\"\"\n",
    "    tokens1 = set([t for t in NON_ALPHA.split(s1) if t.strip()])\n",
    "    tokens2 = set([t for t in NON_ALPHA.split(s2) if t.strip()])\n",
    "    return len(tokens1 & tokens2) / max(1, len(tokens1 | tokens2))"
   ]
  },
  {
   "cell_type": "code",
   "execution_count": 9,
   "metadata": {},
   "outputs": [],
   "source": [
    "assert jaccard_similarity(\"a = 1\", \"a = 2\") == 0.3333333333333333\n",
    "assert jaccard_similarity(\"a = 1\", \"a = 1\") == 1.0"
   ]
  },
  {
   "cell_type": "code",
   "execution_count": 10,
   "metadata": {},
   "outputs": [],
   "source": [
    "#| export\n",
    "def convert_list_to_dict(list):\n",
    "    result = {}\n",
    "    for item in list:\n",
    "        config = item['config']\n",
    "        split = item['split']\n",
    "        if split == \"train\": continue\n",
    "        if config in result:\n",
    "            result[config].append(split)\n",
    "        else:\n",
    "            result[config] = [split]\n",
    "    \n",
    "    final_result = {}\n",
    "    for config, splits in result.items():\n",
    "        if \"all\" in config:\n",
    "            final_result = {config: splits}\n",
    "            break\n",
    "        else:\n",
    "            final_result[config] = splits\n",
    "    return final_result"
   ]
  },
  {
   "cell_type": "code",
   "execution_count": 11,
   "metadata": {},
   "outputs": [],
   "source": [
    "#| export\n",
    "def config_lists(name):\n",
    "    token = os.environ.get(\"HF_ACCESS_TOKEN\")\n",
    "    if token is None:\n",
    "        raise ValueError(\"HF_ACCESS_TOKEN is not set\")\n",
    "    headers = {\"Authorization\": f\"Bearer {token}\"}\n",
    "    API_URL = f\"https://datasets-server.huggingface.co/splits?dataset={name}\"\n",
    "    def query():\n",
    "        response = requests.request(\"GET\", API_URL, headers=headers)\n",
    "        return response.json()\n",
    "    data = query()\n",
    "\n",
    "    return convert_list_to_dict(data[\"splits\"])"
   ]
  },
  {
   "cell_type": "code",
   "execution_count": 12,
   "metadata": {},
   "outputs": [
    {
     "data": {
      "text/plain": [
       "{'all_languages': ['validation', 'test']}"
      ]
     },
     "execution_count": 12,
     "metadata": {},
     "output_type": "execute_result"
    }
   ],
   "source": [
    "#|eval: false\n",
    "os.environ[\"HF_ACCESS_TOKEN\"] = \"<TOKEN>\"\n",
    "ds_dict = config_lists(\"amazon_reviews_multi\")\n",
    "ds_dict"
   ]
  },
  {
   "cell_type": "code",
   "execution_count": 13,
   "metadata": {},
   "outputs": [],
   "source": [
    "#| export\n",
    "def process_ds_config(name, ds_dict):\n",
    "    for config, splits in ds_dict.items():\n",
    "        for split in splits:\n",
    "            # print(name, config, split)\n",
    "            ds = load_dataset(name, config, split=split)\n",
    "            remove_columns = []\n",
    "            for column, val_type in ds.features.items():\n",
    "                if val_type.dtype != \"string\":\n",
    "                    remove_columns.append(column)\n",
    "            \n",
    "            ds = ds.remove_columns(remove_columns)\n",
    "            yield ds"
   ]
  },
  {
   "cell_type": "code",
   "execution_count": 14,
   "metadata": {},
   "outputs": [],
   "source": [
    "#|eval: false\n",
    "\n",
    "ds = next(process_ds_config(\"amazon_reviews_multi\", ds_dict))\n",
    "ds.features"
   ]
  },
  {
   "cell_type": "code",
   "execution_count": 16,
   "metadata": {},
   "outputs": [],
   "source": [
    "#| export\n",
    "class BenchmarkCleaner:\n",
    "    \"\"\"\n",
    "    A class to clean the benchmark dataset.\n",
    "    \"\"\"\n",
    "    def __init__(\n",
    "        self,\n",
    "        benchmark_names: list, # The list of benchmark names to clean.\n",
    "        threshold: float = 0.5, # The threshold to use for the MinHashLSH index.\n",
    "        num_perm: int = 128 # The number of permutations to use for the MinHashLSH index.\n",
    "        ):\n",
    "        self.bm_names = benchmark_names\n",
    "        self.threshold = threshold\n",
    "        self.num_perm = num_perm\n",
    "    \n",
    "    def clean(\n",
    "        self,\n",
    "        ds: Dataset, # The dataset to clean.\n",
    "        column: str, # The column to clean.\n",
    "    ):\n",
    "        \"\"\"\n",
    "        Clean the dataset. This function does the following:\n",
    "        1. Hash the content of the provided dataset using MinHash.\n",
    "        2. Iterate over the benchmark datasets and hash their content.\n",
    "        3. Query the MinHashLSH index for each record in the provided dataset against the benchmark datasets.\n",
    "        4. Filter out the records that have a high similarity with the benchmark datasets.\n",
    "        5. Return the cleaned dataset.\n",
    "        \"\"\"\n",
    "        start_time = time.time()\n",
    "        DATA_SIZE = len(ds)\n",
    "        ds = ds.map(\n",
    "            lambda _, idx: {\"__id__\": idx},\n",
    "            with_indices=True,\n",
    "            num_proc=os.cpu_count(),\n",
    "            desc=\"Adding index...\",\n",
    "        )\n",
    "        hashed_ds = ds.map(\n",
    "            function=hash_content,\n",
    "            fn_kwargs={\"num_perm\": self.num_perm},\n",
    "            input_columns=[\"__id__\", column],\n",
    "            remove_columns=[column],\n",
    "            num_proc=os.cpu_count(),\n",
    "            desc=f\"Fingerprinting...\",\n",
    "        )\n",
    "        dup_ids = set() # The set of duplicate ids that should be filtered out.\n",
    "        # Iterate over the benchmark datasets, hash their content and query the MinHashLSH index.\n",
    "        for name in self.bm_names:\n",
    "            ds_dict = config_lists(name)\n",
    "            for benchmark_ds in process_ds_config(name, ds_dict):\n",
    "                globals()[name] = MinHashLSH(\n",
    "                    threshold=self.threshold,\n",
    "                    num_perm=self.num_perm,\n",
    "                )\n",
    "                benchmark_ds = benchmark_ds.map(\n",
    "                        function=lambda x, idx: {\n",
    "                            **hash_content(\n",
    "                                idx,\n",
    "                                \" \".join(\n",
    "                                    [x[col] if isinstance(x[col], str) else \" \".join(x[col]) for col in benchmark_ds.column_names]\n",
    "                                ),\n",
    "                                num_perm=self.num_perm,\n",
    "                            ),\n",
    "                            \"__content__\": \" \".join(\n",
    "                                [x[col] if isinstance(x[col], str) else \" \".join(x[col]) for col in benchmark_ds.column_names]\n",
    "                            ),\n",
    "                        },\n",
    "                        num_proc=4,\n",
    "                        with_indices=True,\n",
    "                        desc=f\"Fingerprinting...\",\n",
    "                    )\n",
    "                \n",
    "                # Update the global variable with the MinHashLSH index.\n",
    "                with globals()[name].insertion_session() as session:\n",
    "                    for record in benchmark_ds:\n",
    "                        session.insert(record[\"__id__\"], LeanMinHash(seed=MINHASH_SEED, hashvalues=record[\"__signature__\"]))\n",
    "\n",
    "                # remove unused columns\n",
    "                hashed_ds = hashed_ds.remove_columns([c for c in hashed_ds.column_names if c not in [\"__id__\", \"__signature__\"]])\n",
    "                queried = hashed_ds.map(\n",
    "                    function=lambda x, y: query_content(x, y, index=globals()[name]),\n",
    "                    num_proc=os.cpu_count(),\n",
    "                    input_columns=[\n",
    "                        \"__id__\",\n",
    "                        \"__signature__\",\n",
    "                    ],\n",
    "                    remove_columns=[\"__signature__\"],\n",
    "                    desc=\"Querying...\",\n",
    "                    features=Features(\n",
    "                        {\n",
    "                            \"__id__\": Value(\"uint64\"),\n",
    "                            \"__neighbors__\": Sequence(Value(\"string\")),\n",
    "                        }\n",
    "                    ),\n",
    "                ).filter(\n",
    "                    lambda x: len(x[\"__neighbors__\"]) > 0,\n",
    "                    num_proc=os.cpu_count(),\n",
    "                    desc=f\"Filtering...\",\n",
    "                )\n",
    "\n",
    "                # Update the set of duplicate ids.\n",
    "                for record in tqdm(\n",
    "                    queried,\n",
    "                    desc=f\"Checking for false positives...\",\n",
    "                ):\n",
    "                    neighbors = set(record[\"__neighbors__\"])\n",
    "                    curr_text = ds[record[\"__id__\"]][column]\n",
    "                    for neighbor in neighbors:\n",
    "                        reference = benchmark_ds[int(neighbor)]\n",
    "                        reference_text = reference[\"__content__\"]\n",
    "                        if jaccard_similarity(curr_text, reference_text) >= self.threshold:\n",
    "                            break\n",
    "                    else:\n",
    "                        continue\n",
    "                    dup_ids.add(record[\"__id__\"])\n",
    "\n",
    "        # Filter out the duplicate ids.\n",
    "        final_data = ds.filter(\n",
    "            lambda idx: idx not in dup_ids,\n",
    "            input_columns=[\"__id__\"],\n",
    "            num_proc=os.cpu_count(),\n",
    "            desc=\"Filtering duplicates...\",\n",
    "        )\n",
    "\n",
    "        FINAL_DATA_SIZE = len(final_data)\n",
    "        DUP_SIZE = DATA_SIZE - FINAL_DATA_SIZE\n",
    "\n",
    "        logger.info(f\"{'Data Number':<30}: {DATA_SIZE}\")\n",
    "        logger.info(f\"{'Duplicate Number':<30}: {DUP_SIZE}\")\n",
    "        logger.info(f\"{'Duplicate Rate':<30}: {DUP_SIZE / DATA_SIZE:.2%}\")\n",
    "        logger.info(f\"{'Total Time':<30}: {time.time() - start_time:.2f} seconds\")\n",
    "\n",
    "        return final_data"
   ]
  },
  {
   "cell_type": "code",
   "execution_count": 17,
   "metadata": {},
   "outputs": [
    {
     "name": "stdout",
     "output_type": "stream",
     "text": [
      "                                                                        "
     ]
    },
    {
     "data": {
      "application/vnd.jupyter.widget-view+json": {
       "model_id": "83790ccce98044d28fdc431b9765a18a",
       "version_major": 2,
       "version_minor": 0
      },
      "text/plain": [
       "Fingerprinting... #0:   0%|          | 0/41 [00:00<?, ?ex/s]"
      ]
     },
     "metadata": {},
     "output_type": "display_data"
    },
    {
     "data": {
      "application/vnd.jupyter.widget-view+json": {
       "model_id": "a76da0eea6494b23a3c9e22a1e52d449",
       "version_major": 2,
       "version_minor": 0
      },
      "text/plain": [
       "Fingerprinting... #1:   0%|          | 0/41 [00:00<?, ?ex/s]"
      ]
     },
     "metadata": {},
     "output_type": "display_data"
    },
    {
     "data": {
      "application/vnd.jupyter.widget-view+json": {
       "model_id": "3a9954f2683a433998bc53663dc15973",
       "version_major": 2,
       "version_minor": 0
      },
      "text/plain": [
       "Fingerprinting... #2:   0%|          | 0/41 [00:00<?, ?ex/s]"
      ]
     },
     "metadata": {},
     "output_type": "display_data"
    },
    {
     "data": {
      "application/vnd.jupyter.widget-view+json": {
       "model_id": "b2af32c626d042a0a738b2435e5087cc",
       "version_major": 2,
       "version_minor": 0
      },
      "text/plain": [
       "Fingerprinting... #3:   0%|          | 0/41 [00:00<?, ?ex/s]"
      ]
     },
     "metadata": {},
     "output_type": "display_data"
    },
    {
     "name": "stdout",
     "output_type": "stream",
     "text": [
      "                                             "
     ]
    },
    {
     "data": {
      "application/vnd.jupyter.widget-view+json": {
       "model_id": "77358a71653a45359438c20c71c9a954",
       "version_major": 2,
       "version_minor": 0
      },
      "text/plain": [
       "Querying... #2:   0%|          | 0/313 [00:00<?, ?ex/s]"
      ]
     },
     "metadata": {},
     "output_type": "display_data"
    },
    {
     "name": "stdout",
     "output_type": "stream",
     "text": [
      " "
     ]
    },
    {
     "data": {
      "application/vnd.jupyter.widget-view+json": {
       "model_id": "e81ab38379a049848832737e3761e08a",
       "version_major": 2,
       "version_minor": 0
      },
      "text/plain": [
       "Querying... #3:   0%|          | 0/313 [00:00<?, ?ex/s]"
      ]
     },
     "metadata": {},
     "output_type": "display_data"
    },
    {
     "data": {
      "application/vnd.jupyter.widget-view+json": {
       "model_id": "44e3c67c25e84ffc80acf897cca06cef",
       "version_major": 2,
       "version_minor": 0
      },
      "text/plain": [
       "Querying... #5:   0%|          | 0/313 [00:00<?, ?ex/s]"
      ]
     },
     "metadata": {},
     "output_type": "display_data"
    },
    {
     "data": {
      "application/vnd.jupyter.widget-view+json": {
       "model_id": "432a862673a748fc8fed922a4fcc6902",
       "version_major": 2,
       "version_minor": 0
      },
      "text/plain": [
       "Querying... #0:   0%|          | 0/313 [00:00<?, ?ex/s]"
      ]
     },
     "metadata": {},
     "output_type": "display_data"
    },
    {
     "name": "stdout",
     "output_type": "stream",
     "text": [
      "  "
     ]
    },
    {
     "data": {
      "application/vnd.jupyter.widget-view+json": {
       "model_id": "5c7c15b5e6f24b828c21ebafbe1a27e7",
       "version_major": 2,
       "version_minor": 0
      },
      "text/plain": [
       "Querying... #4:   0%|          | 0/313 [00:00<?, ?ex/s]"
      ]
     },
     "metadata": {},
     "output_type": "display_data"
    },
    {
     "data": {
      "application/vnd.jupyter.widget-view+json": {
       "model_id": "0faa4385070f4bcab16962d886e237a6",
       "version_major": 2,
       "version_minor": 0
      },
      "text/plain": [
       "Querying... #1:   0%|          | 0/313 [00:00<?, ?ex/s]"
      ]
     },
     "metadata": {},
     "output_type": "display_data"
    },
    {
     "name": "stdout",
     "output_type": "stream",
     "text": [
      "  "
     ]
    },
    {
     "data": {
      "application/vnd.jupyter.widget-view+json": {
       "model_id": "1edf75b9132e4673b7a4f845f5809c72",
       "version_major": 2,
       "version_minor": 0
      },
      "text/plain": [
       "Querying... #7:   0%|          | 0/313 [00:00<?, ?ex/s]"
      ]
     },
     "metadata": {},
     "output_type": "display_data"
    },
    {
     "name": "stdout",
     "output_type": "stream",
     "text": [
      " "
     ]
    },
    {
     "data": {
      "application/vnd.jupyter.widget-view+json": {
       "model_id": "c2e8e1e1e9cf4577b669d8c043706406",
       "version_major": 2,
       "version_minor": 0
      },
      "text/plain": [
       "Querying... #6:   0%|          | 0/313 [00:00<?, ?ex/s]"
      ]
     },
     "metadata": {},
     "output_type": "display_data"
    },
    {
     "name": "stdout",
     "output_type": "stream",
     "text": [
      "    "
     ]
    },
    {
     "data": {
      "application/vnd.jupyter.widget-view+json": {
       "model_id": "036f975168234602b6168ff4d15a1d38",
       "version_major": 2,
       "version_minor": 0
      },
      "text/plain": [
       "Querying... #9:   0%|          | 0/313 [00:00<?, ?ex/s]"
      ]
     },
     "metadata": {},
     "output_type": "display_data"
    },
    {
     "name": "stdout",
     "output_type": "stream",
     "text": [
      " "
     ]
    },
    {
     "data": {
      "application/vnd.jupyter.widget-view+json": {
       "model_id": "a8a09384abaa418390e6a921e59ca2ed",
       "version_major": 2,
       "version_minor": 0
      },
      "text/plain": [
       "Querying... #8:   0%|          | 0/313 [00:00<?, ?ex/s]"
      ]
     },
     "metadata": {},
     "output_type": "display_data"
    },
    {
     "data": {
      "application/vnd.jupyter.widget-view+json": {
       "model_id": "8a07eea971f24bfca600eb51816b84ab",
       "version_major": 2,
       "version_minor": 0
      },
      "text/plain": [
       "Querying... #12:   0%|          | 0/313 [00:00<?, ?ex/s]"
      ]
     },
     "metadata": {},
     "output_type": "display_data"
    },
    {
     "data": {
      "application/vnd.jupyter.widget-view+json": {
       "model_id": "c696b47fe5b84592b03d27f63359bd72",
       "version_major": 2,
       "version_minor": 0
      },
      "text/plain": [
       "Querying... #10:   0%|          | 0/313 [00:00<?, ?ex/s]"
      ]
     },
     "metadata": {},
     "output_type": "display_data"
    },
    {
     "data": {
      "application/vnd.jupyter.widget-view+json": {
       "model_id": "912a3e4831fb4b4280d1fc370122263c",
       "version_major": 2,
       "version_minor": 0
      },
      "text/plain": [
       "Querying... #14:   0%|          | 0/313 [00:00<?, ?ex/s]"
      ]
     },
     "metadata": {},
     "output_type": "display_data"
    },
    {
     "data": {
      "application/vnd.jupyter.widget-view+json": {
       "model_id": "1e3fd8efaa6d44f9bb8814b0ca4d4385",
       "version_major": 2,
       "version_minor": 0
      },
      "text/plain": [
       "Querying... #16:   0%|          | 0/312 [00:00<?, ?ex/s]"
      ]
     },
     "metadata": {},
     "output_type": "display_data"
    },
    {
     "data": {
      "application/vnd.jupyter.widget-view+json": {
       "model_id": "13abb2c220724264b0eeb08bb8f7e15e",
       "version_major": 2,
       "version_minor": 0
      },
      "text/plain": [
       "Querying... #11:   0%|          | 0/313 [00:00<?, ?ex/s]"
      ]
     },
     "metadata": {},
     "output_type": "display_data"
    },
    {
     "data": {
      "application/vnd.jupyter.widget-view+json": {
       "model_id": "a3856911af2d41da8b64799dabfb2275",
       "version_major": 2,
       "version_minor": 0
      },
      "text/plain": [
       "Querying... #13:   0%|          | 0/313 [00:00<?, ?ex/s]"
      ]
     },
     "metadata": {},
     "output_type": "display_data"
    },
    {
     "name": "stdout",
     "output_type": "stream",
     "text": [
      " "
     ]
    },
    {
     "data": {
      "application/vnd.jupyter.widget-view+json": {
       "model_id": "313ebcfec06e499393efa47e6d037b31",
       "version_major": 2,
       "version_minor": 0
      },
      "text/plain": [
       "Querying... #18:   0%|          | 0/312 [00:00<?, ?ex/s]"
      ]
     },
     "metadata": {},
     "output_type": "display_data"
    },
    {
     "name": "stdout",
     "output_type": "stream",
     "text": [
      "   "
     ]
    },
    {
     "data": {
      "application/vnd.jupyter.widget-view+json": {
       "model_id": "9aa3d4188a6643139a25669f187612c7",
       "version_major": 2,
       "version_minor": 0
      },
      "text/plain": [
       "Querying... #15:   0%|          | 0/313 [00:00<?, ?ex/s]"
      ]
     },
     "metadata": {},
     "output_type": "display_data"
    },
    {
     "name": "stdout",
     "output_type": "stream",
     "text": [
      "  "
     ]
    },
    {
     "data": {
      "application/vnd.jupyter.widget-view+json": {
       "model_id": "2a324504e1c74e77b28da67d893d29a5",
       "version_major": 2,
       "version_minor": 0
      },
      "text/plain": [
       "Querying... #22:   0%|          | 0/312 [00:00<?, ?ex/s]"
      ]
     },
     "metadata": {},
     "output_type": "display_data"
    },
    {
     "data": {
      "application/vnd.jupyter.widget-view+json": {
       "model_id": "9c48a19f9e954cc682a07a2c3d636725",
       "version_major": 2,
       "version_minor": 0
      },
      "text/plain": [
       "Querying... #20:   0%|          | 0/312 [00:00<?, ?ex/s]"
      ]
     },
     "metadata": {},
     "output_type": "display_data"
    },
    {
     "name": "stdout",
     "output_type": "stream",
     "text": [
      " "
     ]
    },
    {
     "data": {
      "application/vnd.jupyter.widget-view+json": {
       "model_id": "3392a0b3424f4ed8a73f21a41c28351a",
       "version_major": 2,
       "version_minor": 0
      },
      "text/plain": [
       "Querying... #17:   0%|          | 0/312 [00:00<?, ?ex/s]"
      ]
     },
     "metadata": {},
     "output_type": "display_data"
    },
    {
     "data": {
      "application/vnd.jupyter.widget-view+json": {
       "model_id": "4761ab56b99a439a8d31f0931cbeddd6",
       "version_major": 2,
       "version_minor": 0
      },
      "text/plain": [
       "Querying... #21:   0%|          | 0/312 [00:00<?, ?ex/s]"
      ]
     },
     "metadata": {},
     "output_type": "display_data"
    },
    {
     "data": {
      "application/vnd.jupyter.widget-view+json": {
       "model_id": "2a06d40cb4f542b1961da06aae33b0d6",
       "version_major": 2,
       "version_minor": 0
      },
      "text/plain": [
       "Querying... #23:   0%|          | 0/312 [00:00<?, ?ex/s]"
      ]
     },
     "metadata": {},
     "output_type": "display_data"
    },
    {
     "data": {
      "application/vnd.jupyter.widget-view+json": {
       "model_id": "fc61752d97b74ad0bc7a72d7b26fdf2f",
       "version_major": 2,
       "version_minor": 0
      },
      "text/plain": [
       "Querying... #19:   0%|          | 0/312 [00:00<?, ?ex/s]"
      ]
     },
     "metadata": {},
     "output_type": "display_data"
    },
    {
     "name": "stdout",
     "output_type": "stream",
     "text": [
      " "
     ]
    },
    {
     "data": {
      "application/vnd.jupyter.widget-view+json": {
       "model_id": "cc7197bd154b4d009782428996f698e1",
       "version_major": 2,
       "version_minor": 0
      },
      "text/plain": [
       "Querying... #27:   0%|          | 0/312 [00:00<?, ?ex/s]"
      ]
     },
     "metadata": {},
     "output_type": "display_data"
    },
    {
     "data": {
      "application/vnd.jupyter.widget-view+json": {
       "model_id": "008c4b890e804ddd96e9c6124cddc571",
       "version_major": 2,
       "version_minor": 0
      },
      "text/plain": [
       "Querying... #28:   0%|          | 0/312 [00:00<?, ?ex/s]"
      ]
     },
     "metadata": {},
     "output_type": "display_data"
    },
    {
     "data": {
      "application/vnd.jupyter.widget-view+json": {
       "model_id": "d2463fe695674614bec1e5b42e7fa9fd",
       "version_major": 2,
       "version_minor": 0
      },
      "text/plain": [
       "Querying... #25:   0%|          | 0/312 [00:00<?, ?ex/s]"
      ]
     },
     "metadata": {},
     "output_type": "display_data"
    },
    {
     "data": {
      "application/vnd.jupyter.widget-view+json": {
       "model_id": "7f008661672c4763ad11ff18a71a65f6",
       "version_major": 2,
       "version_minor": 0
      },
      "text/plain": [
       "Querying... #26:   0%|          | 0/312 [00:00<?, ?ex/s]"
      ]
     },
     "metadata": {},
     "output_type": "display_data"
    },
    {
     "data": {
      "application/vnd.jupyter.widget-view+json": {
       "model_id": "01dff9d199b947daafd1daa042f79f2d",
       "version_major": 2,
       "version_minor": 0
      },
      "text/plain": [
       "Querying... #29:   0%|          | 0/312 [00:00<?, ?ex/s]"
      ]
     },
     "metadata": {},
     "output_type": "display_data"
    },
    {
     "data": {
      "application/vnd.jupyter.widget-view+json": {
       "model_id": "b00e27c373324493b95e52da5be2e4b8",
       "version_major": 2,
       "version_minor": 0
      },
      "text/plain": [
       "Querying... #31:   0%|          | 0/312 [00:00<?, ?ex/s]"
      ]
     },
     "metadata": {},
     "output_type": "display_data"
    },
    {
     "data": {
      "application/vnd.jupyter.widget-view+json": {
       "model_id": "3862e48d1db544538947ae00db9fd4cc",
       "version_major": 2,
       "version_minor": 0
      },
      "text/plain": [
       "Querying... #30:   0%|          | 0/312 [00:00<?, ?ex/s]"
      ]
     },
     "metadata": {},
     "output_type": "display_data"
    },
    {
     "data": {
      "application/vnd.jupyter.widget-view+json": {
       "model_id": "a9f0e89ce47d46ed84cb3c9a88d83f37",
       "version_major": 2,
       "version_minor": 0
      },
      "text/plain": [
       "Querying... #24:   0%|          | 0/312 [00:00<?, ?ex/s]"
      ]
     },
     "metadata": {},
     "output_type": "display_data"
    },
    {
     "name": "stdout",
     "output_type": "stream",
     "text": [
      "                                   "
     ]
    },
    {
     "data": {
      "application/vnd.jupyter.widget-view+json": {
       "model_id": "7aa5a92543ac46c9825b6853f718f2b9",
       "version_major": 2,
       "version_minor": 0
      },
      "text/plain": [
       "Filtering... #0:   0%|          | 0/1 [00:00<?, ?ba/s]"
      ]
     },
     "metadata": {},
     "output_type": "display_data"
    },
    {
     "data": {
      "application/vnd.jupyter.widget-view+json": {
       "model_id": "6f4bc90384624b2f8b563bb5680092a6",
       "version_major": 2,
       "version_minor": 0
      },
      "text/plain": [
       "Filtering... #1:   0%|          | 0/1 [00:00<?, ?ba/s]"
      ]
     },
     "metadata": {},
     "output_type": "display_data"
    },
    {
     "name": "stdout",
     "output_type": "stream",
     "text": [
      " "
     ]
    },
    {
     "data": {
      "application/vnd.jupyter.widget-view+json": {
       "model_id": "2d855f796841467bab7d7b490b78655d",
       "version_major": 2,
       "version_minor": 0
      },
      "text/plain": [
       "Filtering... #2:   0%|          | 0/1 [00:00<?, ?ba/s]"
      ]
     },
     "metadata": {},
     "output_type": "display_data"
    },
    {
     "name": "stdout",
     "output_type": "stream",
     "text": [
      " "
     ]
    },
    {
     "data": {
      "application/vnd.jupyter.widget-view+json": {
       "model_id": "a86f21627f164ff7a121dc8133999c44",
       "version_major": 2,
       "version_minor": 0
      },
      "text/plain": [
       "Filtering... #3:   0%|          | 0/1 [00:00<?, ?ba/s]"
      ]
     },
     "metadata": {},
     "output_type": "display_data"
    },
    {
     "name": "stdout",
     "output_type": "stream",
     "text": [
      " "
     ]
    },
    {
     "data": {
      "application/vnd.jupyter.widget-view+json": {
       "model_id": "60b82de618874763b0bb589a235bc91f",
       "version_major": 2,
       "version_minor": 0
      },
      "text/plain": [
       "Filtering... #4:   0%|          | 0/1 [00:00<?, ?ba/s]"
      ]
     },
     "metadata": {},
     "output_type": "display_data"
    },
    {
     "name": "stdout",
     "output_type": "stream",
     "text": [
      " "
     ]
    },
    {
     "data": {
      "application/vnd.jupyter.widget-view+json": {
       "model_id": "b244411e12de4bbc9a9fcf4a7fcfc6ed",
       "version_major": 2,
       "version_minor": 0
      },
      "text/plain": [
       "Filtering... #5:   0%|          | 0/1 [00:00<?, ?ba/s]"
      ]
     },
     "metadata": {},
     "output_type": "display_data"
    },
    {
     "name": "stdout",
     "output_type": "stream",
     "text": [
      " "
     ]
    },
    {
     "data": {
      "application/vnd.jupyter.widget-view+json": {
       "model_id": "6750a27f105a4a9284ad523b7035908a",
       "version_major": 2,
       "version_minor": 0
      },
      "text/plain": [
       "Filtering... #6:   0%|          | 0/1 [00:00<?, ?ba/s]"
      ]
     },
     "metadata": {},
     "output_type": "display_data"
    },
    {
     "name": "stdout",
     "output_type": "stream",
     "text": [
      "  "
     ]
    },
    {
     "data": {
      "application/vnd.jupyter.widget-view+json": {
       "model_id": "1f89df94247b48b0b3b6cd58b869ab7c",
       "version_major": 2,
       "version_minor": 0
      },
      "text/plain": [
       "Filtering... #7:   0%|          | 0/1 [00:00<?, ?ba/s]"
      ]
     },
     "metadata": {},
     "output_type": "display_data"
    },
    {
     "name": "stdout",
     "output_type": "stream",
     "text": [
      " "
     ]
    },
    {
     "data": {
      "application/vnd.jupyter.widget-view+json": {
       "model_id": "805734534cc645d5bfa3d3fa265746ac",
       "version_major": 2,
       "version_minor": 0
      },
      "text/plain": [
       "Filtering... #8:   0%|          | 0/1 [00:00<?, ?ba/s]"
      ]
     },
     "metadata": {},
     "output_type": "display_data"
    },
    {
     "data": {
      "application/vnd.jupyter.widget-view+json": {
       "model_id": "ae4b168ee6214e54b3331e5a5b122c5c",
       "version_major": 2,
       "version_minor": 0
      },
      "text/plain": [
       "Filtering... #9:   0%|          | 0/1 [00:00<?, ?ba/s]"
      ]
     },
     "metadata": {},
     "output_type": "display_data"
    },
    {
     "data": {
      "application/vnd.jupyter.widget-view+json": {
       "model_id": "cc9e9cd494954811ac013617fec5a11b",
       "version_major": 2,
       "version_minor": 0
      },
      "text/plain": [
       "Filtering... #10:   0%|          | 0/1 [00:00<?, ?ba/s]"
      ]
     },
     "metadata": {},
     "output_type": "display_data"
    },
    {
     "name": "stdout",
     "output_type": "stream",
     "text": [
      "   "
     ]
    },
    {
     "data": {
      "application/vnd.jupyter.widget-view+json": {
       "model_id": "b90805c1aba741439a3fd7482bdcbf2b",
       "version_major": 2,
       "version_minor": 0
      },
      "text/plain": [
       "Filtering... #11:   0%|          | 0/1 [00:00<?, ?ba/s]"
      ]
     },
     "metadata": {},
     "output_type": "display_data"
    },
    {
     "name": "stdout",
     "output_type": "stream",
     "text": [
      " "
     ]
    },
    {
     "data": {
      "application/vnd.jupyter.widget-view+json": {
       "model_id": "c59fb4285c9f447a92eed70d4145bd60",
       "version_major": 2,
       "version_minor": 0
      },
      "text/plain": [
       "Filtering... #12:   0%|          | 0/1 [00:00<?, ?ba/s]"
      ]
     },
     "metadata": {},
     "output_type": "display_data"
    },
    {
     "name": "stdout",
     "output_type": "stream",
     "text": [
      " "
     ]
    },
    {
     "data": {
      "application/vnd.jupyter.widget-view+json": {
       "model_id": "e245f50c07fe4e30ba480f9d1867f051",
       "version_major": 2,
       "version_minor": 0
      },
      "text/plain": [
       "Filtering... #13:   0%|          | 0/1 [00:00<?, ?ba/s]"
      ]
     },
     "metadata": {},
     "output_type": "display_data"
    },
    {
     "name": "stdout",
     "output_type": "stream",
     "text": [
      " "
     ]
    },
    {
     "data": {
      "application/vnd.jupyter.widget-view+json": {
       "model_id": "bfa701a679094e83bf4818ce80e39eda",
       "version_major": 2,
       "version_minor": 0
      },
      "text/plain": [
       "Filtering... #14:   0%|          | 0/1 [00:00<?, ?ba/s]"
      ]
     },
     "metadata": {},
     "output_type": "display_data"
    },
    {
     "name": "stdout",
     "output_type": "stream",
     "text": [
      " "
     ]
    },
    {
     "data": {
      "application/vnd.jupyter.widget-view+json": {
       "model_id": "917947bfcf1a4e8fa16fd7ccb248c128",
       "version_major": 2,
       "version_minor": 0
      },
      "text/plain": [
       "Filtering... #15:   0%|          | 0/1 [00:00<?, ?ba/s]"
      ]
     },
     "metadata": {},
     "output_type": "display_data"
    },
    {
     "name": "stdout",
     "output_type": "stream",
     "text": [
      " "
     ]
    },
    {
     "data": {
      "application/vnd.jupyter.widget-view+json": {
       "model_id": "aaa75da18c0f44d8a08d12994b4ea27a",
       "version_major": 2,
       "version_minor": 0
      },
      "text/plain": [
       "Filtering... #16:   0%|          | 0/1 [00:00<?, ?ba/s]"
      ]
     },
     "metadata": {},
     "output_type": "display_data"
    },
    {
     "data": {
      "application/vnd.jupyter.widget-view+json": {
       "model_id": "502e96928f154c9ea8b8a6434749be52",
       "version_major": 2,
       "version_minor": 0
      },
      "text/plain": [
       "Filtering... #17:   0%|          | 0/1 [00:00<?, ?ba/s]"
      ]
     },
     "metadata": {},
     "output_type": "display_data"
    },
    {
     "name": "stdout",
     "output_type": "stream",
     "text": [
      " "
     ]
    },
    {
     "data": {
      "application/vnd.jupyter.widget-view+json": {
       "model_id": "50d36baf740d4254916eb2dc39f61a00",
       "version_major": 2,
       "version_minor": 0
      },
      "text/plain": [
       "Filtering... #18:   0%|          | 0/1 [00:00<?, ?ba/s]"
      ]
     },
     "metadata": {},
     "output_type": "display_data"
    },
    {
     "name": "stdout",
     "output_type": "stream",
     "text": [
      " "
     ]
    },
    {
     "data": {
      "application/vnd.jupyter.widget-view+json": {
       "model_id": "2c42c47dc1304e11aadb8c12fbf5fe4f",
       "version_major": 2,
       "version_minor": 0
      },
      "text/plain": [
       "Filtering... #19:   0%|          | 0/1 [00:00<?, ?ba/s]"
      ]
     },
     "metadata": {},
     "output_type": "display_data"
    },
    {
     "name": "stdout",
     "output_type": "stream",
     "text": [
      " "
     ]
    },
    {
     "data": {
      "application/vnd.jupyter.widget-view+json": {
       "model_id": "286de0e3f18b40f990636ef56cc2250f",
       "version_major": 2,
       "version_minor": 0
      },
      "text/plain": [
       "Filtering... #20:   0%|          | 0/1 [00:00<?, ?ba/s]"
      ]
     },
     "metadata": {},
     "output_type": "display_data"
    },
    {
     "name": "stdout",
     "output_type": "stream",
     "text": [
      "  "
     ]
    },
    {
     "data": {
      "application/vnd.jupyter.widget-view+json": {
       "model_id": "edaa1ecd89674311bf431802a920b46a",
       "version_major": 2,
       "version_minor": 0
      },
      "text/plain": [
       "Filtering... #21:   0%|          | 0/1 [00:00<?, ?ba/s]"
      ]
     },
     "metadata": {},
     "output_type": "display_data"
    },
    {
     "name": "stdout",
     "output_type": "stream",
     "text": [
      "        "
     ]
    },
    {
     "data": {
      "application/vnd.jupyter.widget-view+json": {
       "model_id": "cdb978a9828242eb90100d4de11173b7",
       "version_major": 2,
       "version_minor": 0
      },
      "text/plain": [
       "Filtering... #22:   0%|          | 0/1 [00:00<?, ?ba/s]"
      ]
     },
     "metadata": {},
     "output_type": "display_data"
    },
    {
     "data": {
      "application/vnd.jupyter.widget-view+json": {
       "model_id": "fba50d987bce456393377d4b2a99eb88",
       "version_major": 2,
       "version_minor": 0
      },
      "text/plain": [
       "Filtering... #26:   0%|          | 0/1 [00:00<?, ?ba/s]"
      ]
     },
     "metadata": {},
     "output_type": "display_data"
    },
    {
     "data": {
      "application/vnd.jupyter.widget-view+json": {
       "model_id": "4072a15d74f043fbb3273f8d804ab41f",
       "version_major": 2,
       "version_minor": 0
      },
      "text/plain": [
       "Filtering... #23:   0%|          | 0/1 [00:00<?, ?ba/s]"
      ]
     },
     "metadata": {},
     "output_type": "display_data"
    },
    {
     "data": {
      "application/vnd.jupyter.widget-view+json": {
       "model_id": "818f454271e341a995703b61779c7802",
       "version_major": 2,
       "version_minor": 0
      },
      "text/plain": [
       "Filtering... #25:   0%|          | 0/1 [00:00<?, ?ba/s]"
      ]
     },
     "metadata": {},
     "output_type": "display_data"
    },
    {
     "data": {
      "application/vnd.jupyter.widget-view+json": {
       "model_id": "7fcb825aeebc4ba4bb70e2321cfd82ad",
       "version_major": 2,
       "version_minor": 0
      },
      "text/plain": [
       "Filtering... #28:   0%|          | 0/1 [00:00<?, ?ba/s]"
      ]
     },
     "metadata": {},
     "output_type": "display_data"
    },
    {
     "data": {
      "application/vnd.jupyter.widget-view+json": {
       "model_id": "64ef532c5b5a49f7983d440c49b627da",
       "version_major": 2,
       "version_minor": 0
      },
      "text/plain": [
       "Filtering... #27:   0%|          | 0/1 [00:00<?, ?ba/s]"
      ]
     },
     "metadata": {},
     "output_type": "display_data"
    },
    {
     "data": {
      "application/vnd.jupyter.widget-view+json": {
       "model_id": "764d7f1243c34be79193971046124fbc",
       "version_major": 2,
       "version_minor": 0
      },
      "text/plain": [
       "Filtering... #31:   0%|          | 0/1 [00:00<?, ?ba/s]"
      ]
     },
     "metadata": {},
     "output_type": "display_data"
    },
    {
     "data": {
      "application/vnd.jupyter.widget-view+json": {
       "model_id": "91fe24a617fb4decaeb498fdd02aa818",
       "version_major": 2,
       "version_minor": 0
      },
      "text/plain": [
       "Filtering... #24:   0%|          | 0/1 [00:00<?, ?ba/s]"
      ]
     },
     "metadata": {},
     "output_type": "display_data"
    },
    {
     "data": {
      "application/vnd.jupyter.widget-view+json": {
       "model_id": "b23b226ea6f74ee48a582554d7fb8922",
       "version_major": 2,
       "version_minor": 0
      },
      "text/plain": [
       "Filtering... #29:   0%|          | 0/1 [00:00<?, ?ba/s]"
      ]
     },
     "metadata": {},
     "output_type": "display_data"
    },
    {
     "data": {
      "application/vnd.jupyter.widget-view+json": {
       "model_id": "d4fadb41129c4797a992f3fd7f6b4408",
       "version_major": 2,
       "version_minor": 0
      },
      "text/plain": [
       "Filtering... #30:   0%|          | 0/1 [00:00<?, ?ba/s]"
      ]
     },
     "metadata": {},
     "output_type": "display_data"
    },
    {
     "data": {
      "application/vnd.jupyter.widget-view+json": {
       "model_id": "e9788d4a510e432f8e9d4e8d0aaa2f65",
       "version_major": 2,
       "version_minor": 0
      },
      "text/plain": [
       "Checking for false positives...:   0%|          | 0/8636 [00:00<?, ?it/s]"
      ]
     },
     "metadata": {},
     "output_type": "display_data"
    },
    {
     "name": "stdout",
     "output_type": "stream",
     "text": [
      "       "
     ]
    },
    {
     "data": {
      "application/vnd.jupyter.widget-view+json": {
       "model_id": "43e523e2fa3e499680d7ea363480ff58",
       "version_major": 2,
       "version_minor": 0
      },
      "text/plain": [
       "Fingerprinting... #0:   0%|          | 0/125 [00:00<?, ?ex/s]"
      ]
     },
     "metadata": {},
     "output_type": "display_data"
    },
    {
     "name": "stdout",
     "output_type": "stream",
     "text": [
      " "
     ]
    },
    {
     "data": {
      "application/vnd.jupyter.widget-view+json": {
       "model_id": "ec64994ff1004a838eb310a05a6c0def",
       "version_major": 2,
       "version_minor": 0
      },
      "text/plain": [
       "Fingerprinting... #1:   0%|          | 0/125 [00:00<?, ?ex/s]"
      ]
     },
     "metadata": {},
     "output_type": "display_data"
    },
    {
     "data": {
      "application/vnd.jupyter.widget-view+json": {
       "model_id": "a2c86f2bedc345b58f586536f688dbcd",
       "version_major": 2,
       "version_minor": 0
      },
      "text/plain": [
       "Fingerprinting... #2:   0%|          | 0/125 [00:00<?, ?ex/s]"
      ]
     },
     "metadata": {},
     "output_type": "display_data"
    },
    {
     "data": {
      "application/vnd.jupyter.widget-view+json": {
       "model_id": "019a7bf246654a8cbd06f2e32899290d",
       "version_major": 2,
       "version_minor": 0
      },
      "text/plain": [
       "Fingerprinting... #3:   0%|          | 0/125 [00:00<?, ?ex/s]"
      ]
     },
     "metadata": {},
     "output_type": "display_data"
    },
    {
     "name": "stdout",
     "output_type": "stream",
     "text": [
      "                                             "
     ]
    },
    {
     "data": {
      "application/vnd.jupyter.widget-view+json": {
       "model_id": "46a770a79c3147cda1c402f449c3f3a8",
       "version_major": 2,
       "version_minor": 0
      },
      "text/plain": [
       "Querying... #0:   0%|          | 0/313 [00:00<?, ?ex/s]"
      ]
     },
     "metadata": {},
     "output_type": "display_data"
    },
    {
     "name": "stdout",
     "output_type": "stream",
     "text": [
      " "
     ]
    },
    {
     "data": {
      "application/vnd.jupyter.widget-view+json": {
       "model_id": "7b19f2a5d28a48e28cb6c19a4bc031c4",
       "version_major": 2,
       "version_minor": 0
      },
      "text/plain": [
       "Querying... #1:   0%|          | 0/313 [00:00<?, ?ex/s]"
      ]
     },
     "metadata": {},
     "output_type": "display_data"
    },
    {
     "name": "stdout",
     "output_type": "stream",
     "text": [
      " "
     ]
    },
    {
     "data": {
      "application/vnd.jupyter.widget-view+json": {
       "model_id": "d03315e89ea6493e8766812dec1fe641",
       "version_major": 2,
       "version_minor": 0
      },
      "text/plain": [
       "Querying... #4:   0%|          | 0/313 [00:00<?, ?ex/s]"
      ]
     },
     "metadata": {},
     "output_type": "display_data"
    },
    {
     "data": {
      "application/vnd.jupyter.widget-view+json": {
       "model_id": "e5bcc863895c438a8ec540b0ff97f0f4",
       "version_major": 2,
       "version_minor": 0
      },
      "text/plain": [
       "Querying... #2:   0%|          | 0/313 [00:00<?, ?ex/s]"
      ]
     },
     "metadata": {},
     "output_type": "display_data"
    },
    {
     "name": "stdout",
     "output_type": "stream",
     "text": [
      "   "
     ]
    },
    {
     "data": {
      "application/vnd.jupyter.widget-view+json": {
       "model_id": "1e921f3c2050465cb723d9da723a1579",
       "version_major": 2,
       "version_minor": 0
      },
      "text/plain": [
       "Querying... #3:   0%|          | 0/313 [00:00<?, ?ex/s]"
      ]
     },
     "metadata": {},
     "output_type": "display_data"
    },
    {
     "data": {
      "application/vnd.jupyter.widget-view+json": {
       "model_id": "4a34b9cac0a34233b6a93ed92bd5d119",
       "version_major": 2,
       "version_minor": 0
      },
      "text/plain": [
       "Querying... #5:   0%|          | 0/313 [00:00<?, ?ex/s]"
      ]
     },
     "metadata": {},
     "output_type": "display_data"
    },
    {
     "name": "stdout",
     "output_type": "stream",
     "text": [
      "  "
     ]
    },
    {
     "data": {
      "application/vnd.jupyter.widget-view+json": {
       "model_id": "bb7d2970f53d422cb210b5a46b2cf621",
       "version_major": 2,
       "version_minor": 0
      },
      "text/plain": [
       "Querying... #7:   0%|          | 0/313 [00:00<?, ?ex/s]"
      ]
     },
     "metadata": {},
     "output_type": "display_data"
    },
    {
     "data": {
      "application/vnd.jupyter.widget-view+json": {
       "model_id": "0220fad6eed943e2991db8b9b1a7adb8",
       "version_major": 2,
       "version_minor": 0
      },
      "text/plain": [
       "Querying... #6:   0%|          | 0/313 [00:00<?, ?ex/s]"
      ]
     },
     "metadata": {},
     "output_type": "display_data"
    },
    {
     "name": "stdout",
     "output_type": "stream",
     "text": [
      " "
     ]
    },
    {
     "data": {
      "application/vnd.jupyter.widget-view+json": {
       "model_id": "8cd6f552ad904964aa29c0daf4fc8bdb",
       "version_major": 2,
       "version_minor": 0
      },
      "text/plain": [
       "Querying... #10:   0%|          | 0/313 [00:00<?, ?ex/s]"
      ]
     },
     "metadata": {},
     "output_type": "display_data"
    },
    {
     "data": {
      "application/vnd.jupyter.widget-view+json": {
       "model_id": "e3a5c913f0f34eed9a0da67cc99c8c2c",
       "version_major": 2,
       "version_minor": 0
      },
      "text/plain": [
       "Querying... #9:   0%|          | 0/313 [00:00<?, ?ex/s]"
      ]
     },
     "metadata": {},
     "output_type": "display_data"
    },
    {
     "name": "stdout",
     "output_type": "stream",
     "text": [
      "  "
     ]
    },
    {
     "data": {
      "application/vnd.jupyter.widget-view+json": {
       "model_id": "f1a9cd667b5c4a9ea5b5cbe83cc2dc4f",
       "version_major": 2,
       "version_minor": 0
      },
      "text/plain": [
       "Querying... #8:   0%|          | 0/313 [00:00<?, ?ex/s]"
      ]
     },
     "metadata": {},
     "output_type": "display_data"
    },
    {
     "data": {
      "application/vnd.jupyter.widget-view+json": {
       "model_id": "710153eff6054c9baa21a0f2e35074c1",
       "version_major": 2,
       "version_minor": 0
      },
      "text/plain": [
       "Querying... #12:   0%|          | 0/313 [00:00<?, ?ex/s]"
      ]
     },
     "metadata": {},
     "output_type": "display_data"
    },
    {
     "data": {
      "application/vnd.jupyter.widget-view+json": {
       "model_id": "03009d1aecc74defbee645d971a26fd3",
       "version_major": 2,
       "version_minor": 0
      },
      "text/plain": [
       "Querying... #13:   0%|          | 0/313 [00:00<?, ?ex/s]"
      ]
     },
     "metadata": {},
     "output_type": "display_data"
    },
    {
     "name": "stdout",
     "output_type": "stream",
     "text": [
      " "
     ]
    },
    {
     "data": {
      "application/vnd.jupyter.widget-view+json": {
       "model_id": "ee373b4aeec84ab3a749b0ba7b0dab0d",
       "version_major": 2,
       "version_minor": 0
      },
      "text/plain": [
       "Querying... #14:   0%|          | 0/313 [00:00<?, ?ex/s]"
      ]
     },
     "metadata": {},
     "output_type": "display_data"
    },
    {
     "name": "stdout",
     "output_type": "stream",
     "text": [
      "  "
     ]
    },
    {
     "data": {
      "application/vnd.jupyter.widget-view+json": {
       "model_id": "f13a538e869c49248147507d939a83a9",
       "version_major": 2,
       "version_minor": 0
      },
      "text/plain": [
       "Querying... #17:   0%|          | 0/312 [00:00<?, ?ex/s]"
      ]
     },
     "metadata": {},
     "output_type": "display_data"
    },
    {
     "name": "stdout",
     "output_type": "stream",
     "text": [
      " "
     ]
    },
    {
     "data": {
      "application/vnd.jupyter.widget-view+json": {
       "model_id": "d9a3c287603648c1bbb94014574fe07a",
       "version_major": 2,
       "version_minor": 0
      },
      "text/plain": [
       "Querying... #11:   0%|          | 0/313 [00:00<?, ?ex/s]"
      ]
     },
     "metadata": {},
     "output_type": "display_data"
    },
    {
     "name": "stdout",
     "output_type": "stream",
     "text": [
      "   "
     ]
    },
    {
     "data": {
      "application/vnd.jupyter.widget-view+json": {
       "model_id": "50a9a7fde6f34ac295eec3da17dee971",
       "version_major": 2,
       "version_minor": 0
      },
      "text/plain": [
       "Querying... #16:   0%|          | 0/312 [00:00<?, ?ex/s]"
      ]
     },
     "metadata": {},
     "output_type": "display_data"
    },
    {
     "data": {
      "application/vnd.jupyter.widget-view+json": {
       "model_id": "3e4bbc6b170042788127789717579f9b",
       "version_major": 2,
       "version_minor": 0
      },
      "text/plain": [
       "Querying... #20:   0%|          | 0/312 [00:00<?, ?ex/s]"
      ]
     },
     "metadata": {},
     "output_type": "display_data"
    },
    {
     "data": {
      "application/vnd.jupyter.widget-view+json": {
       "model_id": "3bb5b4bbc8d44f2c9583a2b74eec6a85",
       "version_major": 2,
       "version_minor": 0
      },
      "text/plain": [
       "Querying... #15:   0%|          | 0/313 [00:00<?, ?ex/s]"
      ]
     },
     "metadata": {},
     "output_type": "display_data"
    },
    {
     "data": {
      "application/vnd.jupyter.widget-view+json": {
       "model_id": "c6e5c4f2e7254072b7c5c87f9cd8c33b",
       "version_major": 2,
       "version_minor": 0
      },
      "text/plain": [
       "Querying... #18:   0%|          | 0/312 [00:00<?, ?ex/s]"
      ]
     },
     "metadata": {},
     "output_type": "display_data"
    },
    {
     "data": {
      "application/vnd.jupyter.widget-view+json": {
       "model_id": "d94e4162659d435fbf282a230d7ffb26",
       "version_major": 2,
       "version_minor": 0
      },
      "text/plain": [
       "Querying... #22:   0%|          | 0/312 [00:00<?, ?ex/s]"
      ]
     },
     "metadata": {},
     "output_type": "display_data"
    },
    {
     "data": {
      "application/vnd.jupyter.widget-view+json": {
       "model_id": "4832493d42514ec09729b74081a95a7e",
       "version_major": 2,
       "version_minor": 0
      },
      "text/plain": [
       "Querying... #26:   0%|          | 0/312 [00:00<?, ?ex/s]"
      ]
     },
     "metadata": {},
     "output_type": "display_data"
    },
    {
     "data": {
      "application/vnd.jupyter.widget-view+json": {
       "model_id": "0b8b7744473f4c1bb661360561c14636",
       "version_major": 2,
       "version_minor": 0
      },
      "text/plain": [
       "Querying... #23:   0%|          | 0/312 [00:00<?, ?ex/s]"
      ]
     },
     "metadata": {},
     "output_type": "display_data"
    },
    {
     "data": {
      "application/vnd.jupyter.widget-view+json": {
       "model_id": "fc56ed97c870439986c22e77a2fd66a2",
       "version_major": 2,
       "version_minor": 0
      },
      "text/plain": [
       "Querying... #21:   0%|          | 0/312 [00:00<?, ?ex/s]"
      ]
     },
     "metadata": {},
     "output_type": "display_data"
    },
    {
     "name": "stdout",
     "output_type": "stream",
     "text": [
      " "
     ]
    },
    {
     "data": {
      "application/vnd.jupyter.widget-view+json": {
       "model_id": "71c86be37cfd41d0949f736e8c3cfdc2",
       "version_major": 2,
       "version_minor": 0
      },
      "text/plain": [
       "Querying... #19:   0%|          | 0/312 [00:00<?, ?ex/s]"
      ]
     },
     "metadata": {},
     "output_type": "display_data"
    },
    {
     "name": "stdout",
     "output_type": "stream",
     "text": [
      " "
     ]
    },
    {
     "data": {
      "application/vnd.jupyter.widget-view+json": {
       "model_id": "12422d291c734a2b926cbcd082f2b295",
       "version_major": 2,
       "version_minor": 0
      },
      "text/plain": [
       "Querying... #31:   0%|          | 0/312 [00:00<?, ?ex/s]"
      ]
     },
     "metadata": {},
     "output_type": "display_data"
    },
    {
     "data": {
      "application/vnd.jupyter.widget-view+json": {
       "model_id": "c173cea3c94d4d03b430ca335e41181f",
       "version_major": 2,
       "version_minor": 0
      },
      "text/plain": [
       "Querying... #30:   0%|          | 0/312 [00:00<?, ?ex/s]"
      ]
     },
     "metadata": {},
     "output_type": "display_data"
    },
    {
     "data": {
      "application/vnd.jupyter.widget-view+json": {
       "model_id": "b3e2f239364942fc92108b74a80cb907",
       "version_major": 2,
       "version_minor": 0
      },
      "text/plain": [
       "Querying... #29:   0%|          | 0/312 [00:00<?, ?ex/s]"
      ]
     },
     "metadata": {},
     "output_type": "display_data"
    },
    {
     "data": {
      "application/vnd.jupyter.widget-view+json": {
       "model_id": "a48cd5cb96284e5aaf933ee96cdaefe1",
       "version_major": 2,
       "version_minor": 0
      },
      "text/plain": [
       "Querying... #27:   0%|          | 0/312 [00:00<?, ?ex/s]"
      ]
     },
     "metadata": {},
     "output_type": "display_data"
    },
    {
     "data": {
      "application/vnd.jupyter.widget-view+json": {
       "model_id": "d31266c2f4634739be526f576129bc27",
       "version_major": 2,
       "version_minor": 0
      },
      "text/plain": [
       "Querying... #28:   0%|          | 0/312 [00:00<?, ?ex/s]"
      ]
     },
     "metadata": {},
     "output_type": "display_data"
    },
    {
     "data": {
      "application/vnd.jupyter.widget-view+json": {
       "model_id": "bc809268f442412c8723842260496c39",
       "version_major": 2,
       "version_minor": 0
      },
      "text/plain": [
       "Querying... #25:   0%|          | 0/312 [00:00<?, ?ex/s]"
      ]
     },
     "metadata": {},
     "output_type": "display_data"
    },
    {
     "data": {
      "application/vnd.jupyter.widget-view+json": {
       "model_id": "826b38ecce4a424b81ad37e10a3ab94a",
       "version_major": 2,
       "version_minor": 0
      },
      "text/plain": [
       "Querying... #24:   0%|          | 0/312 [00:00<?, ?ex/s]"
      ]
     },
     "metadata": {},
     "output_type": "display_data"
    },
    {
     "name": "stdout",
     "output_type": "stream",
     "text": [
      "                                   "
     ]
    },
    {
     "data": {
      "application/vnd.jupyter.widget-view+json": {
       "model_id": "8fe381032a664e5d914dc88a2e73dd50",
       "version_major": 2,
       "version_minor": 0
      },
      "text/plain": [
       "Filtering... #0:   0%|          | 0/1 [00:00<?, ?ba/s]"
      ]
     },
     "metadata": {},
     "output_type": "display_data"
    },
    {
     "data": {
      "application/vnd.jupyter.widget-view+json": {
       "model_id": "0ca2a748e6a94455a675bbc7494b2bbb",
       "version_major": 2,
       "version_minor": 0
      },
      "text/plain": [
       "Filtering... #1:   0%|          | 0/1 [00:00<?, ?ba/s]"
      ]
     },
     "metadata": {},
     "output_type": "display_data"
    },
    {
     "name": "stdout",
     "output_type": "stream",
     "text": [
      " "
     ]
    },
    {
     "data": {
      "application/vnd.jupyter.widget-view+json": {
       "model_id": "0674725eb9e24cdeafaa76e6bc95bacb",
       "version_major": 2,
       "version_minor": 0
      },
      "text/plain": [
       "Filtering... #2:   0%|          | 0/1 [00:00<?, ?ba/s]"
      ]
     },
     "metadata": {},
     "output_type": "display_data"
    },
    {
     "name": "stdout",
     "output_type": "stream",
     "text": [
      " "
     ]
    },
    {
     "data": {
      "application/vnd.jupyter.widget-view+json": {
       "model_id": "05637073d6c54aff95c25b982fe47df8",
       "version_major": 2,
       "version_minor": 0
      },
      "text/plain": [
       "Filtering... #3:   0%|          | 0/1 [00:00<?, ?ba/s]"
      ]
     },
     "metadata": {},
     "output_type": "display_data"
    },
    {
     "name": "stdout",
     "output_type": "stream",
     "text": [
      " "
     ]
    },
    {
     "data": {
      "application/vnd.jupyter.widget-view+json": {
       "model_id": "7f5989647dc145c7a27c60d84665b395",
       "version_major": 2,
       "version_minor": 0
      },
      "text/plain": [
       "Filtering... #4:   0%|          | 0/1 [00:00<?, ?ba/s]"
      ]
     },
     "metadata": {},
     "output_type": "display_data"
    },
    {
     "name": "stdout",
     "output_type": "stream",
     "text": [
      " "
     ]
    },
    {
     "data": {
      "application/vnd.jupyter.widget-view+json": {
       "model_id": "9eba04095c1f4982bfc6327f57fe2fa5",
       "version_major": 2,
       "version_minor": 0
      },
      "text/plain": [
       "Filtering... #5:   0%|          | 0/1 [00:00<?, ?ba/s]"
      ]
     },
     "metadata": {},
     "output_type": "display_data"
    },
    {
     "name": "stdout",
     "output_type": "stream",
     "text": [
      "  "
     ]
    },
    {
     "data": {
      "application/vnd.jupyter.widget-view+json": {
       "model_id": "88dcedd0c3934940b79f10af1c01c174",
       "version_major": 2,
       "version_minor": 0
      },
      "text/plain": [
       "Filtering... #6:   0%|          | 0/1 [00:00<?, ?ba/s]"
      ]
     },
     "metadata": {},
     "output_type": "display_data"
    },
    {
     "data": {
      "application/vnd.jupyter.widget-view+json": {
       "model_id": "d4e92b2d83534cd59302a9071faadf8d",
       "version_major": 2,
       "version_minor": 0
      },
      "text/plain": [
       "Filtering... #7:   0%|          | 0/1 [00:00<?, ?ba/s]"
      ]
     },
     "metadata": {},
     "output_type": "display_data"
    },
    {
     "name": "stdout",
     "output_type": "stream",
     "text": [
      "  "
     ]
    },
    {
     "data": {
      "application/vnd.jupyter.widget-view+json": {
       "model_id": "c1fd1b309b3c4338bf0c1625fec6e4ba",
       "version_major": 2,
       "version_minor": 0
      },
      "text/plain": [
       "Filtering... #8:   0%|          | 0/1 [00:00<?, ?ba/s]"
      ]
     },
     "metadata": {},
     "output_type": "display_data"
    },
    {
     "name": "stdout",
     "output_type": "stream",
     "text": [
      " "
     ]
    },
    {
     "data": {
      "application/vnd.jupyter.widget-view+json": {
       "model_id": "406223f9993d47fa9d86ffb8cc917b17",
       "version_major": 2,
       "version_minor": 0
      },
      "text/plain": [
       "Filtering... #9:   0%|          | 0/1 [00:00<?, ?ba/s]"
      ]
     },
     "metadata": {},
     "output_type": "display_data"
    },
    {
     "name": "stdout",
     "output_type": "stream",
     "text": [
      " "
     ]
    },
    {
     "data": {
      "application/vnd.jupyter.widget-view+json": {
       "model_id": "fb45ec0abbc8405ca104cbe42250fe23",
       "version_major": 2,
       "version_minor": 0
      },
      "text/plain": [
       "Filtering... #10:   0%|          | 0/1 [00:00<?, ?ba/s]"
      ]
     },
     "metadata": {},
     "output_type": "display_data"
    },
    {
     "name": "stdout",
     "output_type": "stream",
     "text": [
      " "
     ]
    },
    {
     "data": {
      "application/vnd.jupyter.widget-view+json": {
       "model_id": "dc3baabec70e41f5b1353d2e3bc30ccc",
       "version_major": 2,
       "version_minor": 0
      },
      "text/plain": [
       "Filtering... #11:   0%|          | 0/1 [00:00<?, ?ba/s]"
      ]
     },
     "metadata": {},
     "output_type": "display_data"
    },
    {
     "name": "stdout",
     "output_type": "stream",
     "text": [
      " "
     ]
    },
    {
     "data": {
      "application/vnd.jupyter.widget-view+json": {
       "model_id": "f2ca823b7f4446f79ed078823c787653",
       "version_major": 2,
       "version_minor": 0
      },
      "text/plain": [
       "Filtering... #12:   0%|          | 0/1 [00:00<?, ?ba/s]"
      ]
     },
     "metadata": {},
     "output_type": "display_data"
    },
    {
     "name": "stdout",
     "output_type": "stream",
     "text": [
      " "
     ]
    },
    {
     "data": {
      "application/vnd.jupyter.widget-view+json": {
       "model_id": "a8bc119920e44d83bcb11855f5ebf289",
       "version_major": 2,
       "version_minor": 0
      },
      "text/plain": [
       "Filtering... #13:   0%|          | 0/1 [00:00<?, ?ba/s]"
      ]
     },
     "metadata": {},
     "output_type": "display_data"
    },
    {
     "data": {
      "application/vnd.jupyter.widget-view+json": {
       "model_id": "aca2b42e9af74b5eb7212d7e1ce02b1f",
       "version_major": 2,
       "version_minor": 0
      },
      "text/plain": [
       "Filtering... #14:   0%|          | 0/1 [00:00<?, ?ba/s]"
      ]
     },
     "metadata": {},
     "output_type": "display_data"
    },
    {
     "name": "stdout",
     "output_type": "stream",
     "text": [
      " "
     ]
    },
    {
     "data": {
      "application/vnd.jupyter.widget-view+json": {
       "model_id": "269a142a2615438d99aa4dfbf3888dd8",
       "version_major": 2,
       "version_minor": 0
      },
      "text/plain": [
       "Filtering... #15:   0%|          | 0/1 [00:00<?, ?ba/s]"
      ]
     },
     "metadata": {},
     "output_type": "display_data"
    },
    {
     "name": "stdout",
     "output_type": "stream",
     "text": [
      " "
     ]
    },
    {
     "data": {
      "application/vnd.jupyter.widget-view+json": {
       "model_id": "2f8fb61ca02548cc8fb6f12f071032cf",
       "version_major": 2,
       "version_minor": 0
      },
      "text/plain": [
       "Filtering... #16:   0%|          | 0/1 [00:00<?, ?ba/s]"
      ]
     },
     "metadata": {},
     "output_type": "display_data"
    },
    {
     "name": "stdout",
     "output_type": "stream",
     "text": [
      " "
     ]
    },
    {
     "data": {
      "application/vnd.jupyter.widget-view+json": {
       "model_id": "2735b635a51744c8b709c1172ad36c42",
       "version_major": 2,
       "version_minor": 0
      },
      "text/plain": [
       "Filtering... #17:   0%|          | 0/1 [00:00<?, ?ba/s]"
      ]
     },
     "metadata": {},
     "output_type": "display_data"
    },
    {
     "name": "stdout",
     "output_type": "stream",
     "text": [
      "  "
     ]
    },
    {
     "data": {
      "application/vnd.jupyter.widget-view+json": {
       "model_id": "7895008dcf0a48e898a48a574bc0a06e",
       "version_major": 2,
       "version_minor": 0
      },
      "text/plain": [
       "Filtering... #18:   0%|          | 0/1 [00:00<?, ?ba/s]"
      ]
     },
     "metadata": {},
     "output_type": "display_data"
    },
    {
     "name": "stdout",
     "output_type": "stream",
     "text": [
      " "
     ]
    },
    {
     "data": {
      "application/vnd.jupyter.widget-view+json": {
       "model_id": "d27b8158ba5f4cc59f460229d4e880ed",
       "version_major": 2,
       "version_minor": 0
      },
      "text/plain": [
       "Filtering... #19:   0%|          | 0/1 [00:00<?, ?ba/s]"
      ]
     },
     "metadata": {},
     "output_type": "display_data"
    },
    {
     "data": {
      "application/vnd.jupyter.widget-view+json": {
       "model_id": "7e46fcfd192d47839423fc6173a20dcd",
       "version_major": 2,
       "version_minor": 0
      },
      "text/plain": [
       "Filtering... #20:   0%|          | 0/1 [00:00<?, ?ba/s]"
      ]
     },
     "metadata": {},
     "output_type": "display_data"
    },
    {
     "name": "stdout",
     "output_type": "stream",
     "text": [
      "  "
     ]
    },
    {
     "data": {
      "application/vnd.jupyter.widget-view+json": {
       "model_id": "1ead3ed36b9b4457b002e4b424eb3bc9",
       "version_major": 2,
       "version_minor": 0
      },
      "text/plain": [
       "Filtering... #21:   0%|          | 0/1 [00:00<?, ?ba/s]"
      ]
     },
     "metadata": {},
     "output_type": "display_data"
    },
    {
     "data": {
      "application/vnd.jupyter.widget-view+json": {
       "model_id": "cf0250839c2e49a6acec7bad3f126f34",
       "version_major": 2,
       "version_minor": 0
      },
      "text/plain": [
       "Filtering... #22:   0%|          | 0/1 [00:00<?, ?ba/s]"
      ]
     },
     "metadata": {},
     "output_type": "display_data"
    },
    {
     "data": {
      "application/vnd.jupyter.widget-view+json": {
       "model_id": "5c1686a9d8fa484db1b86c7432d9885c",
       "version_major": 2,
       "version_minor": 0
      },
      "text/plain": [
       "Filtering... #23:   0%|          | 0/1 [00:00<?, ?ba/s]"
      ]
     },
     "metadata": {},
     "output_type": "display_data"
    },
    {
     "name": "stdout",
     "output_type": "stream",
     "text": [
      "  "
     ]
    },
    {
     "data": {
      "application/vnd.jupyter.widget-view+json": {
       "model_id": "b8696218c8bc4188b710d9bd70062607",
       "version_major": 2,
       "version_minor": 0
      },
      "text/plain": [
       "Filtering... #26:   0%|          | 0/1 [00:00<?, ?ba/s]"
      ]
     },
     "metadata": {},
     "output_type": "display_data"
    },
    {
     "name": "stdout",
     "output_type": "stream",
     "text": [
      "  "
     ]
    },
    {
     "data": {
      "application/vnd.jupyter.widget-view+json": {
       "model_id": "abe0c7a279bd47d6897458ca1a40afda",
       "version_major": 2,
       "version_minor": 0
      },
      "text/plain": [
       "Filtering... #27:   0%|          | 0/1 [00:00<?, ?ba/s]"
      ]
     },
     "metadata": {},
     "output_type": "display_data"
    },
    {
     "name": "stdout",
     "output_type": "stream",
     "text": [
      "  "
     ]
    },
    {
     "data": {
      "application/vnd.jupyter.widget-view+json": {
       "model_id": "6ea4fff8c6ff445cac562b099a545a95",
       "version_major": 2,
       "version_minor": 0
      },
      "text/plain": [
       "Filtering... #28:   0%|          | 0/1 [00:00<?, ?ba/s]"
      ]
     },
     "metadata": {},
     "output_type": "display_data"
    },
    {
     "data": {
      "application/vnd.jupyter.widget-view+json": {
       "model_id": "55e964f4e17f4133ade5d97176a9fa13",
       "version_major": 2,
       "version_minor": 0
      },
      "text/plain": [
       "Filtering... #24:   0%|          | 0/1 [00:00<?, ?ba/s]"
      ]
     },
     "metadata": {},
     "output_type": "display_data"
    },
    {
     "name": "stdout",
     "output_type": "stream",
     "text": [
      " "
     ]
    },
    {
     "data": {
      "application/vnd.jupyter.widget-view+json": {
       "model_id": "0ebb2837ce784c58be7c5192946e5f13",
       "version_major": 2,
       "version_minor": 0
      },
      "text/plain": [
       "Filtering... #25:   0%|          | 0/1 [00:00<?, ?ba/s]"
      ]
     },
     "metadata": {},
     "output_type": "display_data"
    },
    {
     "data": {
      "application/vnd.jupyter.widget-view+json": {
       "model_id": "40fa36707f184d4fb70bf9ac48d11695",
       "version_major": 2,
       "version_minor": 0
      },
      "text/plain": [
       "Filtering... #29:   0%|          | 0/1 [00:00<?, ?ba/s]"
      ]
     },
     "metadata": {},
     "output_type": "display_data"
    },
    {
     "name": "stdout",
     "output_type": "stream",
     "text": [
      " "
     ]
    },
    {
     "data": {
      "application/vnd.jupyter.widget-view+json": {
       "model_id": "8aad6377956f426baf443c9e67c57f9a",
       "version_major": 2,
       "version_minor": 0
      },
      "text/plain": [
       "Filtering... #30:   0%|          | 0/1 [00:00<?, ?ba/s]"
      ]
     },
     "metadata": {},
     "output_type": "display_data"
    },
    {
     "data": {
      "application/vnd.jupyter.widget-view+json": {
       "model_id": "04151b1ce9794ebf9f30eb56fc0ea3e5",
       "version_major": 2,
       "version_minor": 0
      },
      "text/plain": [
       "Filtering... #31:   0%|          | 0/1 [00:00<?, ?ba/s]"
      ]
     },
     "metadata": {},
     "output_type": "display_data"
    },
    {
     "data": {
      "application/vnd.jupyter.widget-view+json": {
       "model_id": "eb7e50cb7b5c43828ceb8384ddfa9bb4",
       "version_major": 2,
       "version_minor": 0
      },
      "text/plain": [
       "Checking for false positives...:   0%|          | 0/8360 [00:00<?, ?it/s]"
      ]
     },
     "metadata": {},
     "output_type": "display_data"
    },
    {
     "name": "stdout",
     "output_type": "stream",
     "text": [
      "       "
     ]
    },
    {
     "data": {
      "application/vnd.jupyter.widget-view+json": {
       "model_id": "572d398e8b124993bf50dd6db968f543",
       "version_major": 2,
       "version_minor": 0
      },
      "text/plain": [
       "Fingerprinting... #0:   0%|          | 0/23 [00:00<?, ?ex/s]"
      ]
     },
     "metadata": {},
     "output_type": "display_data"
    },
    {
     "name": "stdout",
     "output_type": "stream",
     "text": [
      " "
     ]
    },
    {
     "data": {
      "application/vnd.jupyter.widget-view+json": {
       "model_id": "e5b8cfee2a384a9c85459f2e63dbf4a7",
       "version_major": 2,
       "version_minor": 0
      },
      "text/plain": [
       "Fingerprinting... #1:   0%|          | 0/23 [00:00<?, ?ex/s]"
      ]
     },
     "metadata": {},
     "output_type": "display_data"
    },
    {
     "data": {
      "application/vnd.jupyter.widget-view+json": {
       "model_id": "76b4990db591426487fa2a0dbba561b1",
       "version_major": 2,
       "version_minor": 0
      },
      "text/plain": [
       "Fingerprinting... #2:   0%|          | 0/22 [00:00<?, ?ex/s]"
      ]
     },
     "metadata": {},
     "output_type": "display_data"
    },
    {
     "data": {
      "application/vnd.jupyter.widget-view+json": {
       "model_id": "6601898bd7f6421081b846e496eb192e",
       "version_major": 2,
       "version_minor": 0
      },
      "text/plain": [
       "Fingerprinting... #3:   0%|          | 0/22 [00:00<?, ?ex/s]"
      ]
     },
     "metadata": {},
     "output_type": "display_data"
    },
    {
     "name": "stdout",
     "output_type": "stream",
     "text": [
      "                                           "
     ]
    },
    {
     "data": {
      "application/vnd.jupyter.widget-view+json": {
       "model_id": "92ea589e737e40d5a44d06432fa4a43b",
       "version_major": 2,
       "version_minor": 0
      },
      "text/plain": [
       "Querying... #1:   0%|          | 0/313 [00:00<?, ?ex/s]"
      ]
     },
     "metadata": {},
     "output_type": "display_data"
    },
    {
     "name": "stdout",
     "output_type": "stream",
     "text": [
      "  "
     ]
    },
    {
     "data": {
      "application/vnd.jupyter.widget-view+json": {
       "model_id": "1748966942a94ba2b0734dd9f2e5ca76",
       "version_major": 2,
       "version_minor": 0
      },
      "text/plain": [
       "Querying... #0:   0%|          | 0/313 [00:00<?, ?ex/s]"
      ]
     },
     "metadata": {},
     "output_type": "display_data"
    },
    {
     "data": {
      "application/vnd.jupyter.widget-view+json": {
       "model_id": "06b7d31e4ac84255a8eec7bd34127956",
       "version_major": 2,
       "version_minor": 0
      },
      "text/plain": [
       "Querying... #2:   0%|          | 0/313 [00:00<?, ?ex/s]"
      ]
     },
     "metadata": {},
     "output_type": "display_data"
    },
    {
     "data": {
      "application/vnd.jupyter.widget-view+json": {
       "model_id": "6ba9bcbc3a5245acbcd5e237e82b2f86",
       "version_major": 2,
       "version_minor": 0
      },
      "text/plain": [
       "Querying... #3:   0%|          | 0/313 [00:00<?, ?ex/s]"
      ]
     },
     "metadata": {},
     "output_type": "display_data"
    },
    {
     "name": "stdout",
     "output_type": "stream",
     "text": [
      "  "
     ]
    },
    {
     "data": {
      "application/vnd.jupyter.widget-view+json": {
       "model_id": "6e3e9b4da86246919e3b358bb77a36ec",
       "version_major": 2,
       "version_minor": 0
      },
      "text/plain": [
       "Querying... #4:   0%|          | 0/313 [00:00<?, ?ex/s]"
      ]
     },
     "metadata": {},
     "output_type": "display_data"
    },
    {
     "name": "stdout",
     "output_type": "stream",
     "text": [
      "   "
     ]
    },
    {
     "data": {
      "application/vnd.jupyter.widget-view+json": {
       "model_id": "b88b1cf98c6e42289bbc1d8d09077da1",
       "version_major": 2,
       "version_minor": 0
      },
      "text/plain": [
       "Querying... #7:   0%|          | 0/313 [00:00<?, ?ex/s]"
      ]
     },
     "metadata": {},
     "output_type": "display_data"
    },
    {
     "name": "stdout",
     "output_type": "stream",
     "text": [
      " "
     ]
    },
    {
     "data": {
      "application/vnd.jupyter.widget-view+json": {
       "model_id": "78252573946949aa9a54d971e8b50e6e",
       "version_major": 2,
       "version_minor": 0
      },
      "text/plain": [
       "Querying... #6:   0%|          | 0/313 [00:00<?, ?ex/s]"
      ]
     },
     "metadata": {},
     "output_type": "display_data"
    },
    {
     "name": "stdout",
     "output_type": "stream",
     "text": [
      "  "
     ]
    },
    {
     "data": {
      "application/vnd.jupyter.widget-view+json": {
       "model_id": "5854ecf2c2fd4d68bbb7b7fe66739f3a",
       "version_major": 2,
       "version_minor": 0
      },
      "text/plain": [
       "Querying... #10:   0%|          | 0/313 [00:00<?, ?ex/s]"
      ]
     },
     "metadata": {},
     "output_type": "display_data"
    },
    {
     "name": "stdout",
     "output_type": "stream",
     "text": [
      " "
     ]
    },
    {
     "data": {
      "application/vnd.jupyter.widget-view+json": {
       "model_id": "be42a6590ee54215bfd92aefb324466c",
       "version_major": 2,
       "version_minor": 0
      },
      "text/plain": [
       "Querying... #9:   0%|          | 0/313 [00:00<?, ?ex/s]"
      ]
     },
     "metadata": {},
     "output_type": "display_data"
    },
    {
     "data": {
      "application/vnd.jupyter.widget-view+json": {
       "model_id": "dc9439c87dfb48c0b95326c001c4bcae",
       "version_major": 2,
       "version_minor": 0
      },
      "text/plain": [
       "Querying... #5:   0%|          | 0/313 [00:00<?, ?ex/s]"
      ]
     },
     "metadata": {},
     "output_type": "display_data"
    },
    {
     "name": "stdout",
     "output_type": "stream",
     "text": [
      "  "
     ]
    },
    {
     "data": {
      "application/vnd.jupyter.widget-view+json": {
       "model_id": "dcf1ac4510ce478b9cfb88edc3fee6f3",
       "version_major": 2,
       "version_minor": 0
      },
      "text/plain": [
       "Querying... #13:   0%|          | 0/313 [00:00<?, ?ex/s]"
      ]
     },
     "metadata": {},
     "output_type": "display_data"
    },
    {
     "data": {
      "application/vnd.jupyter.widget-view+json": {
       "model_id": "100fcd3202df463dac32a9b4d216ea43",
       "version_major": 2,
       "version_minor": 0
      },
      "text/plain": [
       "Querying... #16:   0%|          | 0/312 [00:00<?, ?ex/s]"
      ]
     },
     "metadata": {},
     "output_type": "display_data"
    },
    {
     "data": {
      "application/vnd.jupyter.widget-view+json": {
       "model_id": "1fed0dc5dbde4a22aea7b3466bf3563b",
       "version_major": 2,
       "version_minor": 0
      },
      "text/plain": [
       "Querying... #11:   0%|          | 0/313 [00:00<?, ?ex/s]"
      ]
     },
     "metadata": {},
     "output_type": "display_data"
    },
    {
     "data": {
      "application/vnd.jupyter.widget-view+json": {
       "model_id": "f12b75883e874dedb12b6ddb46533df5",
       "version_major": 2,
       "version_minor": 0
      },
      "text/plain": [
       "Querying... #14:   0%|          | 0/313 [00:00<?, ?ex/s]"
      ]
     },
     "metadata": {},
     "output_type": "display_data"
    },
    {
     "data": {
      "application/vnd.jupyter.widget-view+json": {
       "model_id": "e5667a1785d248e6b811600d6f512e27",
       "version_major": 2,
       "version_minor": 0
      },
      "text/plain": [
       "Querying... #15:   0%|          | 0/313 [00:00<?, ?ex/s]"
      ]
     },
     "metadata": {},
     "output_type": "display_data"
    },
    {
     "data": {
      "application/vnd.jupyter.widget-view+json": {
       "model_id": "7663ae1876e24ac6a4e9dd7a21ad689c",
       "version_major": 2,
       "version_minor": 0
      },
      "text/plain": [
       "Querying... #12:   0%|          | 0/313 [00:00<?, ?ex/s]"
      ]
     },
     "metadata": {},
     "output_type": "display_data"
    },
    {
     "name": "stdout",
     "output_type": "stream",
     "text": [
      " "
     ]
    },
    {
     "data": {
      "application/vnd.jupyter.widget-view+json": {
       "model_id": "b36f70f0c605475c9de88b6601657d91",
       "version_major": 2,
       "version_minor": 0
      },
      "text/plain": [
       "Querying... #18:   0%|          | 0/312 [00:00<?, ?ex/s]"
      ]
     },
     "metadata": {},
     "output_type": "display_data"
    },
    {
     "name": "stdout",
     "output_type": "stream",
     "text": [
      " "
     ]
    },
    {
     "data": {
      "application/vnd.jupyter.widget-view+json": {
       "model_id": "b49e19fd8e8d456297367be940408528",
       "version_major": 2,
       "version_minor": 0
      },
      "text/plain": [
       "Querying... #8:   0%|          | 0/313 [00:00<?, ?ex/s]"
      ]
     },
     "metadata": {},
     "output_type": "display_data"
    },
    {
     "data": {
      "application/vnd.jupyter.widget-view+json": {
       "model_id": "b98a592ef71c45469ba6348df619cec9",
       "version_major": 2,
       "version_minor": 0
      },
      "text/plain": [
       "Querying... #17:   0%|          | 0/312 [00:00<?, ?ex/s]"
      ]
     },
     "metadata": {},
     "output_type": "display_data"
    },
    {
     "name": "stdout",
     "output_type": "stream",
     "text": [
      "    "
     ]
    },
    {
     "data": {
      "application/vnd.jupyter.widget-view+json": {
       "model_id": "cf6476e9f9ad4778a6aa074ddb597140",
       "version_major": 2,
       "version_minor": 0
      },
      "text/plain": [
       "Querying... #21:   0%|          | 0/312 [00:00<?, ?ex/s]"
      ]
     },
     "metadata": {},
     "output_type": "display_data"
    },
    {
     "data": {
      "application/vnd.jupyter.widget-view+json": {
       "model_id": "764fb0136e234e4788178b4c252f8816",
       "version_major": 2,
       "version_minor": 0
      },
      "text/plain": [
       "Querying... #19:   0%|          | 0/312 [00:00<?, ?ex/s]"
      ]
     },
     "metadata": {},
     "output_type": "display_data"
    },
    {
     "name": "stdout",
     "output_type": "stream",
     "text": [
      "  "
     ]
    },
    {
     "data": {
      "application/vnd.jupyter.widget-view+json": {
       "model_id": "fdfd117a7f6f4ff08972acad3d231855",
       "version_major": 2,
       "version_minor": 0
      },
      "text/plain": [
       "Querying... #22:   0%|          | 0/312 [00:00<?, ?ex/s]"
      ]
     },
     "metadata": {},
     "output_type": "display_data"
    },
    {
     "data": {
      "application/vnd.jupyter.widget-view+json": {
       "model_id": "76baec6d2ef9417c8cf382d193fff089",
       "version_major": 2,
       "version_minor": 0
      },
      "text/plain": [
       "Querying... #20:   0%|          | 0/312 [00:00<?, ?ex/s]"
      ]
     },
     "metadata": {},
     "output_type": "display_data"
    },
    {
     "data": {
      "application/vnd.jupyter.widget-view+json": {
       "model_id": "4183ebc350484d2ba640dfc6f4d0bf42",
       "version_major": 2,
       "version_minor": 0
      },
      "text/plain": [
       "Querying... #26:   0%|          | 0/312 [00:00<?, ?ex/s]"
      ]
     },
     "metadata": {},
     "output_type": "display_data"
    },
    {
     "data": {
      "application/vnd.jupyter.widget-view+json": {
       "model_id": "584dc007119a46c1bd27eac547b7ec7b",
       "version_major": 2,
       "version_minor": 0
      },
      "text/plain": [
       "Querying... #27:   0%|          | 0/312 [00:00<?, ?ex/s]"
      ]
     },
     "metadata": {},
     "output_type": "display_data"
    },
    {
     "data": {
      "application/vnd.jupyter.widget-view+json": {
       "model_id": "cf7b1ba7fbc14323aeaeea7fcbb3e6a1",
       "version_major": 2,
       "version_minor": 0
      },
      "text/plain": [
       "Querying... #23:   0%|          | 0/312 [00:00<?, ?ex/s]"
      ]
     },
     "metadata": {},
     "output_type": "display_data"
    },
    {
     "data": {
      "application/vnd.jupyter.widget-view+json": {
       "model_id": "7f993371708f46f895af4ab6f7516647",
       "version_major": 2,
       "version_minor": 0
      },
      "text/plain": [
       "Querying... #28:   0%|          | 0/312 [00:00<?, ?ex/s]"
      ]
     },
     "metadata": {},
     "output_type": "display_data"
    },
    {
     "data": {
      "application/vnd.jupyter.widget-view+json": {
       "model_id": "b3d58e68d6cd4df5849db7d186e2e64f",
       "version_major": 2,
       "version_minor": 0
      },
      "text/plain": [
       "Querying... #29:   0%|          | 0/312 [00:00<?, ?ex/s]"
      ]
     },
     "metadata": {},
     "output_type": "display_data"
    },
    {
     "data": {
      "application/vnd.jupyter.widget-view+json": {
       "model_id": "8d66c10195c045c2a5bbcb678218a3bb",
       "version_major": 2,
       "version_minor": 0
      },
      "text/plain": [
       "Querying... #31:   0%|          | 0/312 [00:00<?, ?ex/s]"
      ]
     },
     "metadata": {},
     "output_type": "display_data"
    },
    {
     "data": {
      "application/vnd.jupyter.widget-view+json": {
       "model_id": "6e4ee670b9634a93a0adf1207c0fd1b7",
       "version_major": 2,
       "version_minor": 0
      },
      "text/plain": [
       "Querying... #24:   0%|          | 0/312 [00:00<?, ?ex/s]"
      ]
     },
     "metadata": {},
     "output_type": "display_data"
    },
    {
     "data": {
      "application/vnd.jupyter.widget-view+json": {
       "model_id": "9dae76e544844d80a6ad3afb1d683290",
       "version_major": 2,
       "version_minor": 0
      },
      "text/plain": [
       "Querying... #30:   0%|          | 0/312 [00:00<?, ?ex/s]"
      ]
     },
     "metadata": {},
     "output_type": "display_data"
    },
    {
     "data": {
      "application/vnd.jupyter.widget-view+json": {
       "model_id": "4d893152144c4dd39bf76189bc44c7cc",
       "version_major": 2,
       "version_minor": 0
      },
      "text/plain": [
       "Querying... #25:   0%|          | 0/312 [00:00<?, ?ex/s]"
      ]
     },
     "metadata": {},
     "output_type": "display_data"
    },
    {
     "name": "stdout",
     "output_type": "stream",
     "text": [
      "                                   "
     ]
    },
    {
     "data": {
      "application/vnd.jupyter.widget-view+json": {
       "model_id": "cee6ee72ddd940fca77092370aab9d04",
       "version_major": 2,
       "version_minor": 0
      },
      "text/plain": [
       "Filtering... #0:   0%|          | 0/1 [00:00<?, ?ba/s]"
      ]
     },
     "metadata": {},
     "output_type": "display_data"
    },
    {
     "data": {
      "application/vnd.jupyter.widget-view+json": {
       "model_id": "87cc57c098494d01b627c8415c5b49d8",
       "version_major": 2,
       "version_minor": 0
      },
      "text/plain": [
       "Filtering... #1:   0%|          | 0/1 [00:00<?, ?ba/s]"
      ]
     },
     "metadata": {},
     "output_type": "display_data"
    },
    {
     "name": "stdout",
     "output_type": "stream",
     "text": [
      " "
     ]
    },
    {
     "data": {
      "application/vnd.jupyter.widget-view+json": {
       "model_id": "764e3aa3df974114bc958e19db26e70a",
       "version_major": 2,
       "version_minor": 0
      },
      "text/plain": [
       "Filtering... #2:   0%|          | 0/1 [00:00<?, ?ba/s]"
      ]
     },
     "metadata": {},
     "output_type": "display_data"
    },
    {
     "name": "stdout",
     "output_type": "stream",
     "text": [
      " "
     ]
    },
    {
     "data": {
      "application/vnd.jupyter.widget-view+json": {
       "model_id": "b3f07cfaf33f4967bfd5f79b52c55d54",
       "version_major": 2,
       "version_minor": 0
      },
      "text/plain": [
       "Filtering... #3:   0%|          | 0/1 [00:00<?, ?ba/s]"
      ]
     },
     "metadata": {},
     "output_type": "display_data"
    },
    {
     "name": "stdout",
     "output_type": "stream",
     "text": [
      " "
     ]
    },
    {
     "data": {
      "application/vnd.jupyter.widget-view+json": {
       "model_id": "2cd5487949d34471b099225d00bd7e07",
       "version_major": 2,
       "version_minor": 0
      },
      "text/plain": [
       "Filtering... #4:   0%|          | 0/1 [00:00<?, ?ba/s]"
      ]
     },
     "metadata": {},
     "output_type": "display_data"
    },
    {
     "name": "stdout",
     "output_type": "stream",
     "text": [
      " "
     ]
    },
    {
     "data": {
      "application/vnd.jupyter.widget-view+json": {
       "model_id": "6a5cc4745d0f4584a1093b165135cd13",
       "version_major": 2,
       "version_minor": 0
      },
      "text/plain": [
       "Filtering... #5:   0%|          | 0/1 [00:00<?, ?ba/s]"
      ]
     },
     "metadata": {},
     "output_type": "display_data"
    },
    {
     "name": "stdout",
     "output_type": "stream",
     "text": [
      " "
     ]
    },
    {
     "data": {
      "application/vnd.jupyter.widget-view+json": {
       "model_id": "f426a86d45794ef496566be38f8fa669",
       "version_major": 2,
       "version_minor": 0
      },
      "text/plain": [
       "Filtering... #6:   0%|          | 0/1 [00:00<?, ?ba/s]"
      ]
     },
     "metadata": {},
     "output_type": "display_data"
    },
    {
     "name": "stdout",
     "output_type": "stream",
     "text": [
      " "
     ]
    },
    {
     "data": {
      "application/vnd.jupyter.widget-view+json": {
       "model_id": "6b7720a0e9f64bd596f8913181e96fce",
       "version_major": 2,
       "version_minor": 0
      },
      "text/plain": [
       "Filtering... #7:   0%|          | 0/1 [00:00<?, ?ba/s]"
      ]
     },
     "metadata": {},
     "output_type": "display_data"
    },
    {
     "name": "stdout",
     "output_type": "stream",
     "text": [
      " "
     ]
    },
    {
     "data": {
      "application/vnd.jupyter.widget-view+json": {
       "model_id": "cf092e7e68de41f1853ec84f8d829b29",
       "version_major": 2,
       "version_minor": 0
      },
      "text/plain": [
       "Filtering... #8:   0%|          | 0/1 [00:00<?, ?ba/s]"
      ]
     },
     "metadata": {},
     "output_type": "display_data"
    },
    {
     "name": "stdout",
     "output_type": "stream",
     "text": [
      " "
     ]
    },
    {
     "data": {
      "application/vnd.jupyter.widget-view+json": {
       "model_id": "d85fd0da128a4f16a9ad6bba2829f5e5",
       "version_major": 2,
       "version_minor": 0
      },
      "text/plain": [
       "Filtering... #9:   0%|          | 0/1 [00:00<?, ?ba/s]"
      ]
     },
     "metadata": {},
     "output_type": "display_data"
    },
    {
     "name": "stdout",
     "output_type": "stream",
     "text": [
      " "
     ]
    },
    {
     "data": {
      "application/vnd.jupyter.widget-view+json": {
       "model_id": "f499f63efccb4554b4653cd51bb07e39",
       "version_major": 2,
       "version_minor": 0
      },
      "text/plain": [
       "Filtering... #10:   0%|          | 0/1 [00:00<?, ?ba/s]"
      ]
     },
     "metadata": {},
     "output_type": "display_data"
    },
    {
     "name": "stdout",
     "output_type": "stream",
     "text": [
      "  "
     ]
    },
    {
     "data": {
      "application/vnd.jupyter.widget-view+json": {
       "model_id": "14e80913934f4383b960708558f7a880",
       "version_major": 2,
       "version_minor": 0
      },
      "text/plain": [
       "Filtering... #11:   0%|          | 0/1 [00:00<?, ?ba/s]"
      ]
     },
     "metadata": {},
     "output_type": "display_data"
    },
    {
     "name": "stdout",
     "output_type": "stream",
     "text": [
      "  "
     ]
    },
    {
     "data": {
      "application/vnd.jupyter.widget-view+json": {
       "model_id": "b66f3d61068f49b7aa15c7a62a8adb7a",
       "version_major": 2,
       "version_minor": 0
      },
      "text/plain": [
       "Filtering... #12:   0%|          | 0/1 [00:00<?, ?ba/s]"
      ]
     },
     "metadata": {},
     "output_type": "display_data"
    },
    {
     "name": "stdout",
     "output_type": "stream",
     "text": [
      " "
     ]
    },
    {
     "data": {
      "application/vnd.jupyter.widget-view+json": {
       "model_id": "818aabc857c84d95b84dfe2553ffb34b",
       "version_major": 2,
       "version_minor": 0
      },
      "text/plain": [
       "Filtering... #13:   0%|          | 0/1 [00:00<?, ?ba/s]"
      ]
     },
     "metadata": {},
     "output_type": "display_data"
    },
    {
     "data": {
      "application/vnd.jupyter.widget-view+json": {
       "model_id": "37b7f30d6dfe43878874e2a2bee8399d",
       "version_major": 2,
       "version_minor": 0
      },
      "text/plain": [
       "Filtering... #14:   0%|          | 0/1 [00:00<?, ?ba/s]"
      ]
     },
     "metadata": {},
     "output_type": "display_data"
    },
    {
     "name": "stdout",
     "output_type": "stream",
     "text": [
      " "
     ]
    },
    {
     "data": {
      "application/vnd.jupyter.widget-view+json": {
       "model_id": "f26dc2c38bb24f59a7abbf95ea99748d",
       "version_major": 2,
       "version_minor": 0
      },
      "text/plain": [
       "Filtering... #15:   0%|          | 0/1 [00:00<?, ?ba/s]"
      ]
     },
     "metadata": {},
     "output_type": "display_data"
    },
    {
     "name": "stdout",
     "output_type": "stream",
     "text": [
      " "
     ]
    },
    {
     "data": {
      "application/vnd.jupyter.widget-view+json": {
       "model_id": "3a5937b22bfd42c0ad79169b1f52a122",
       "version_major": 2,
       "version_minor": 0
      },
      "text/plain": [
       "Filtering... #16:   0%|          | 0/1 [00:00<?, ?ba/s]"
      ]
     },
     "metadata": {},
     "output_type": "display_data"
    },
    {
     "data": {
      "application/vnd.jupyter.widget-view+json": {
       "model_id": "6b16089bea5b42ba98cd8babcbf71e49",
       "version_major": 2,
       "version_minor": 0
      },
      "text/plain": [
       "Filtering... #17:   0%|          | 0/1 [00:00<?, ?ba/s]"
      ]
     },
     "metadata": {},
     "output_type": "display_data"
    },
    {
     "name": "stdout",
     "output_type": "stream",
     "text": [
      "  "
     ]
    },
    {
     "data": {
      "application/vnd.jupyter.widget-view+json": {
       "model_id": "1a719834107b47fbb7996c8b93a1a6b7",
       "version_major": 2,
       "version_minor": 0
      },
      "text/plain": [
       "Filtering... #18:   0%|          | 0/1 [00:00<?, ?ba/s]"
      ]
     },
     "metadata": {},
     "output_type": "display_data"
    },
    {
     "data": {
      "application/vnd.jupyter.widget-view+json": {
       "model_id": "744314660d584d5086906d5530bda367",
       "version_major": 2,
       "version_minor": 0
      },
      "text/plain": [
       "Filtering... #19:   0%|          | 0/1 [00:00<?, ?ba/s]"
      ]
     },
     "metadata": {},
     "output_type": "display_data"
    },
    {
     "name": "stdout",
     "output_type": "stream",
     "text": [
      "  "
     ]
    },
    {
     "data": {
      "application/vnd.jupyter.widget-view+json": {
       "model_id": "6d7a63b36cbe40e08f75b8f139db5a89",
       "version_major": 2,
       "version_minor": 0
      },
      "text/plain": [
       "Filtering... #20:   0%|          | 0/1 [00:00<?, ?ba/s]"
      ]
     },
     "metadata": {},
     "output_type": "display_data"
    },
    {
     "name": "stdout",
     "output_type": "stream",
     "text": [
      " "
     ]
    },
    {
     "data": {
      "application/vnd.jupyter.widget-view+json": {
       "model_id": "774e63aa0cb14150917dbbb9e2914032",
       "version_major": 2,
       "version_minor": 0
      },
      "text/plain": [
       "Filtering... #21:   0%|          | 0/1 [00:00<?, ?ba/s]"
      ]
     },
     "metadata": {},
     "output_type": "display_data"
    },
    {
     "data": {
      "application/vnd.jupyter.widget-view+json": {
       "model_id": "9674a9d53ee34b90813255fb8f7bc4cd",
       "version_major": 2,
       "version_minor": 0
      },
      "text/plain": [
       "Filtering... #22:   0%|          | 0/1 [00:00<?, ?ba/s]"
      ]
     },
     "metadata": {},
     "output_type": "display_data"
    },
    {
     "data": {
      "application/vnd.jupyter.widget-view+json": {
       "model_id": "359e675291ef48beab2e6b42cd990bfd",
       "version_major": 2,
       "version_minor": 0
      },
      "text/plain": [
       "Filtering... #23:   0%|          | 0/1 [00:00<?, ?ba/s]"
      ]
     },
     "metadata": {},
     "output_type": "display_data"
    },
    {
     "name": "stdout",
     "output_type": "stream",
     "text": [
      "   "
     ]
    },
    {
     "data": {
      "application/vnd.jupyter.widget-view+json": {
       "model_id": "87cb8d96fdeb4ddbaef5bb16df626077",
       "version_major": 2,
       "version_minor": 0
      },
      "text/plain": [
       "Filtering... #26:   0%|          | 0/1 [00:00<?, ?ba/s]"
      ]
     },
     "metadata": {},
     "output_type": "display_data"
    },
    {
     "name": "stdout",
     "output_type": "stream",
     "text": [
      " "
     ]
    },
    {
     "data": {
      "application/vnd.jupyter.widget-view+json": {
       "model_id": "c4056cca9e2f42a0a170a76c5fb79ab3",
       "version_major": 2,
       "version_minor": 0
      },
      "text/plain": [
       "Filtering... #27:   0%|          | 0/1 [00:00<?, ?ba/s]"
      ]
     },
     "metadata": {},
     "output_type": "display_data"
    },
    {
     "name": "stdout",
     "output_type": "stream",
     "text": [
      " "
     ]
    },
    {
     "data": {
      "application/vnd.jupyter.widget-view+json": {
       "model_id": "db69e717808349879fd0380c40cfc68a",
       "version_major": 2,
       "version_minor": 0
      },
      "text/plain": [
       "Filtering... #28:   0%|          | 0/1 [00:00<?, ?ba/s]"
      ]
     },
     "metadata": {},
     "output_type": "display_data"
    },
    {
     "name": "stdout",
     "output_type": "stream",
     "text": [
      "  "
     ]
    },
    {
     "data": {
      "application/vnd.jupyter.widget-view+json": {
       "model_id": "f63c36161c11473fb4b720503f60119b",
       "version_major": 2,
       "version_minor": 0
      },
      "text/plain": [
       "Filtering... #29:   0%|          | 0/1 [00:00<?, ?ba/s]"
      ]
     },
     "metadata": {},
     "output_type": "display_data"
    },
    {
     "name": "stdout",
     "output_type": "stream",
     "text": [
      " "
     ]
    },
    {
     "data": {
      "application/vnd.jupyter.widget-view+json": {
       "model_id": "af16725fbc2442f9adcf32ac995a0264",
       "version_major": 2,
       "version_minor": 0
      },
      "text/plain": [
       "Filtering... #30:   0%|          | 0/1 [00:00<?, ?ba/s]"
      ]
     },
     "metadata": {},
     "output_type": "display_data"
    },
    {
     "data": {
      "application/vnd.jupyter.widget-view+json": {
       "model_id": "07c1c98236f6457fa6fdfa9b61e4507c",
       "version_major": 2,
       "version_minor": 0
      },
      "text/plain": [
       "Filtering... #25:   0%|          | 0/1 [00:00<?, ?ba/s]"
      ]
     },
     "metadata": {},
     "output_type": "display_data"
    },
    {
     "data": {
      "application/vnd.jupyter.widget-view+json": {
       "model_id": "6931a580936444d3b872bd1c38ee9c34",
       "version_major": 2,
       "version_minor": 0
      },
      "text/plain": [
       "Filtering... #31:   0%|          | 0/1 [00:00<?, ?ba/s]"
      ]
     },
     "metadata": {},
     "output_type": "display_data"
    },
    {
     "data": {
      "application/vnd.jupyter.widget-view+json": {
       "model_id": "a858fda3de1f4df39dade67f657c07db",
       "version_major": 2,
       "version_minor": 0
      },
      "text/plain": [
       "Filtering... #24:   0%|          | 0/1 [00:00<?, ?ba/s]"
      ]
     },
     "metadata": {},
     "output_type": "display_data"
    },
    {
     "data": {
      "application/vnd.jupyter.widget-view+json": {
       "model_id": "42b702bfb8824209820e72a1e6057d4d",
       "version_major": 2,
       "version_minor": 0
      },
      "text/plain": [
       "Checking for false positives...:   0%|          | 0/7005 [00:00<?, ?it/s]"
      ]
     },
     "metadata": {},
     "output_type": "display_data"
    },
    {
     "name": "stdout",
     "output_type": "stream",
     "text": [
      "       "
     ]
    },
    {
     "data": {
      "application/vnd.jupyter.widget-view+json": {
       "model_id": "0d45f6101c3845069b40605b17c36c54",
       "version_major": 2,
       "version_minor": 0
      },
      "text/plain": [
       "Fingerprinting... #0:   0%|          | 0/3 [00:00<?, ?ex/s]"
      ]
     },
     "metadata": {},
     "output_type": "display_data"
    },
    {
     "name": "stdout",
     "output_type": "stream",
     "text": [
      " "
     ]
    },
    {
     "data": {
      "application/vnd.jupyter.widget-view+json": {
       "model_id": "d457d2d19c1a4b5897448a9fec20353d",
       "version_major": 2,
       "version_minor": 0
      },
      "text/plain": [
       "Fingerprinting... #1:   0%|          | 0/3 [00:00<?, ?ex/s]"
      ]
     },
     "metadata": {},
     "output_type": "display_data"
    },
    {
     "data": {
      "application/vnd.jupyter.widget-view+json": {
       "model_id": "96ce916554c4480984f8e95da26db5ee",
       "version_major": 2,
       "version_minor": 0
      },
      "text/plain": [
       "Fingerprinting... #2:   0%|          | 0/2 [00:00<?, ?ex/s]"
      ]
     },
     "metadata": {},
     "output_type": "display_data"
    },
    {
     "data": {
      "application/vnd.jupyter.widget-view+json": {
       "model_id": "d7ea8125042a4a1c93af998858d45d4b",
       "version_major": 2,
       "version_minor": 0
      },
      "text/plain": [
       "Fingerprinting... #3:   0%|          | 0/2 [00:00<?, ?ex/s]"
      ]
     },
     "metadata": {},
     "output_type": "display_data"
    },
    {
     "name": "stdout",
     "output_type": "stream",
     "text": [
      "                                                "
     ]
    },
    {
     "data": {
      "application/vnd.jupyter.widget-view+json": {
       "model_id": "8d8158730e744affab63d4bc76255805",
       "version_major": 2,
       "version_minor": 0
      },
      "text/plain": [
       "Querying... #1:   0%|          | 0/313 [00:00<?, ?ex/s]"
      ]
     },
     "metadata": {},
     "output_type": "display_data"
    },
    {
     "data": {
      "application/vnd.jupyter.widget-view+json": {
       "model_id": "54d05ceb0e32407ba017a2142aa48da7",
       "version_major": 2,
       "version_minor": 0
      },
      "text/plain": [
       "Querying... #0:   0%|          | 0/313 [00:00<?, ?ex/s]"
      ]
     },
     "metadata": {},
     "output_type": "display_data"
    },
    {
     "data": {
      "application/vnd.jupyter.widget-view+json": {
       "model_id": "6c00c90f30c04ea183ddd1f383cd012d",
       "version_major": 2,
       "version_minor": 0
      },
      "text/plain": [
       "Querying... #2:   0%|          | 0/313 [00:00<?, ?ex/s]"
      ]
     },
     "metadata": {},
     "output_type": "display_data"
    },
    {
     "data": {
      "application/vnd.jupyter.widget-view+json": {
       "model_id": "b7dd0ca3002d4b4d8ce0a0872678d086",
       "version_major": 2,
       "version_minor": 0
      },
      "text/plain": [
       "Querying... #3:   0%|          | 0/313 [00:00<?, ?ex/s]"
      ]
     },
     "metadata": {},
     "output_type": "display_data"
    },
    {
     "name": "stdout",
     "output_type": "stream",
     "text": [
      "  "
     ]
    },
    {
     "data": {
      "application/vnd.jupyter.widget-view+json": {
       "model_id": "5055a6f55eb4461f8965d21e2200b479",
       "version_major": 2,
       "version_minor": 0
      },
      "text/plain": [
       "Querying... #4:   0%|          | 0/313 [00:00<?, ?ex/s]"
      ]
     },
     "metadata": {},
     "output_type": "display_data"
    },
    {
     "name": "stdout",
     "output_type": "stream",
     "text": [
      "   "
     ]
    },
    {
     "data": {
      "application/vnd.jupyter.widget-view+json": {
       "model_id": "01ab73add2c8489d94a9de04159d1f10",
       "version_major": 2,
       "version_minor": 0
      },
      "text/plain": [
       "Querying... #7:   0%|          | 0/313 [00:00<?, ?ex/s]"
      ]
     },
     "metadata": {},
     "output_type": "display_data"
    },
    {
     "data": {
      "application/vnd.jupyter.widget-view+json": {
       "model_id": "a4c41f05fd904d518f9977628720aca7",
       "version_major": 2,
       "version_minor": 0
      },
      "text/plain": [
       "Querying... #5:   0%|          | 0/313 [00:00<?, ?ex/s]"
      ]
     },
     "metadata": {},
     "output_type": "display_data"
    },
    {
     "data": {
      "application/vnd.jupyter.widget-view+json": {
       "model_id": "b6fee6c16acd4ff0b20365080a6b0ea2",
       "version_major": 2,
       "version_minor": 0
      },
      "text/plain": [
       "Querying... #6:   0%|          | 0/313 [00:00<?, ?ex/s]"
      ]
     },
     "metadata": {},
     "output_type": "display_data"
    },
    {
     "name": "stdout",
     "output_type": "stream",
     "text": [
      "  "
     ]
    },
    {
     "data": {
      "application/vnd.jupyter.widget-view+json": {
       "model_id": "07660bbb55ae43c391c33663153301bc",
       "version_major": 2,
       "version_minor": 0
      },
      "text/plain": [
       "Querying... #11:   0%|          | 0/313 [00:00<?, ?ex/s]"
      ]
     },
     "metadata": {},
     "output_type": "display_data"
    },
    {
     "data": {
      "application/vnd.jupyter.widget-view+json": {
       "model_id": "0325e990022f40fe9044aac0f8856109",
       "version_major": 2,
       "version_minor": 0
      },
      "text/plain": [
       "Querying... #9:   0%|          | 0/313 [00:00<?, ?ex/s]"
      ]
     },
     "metadata": {},
     "output_type": "display_data"
    },
    {
     "data": {
      "application/vnd.jupyter.widget-view+json": {
       "model_id": "cdd874b94b9b44d1af76b52d26613bf9",
       "version_major": 2,
       "version_minor": 0
      },
      "text/plain": [
       "Querying... #8:   0%|          | 0/313 [00:00<?, ?ex/s]"
      ]
     },
     "metadata": {},
     "output_type": "display_data"
    },
    {
     "data": {
      "application/vnd.jupyter.widget-view+json": {
       "model_id": "13c146ba610546529a55f285f768445b",
       "version_major": 2,
       "version_minor": 0
      },
      "text/plain": [
       "Querying... #12:   0%|          | 0/313 [00:00<?, ?ex/s]"
      ]
     },
     "metadata": {},
     "output_type": "display_data"
    },
    {
     "name": "stdout",
     "output_type": "stream",
     "text": [
      "  "
     ]
    },
    {
     "data": {
      "application/vnd.jupyter.widget-view+json": {
       "model_id": "39f2a406b6bf4e0a902841761104ecb6",
       "version_major": 2,
       "version_minor": 0
      },
      "text/plain": [
       "Querying... #13:   0%|          | 0/313 [00:00<?, ?ex/s]"
      ]
     },
     "metadata": {},
     "output_type": "display_data"
    },
    {
     "name": "stdout",
     "output_type": "stream",
     "text": [
      "  "
     ]
    },
    {
     "data": {
      "application/vnd.jupyter.widget-view+json": {
       "model_id": "3dda35114ee140b48f2a9cbe871b396d",
       "version_major": 2,
       "version_minor": 0
      },
      "text/plain": [
       "Querying... #15:   0%|          | 0/313 [00:00<?, ?ex/s]"
      ]
     },
     "metadata": {},
     "output_type": "display_data"
    },
    {
     "data": {
      "application/vnd.jupyter.widget-view+json": {
       "model_id": "4e490d149daa44a68de1065b73fb1b1a",
       "version_major": 2,
       "version_minor": 0
      },
      "text/plain": [
       "Querying... #20:   0%|          | 0/312 [00:00<?, ?ex/s]"
      ]
     },
     "metadata": {},
     "output_type": "display_data"
    },
    {
     "name": "stdout",
     "output_type": "stream",
     "text": [
      " "
     ]
    },
    {
     "data": {
      "application/vnd.jupyter.widget-view+json": {
       "model_id": "8462b4e049d84ca18f1d00dfa6fbd16e",
       "version_major": 2,
       "version_minor": 0
      },
      "text/plain": [
       "Querying... #16:   0%|          | 0/312 [00:00<?, ?ex/s]"
      ]
     },
     "metadata": {},
     "output_type": "display_data"
    },
    {
     "data": {
      "application/vnd.jupyter.widget-view+json": {
       "model_id": "bc09e40cba2c4838b7ba4413706e3e56",
       "version_major": 2,
       "version_minor": 0
      },
      "text/plain": [
       "Querying... #17:   0%|          | 0/312 [00:00<?, ?ex/s]"
      ]
     },
     "metadata": {},
     "output_type": "display_data"
    },
    {
     "data": {
      "application/vnd.jupyter.widget-view+json": {
       "model_id": "0c33351d85f84d3cbd5b19f79343953c",
       "version_major": 2,
       "version_minor": 0
      },
      "text/plain": [
       "Querying... #14:   0%|          | 0/313 [00:00<?, ?ex/s]"
      ]
     },
     "metadata": {},
     "output_type": "display_data"
    },
    {
     "name": "stdout",
     "output_type": "stream",
     "text": [
      "  "
     ]
    },
    {
     "data": {
      "application/vnd.jupyter.widget-view+json": {
       "model_id": "81d60c1b8d7742e599d4329945812a29",
       "version_major": 2,
       "version_minor": 0
      },
      "text/plain": [
       "Querying... #23:   0%|          | 0/312 [00:00<?, ?ex/s]"
      ]
     },
     "metadata": {},
     "output_type": "display_data"
    },
    {
     "data": {
      "application/vnd.jupyter.widget-view+json": {
       "model_id": "f026a528589547fca3ef79075caf155c",
       "version_major": 2,
       "version_minor": 0
      },
      "text/plain": [
       "Querying... #19:   0%|          | 0/312 [00:00<?, ?ex/s]"
      ]
     },
     "metadata": {},
     "output_type": "display_data"
    },
    {
     "data": {
      "application/vnd.jupyter.widget-view+json": {
       "model_id": "3fee623e06e64b6794cb2ae1659b6543",
       "version_major": 2,
       "version_minor": 0
      },
      "text/plain": [
       "Querying... #22:   0%|          | 0/312 [00:00<?, ?ex/s]"
      ]
     },
     "metadata": {},
     "output_type": "display_data"
    },
    {
     "data": {
      "application/vnd.jupyter.widget-view+json": {
       "model_id": "4dce871d406c4afeaaaa238fb9668b9b",
       "version_major": 2,
       "version_minor": 0
      },
      "text/plain": [
       "Querying... #21:   0%|          | 0/312 [00:00<?, ?ex/s]"
      ]
     },
     "metadata": {},
     "output_type": "display_data"
    },
    {
     "data": {
      "application/vnd.jupyter.widget-view+json": {
       "model_id": "bc701dbd99cd4216832f484135bef39e",
       "version_major": 2,
       "version_minor": 0
      },
      "text/plain": [
       "Querying... #10:   0%|          | 0/313 [00:00<?, ?ex/s]"
      ]
     },
     "metadata": {},
     "output_type": "display_data"
    },
    {
     "name": "stdout",
     "output_type": "stream",
     "text": [
      "  "
     ]
    },
    {
     "data": {
      "application/vnd.jupyter.widget-view+json": {
       "model_id": "d54c0d82e8c445358d338baadd9e9e32",
       "version_major": 2,
       "version_minor": 0
      },
      "text/plain": [
       "Querying... #18:   0%|          | 0/312 [00:00<?, ?ex/s]"
      ]
     },
     "metadata": {},
     "output_type": "display_data"
    },
    {
     "data": {
      "application/vnd.jupyter.widget-view+json": {
       "model_id": "a6af5317ef1f465a85004c77e56c148b",
       "version_major": 2,
       "version_minor": 0
      },
      "text/plain": [
       "Querying... #26:   0%|          | 0/312 [00:00<?, ?ex/s]"
      ]
     },
     "metadata": {},
     "output_type": "display_data"
    },
    {
     "data": {
      "application/vnd.jupyter.widget-view+json": {
       "model_id": "ca59cacce07b4556b33fe6be938d0e33",
       "version_major": 2,
       "version_minor": 0
      },
      "text/plain": [
       "Querying... #30:   0%|          | 0/312 [00:00<?, ?ex/s]"
      ]
     },
     "metadata": {},
     "output_type": "display_data"
    },
    {
     "data": {
      "application/vnd.jupyter.widget-view+json": {
       "model_id": "70b9bf9132ae484899a4519e948bae80",
       "version_major": 2,
       "version_minor": 0
      },
      "text/plain": [
       "Querying... #27:   0%|          | 0/312 [00:00<?, ?ex/s]"
      ]
     },
     "metadata": {},
     "output_type": "display_data"
    },
    {
     "data": {
      "application/vnd.jupyter.widget-view+json": {
       "model_id": "29caf7b457684c248190a8109d69381e",
       "version_major": 2,
       "version_minor": 0
      },
      "text/plain": [
       "Querying... #29:   0%|          | 0/312 [00:00<?, ?ex/s]"
      ]
     },
     "metadata": {},
     "output_type": "display_data"
    },
    {
     "data": {
      "application/vnd.jupyter.widget-view+json": {
       "model_id": "b1921043c9a5425990a454be8c4a7e45",
       "version_major": 2,
       "version_minor": 0
      },
      "text/plain": [
       "Querying... #31:   0%|          | 0/312 [00:00<?, ?ex/s]"
      ]
     },
     "metadata": {},
     "output_type": "display_data"
    },
    {
     "data": {
      "application/vnd.jupyter.widget-view+json": {
       "model_id": "ffb03db23ace4a1098661ebab2b33bd8",
       "version_major": 2,
       "version_minor": 0
      },
      "text/plain": [
       "Querying... #28:   0%|          | 0/312 [00:00<?, ?ex/s]"
      ]
     },
     "metadata": {},
     "output_type": "display_data"
    },
    {
     "data": {
      "application/vnd.jupyter.widget-view+json": {
       "model_id": "467e7aa8257b408fb179808e72ca16b0",
       "version_major": 2,
       "version_minor": 0
      },
      "text/plain": [
       "Querying... #24:   0%|          | 0/312 [00:00<?, ?ex/s]"
      ]
     },
     "metadata": {},
     "output_type": "display_data"
    },
    {
     "data": {
      "application/vnd.jupyter.widget-view+json": {
       "model_id": "89c075a9d96b41d494cd8490306165a1",
       "version_major": 2,
       "version_minor": 0
      },
      "text/plain": [
       "Querying... #25:   0%|          | 0/312 [00:00<?, ?ex/s]"
      ]
     },
     "metadata": {},
     "output_type": "display_data"
    },
    {
     "name": "stdout",
     "output_type": "stream",
     "text": [
      "                                    "
     ]
    },
    {
     "data": {
      "application/vnd.jupyter.widget-view+json": {
       "model_id": "c3ef699bfda9488db02df13cc8fda139",
       "version_major": 2,
       "version_minor": 0
      },
      "text/plain": [
       "Filtering... #0:   0%|          | 0/1 [00:00<?, ?ba/s]"
      ]
     },
     "metadata": {},
     "output_type": "display_data"
    },
    {
     "data": {
      "application/vnd.jupyter.widget-view+json": {
       "model_id": "174f2c2b9ae443f18681400edaf66dda",
       "version_major": 2,
       "version_minor": 0
      },
      "text/plain": [
       "Filtering... #1:   0%|          | 0/1 [00:00<?, ?ba/s]"
      ]
     },
     "metadata": {},
     "output_type": "display_data"
    },
    {
     "data": {
      "application/vnd.jupyter.widget-view+json": {
       "model_id": "925ac10c77b8491da9819bcdd20a36e5",
       "version_major": 2,
       "version_minor": 0
      },
      "text/plain": [
       "Filtering... #2:   0%|          | 0/1 [00:00<?, ?ba/s]"
      ]
     },
     "metadata": {},
     "output_type": "display_data"
    },
    {
     "name": "stdout",
     "output_type": "stream",
     "text": [
      " "
     ]
    },
    {
     "data": {
      "application/vnd.jupyter.widget-view+json": {
       "model_id": "c2a0be9c95104a88b77fa102a5dd8902",
       "version_major": 2,
       "version_minor": 0
      },
      "text/plain": [
       "Filtering... #3:   0%|          | 0/1 [00:00<?, ?ba/s]"
      ]
     },
     "metadata": {},
     "output_type": "display_data"
    },
    {
     "name": "stdout",
     "output_type": "stream",
     "text": [
      " "
     ]
    },
    {
     "data": {
      "application/vnd.jupyter.widget-view+json": {
       "model_id": "63b7302bd3254f0e88060c549104682c",
       "version_major": 2,
       "version_minor": 0
      },
      "text/plain": [
       "Filtering... #4:   0%|          | 0/1 [00:00<?, ?ba/s]"
      ]
     },
     "metadata": {},
     "output_type": "display_data"
    },
    {
     "name": "stdout",
     "output_type": "stream",
     "text": [
      " "
     ]
    },
    {
     "data": {
      "application/vnd.jupyter.widget-view+json": {
       "model_id": "469a92a2498f4ac29953899353c9c8fd",
       "version_major": 2,
       "version_minor": 0
      },
      "text/plain": [
       "Filtering... #5:   0%|          | 0/1 [00:00<?, ?ba/s]"
      ]
     },
     "metadata": {},
     "output_type": "display_data"
    },
    {
     "name": "stdout",
     "output_type": "stream",
     "text": [
      " "
     ]
    },
    {
     "data": {
      "application/vnd.jupyter.widget-view+json": {
       "model_id": "b56e9ad0703d4da4a8700f66459de951",
       "version_major": 2,
       "version_minor": 0
      },
      "text/plain": [
       "Filtering... #6:   0%|          | 0/1 [00:00<?, ?ba/s]"
      ]
     },
     "metadata": {},
     "output_type": "display_data"
    },
    {
     "name": "stdout",
     "output_type": "stream",
     "text": [
      " "
     ]
    },
    {
     "data": {
      "application/vnd.jupyter.widget-view+json": {
       "model_id": "57e2e2925a044592a981d6e87965b623",
       "version_major": 2,
       "version_minor": 0
      },
      "text/plain": [
       "Filtering... #7:   0%|          | 0/1 [00:00<?, ?ba/s]"
      ]
     },
     "metadata": {},
     "output_type": "display_data"
    },
    {
     "data": {
      "application/vnd.jupyter.widget-view+json": {
       "model_id": "52552491c064492dbfd293ef061e2d80",
       "version_major": 2,
       "version_minor": 0
      },
      "text/plain": [
       "Filtering... #8:   0%|          | 0/1 [00:00<?, ?ba/s]"
      ]
     },
     "metadata": {},
     "output_type": "display_data"
    },
    {
     "name": "stdout",
     "output_type": "stream",
     "text": [
      " "
     ]
    },
    {
     "data": {
      "application/vnd.jupyter.widget-view+json": {
       "model_id": "626a3033aa91489482d5d56d5f39f198",
       "version_major": 2,
       "version_minor": 0
      },
      "text/plain": [
       "Filtering... #9:   0%|          | 0/1 [00:00<?, ?ba/s]"
      ]
     },
     "metadata": {},
     "output_type": "display_data"
    },
    {
     "name": "stdout",
     "output_type": "stream",
     "text": [
      "  "
     ]
    },
    {
     "data": {
      "application/vnd.jupyter.widget-view+json": {
       "model_id": "9b52445da77b44868981f5b18af96b43",
       "version_major": 2,
       "version_minor": 0
      },
      "text/plain": [
       "Filtering... #10:   0%|          | 0/1 [00:00<?, ?ba/s]"
      ]
     },
     "metadata": {},
     "output_type": "display_data"
    },
    {
     "name": "stdout",
     "output_type": "stream",
     "text": [
      " "
     ]
    },
    {
     "data": {
      "application/vnd.jupyter.widget-view+json": {
       "model_id": "e793a102a75c4cbdba82420e8500a4d2",
       "version_major": 2,
       "version_minor": 0
      },
      "text/plain": [
       "Filtering... #11:   0%|          | 0/1 [00:00<?, ?ba/s]"
      ]
     },
     "metadata": {},
     "output_type": "display_data"
    },
    {
     "name": "stdout",
     "output_type": "stream",
     "text": [
      " "
     ]
    },
    {
     "data": {
      "application/vnd.jupyter.widget-view+json": {
       "model_id": "9bd98ab46fde4182a2b2869cf7b5932d",
       "version_major": 2,
       "version_minor": 0
      },
      "text/plain": [
       "Filtering... #12:   0%|          | 0/1 [00:00<?, ?ba/s]"
      ]
     },
     "metadata": {},
     "output_type": "display_data"
    },
    {
     "name": "stdout",
     "output_type": "stream",
     "text": [
      " "
     ]
    },
    {
     "data": {
      "application/vnd.jupyter.widget-view+json": {
       "model_id": "d13eae3951374d8ca5d555b33dd987b6",
       "version_major": 2,
       "version_minor": 0
      },
      "text/plain": [
       "Filtering... #13:   0%|          | 0/1 [00:00<?, ?ba/s]"
      ]
     },
     "metadata": {},
     "output_type": "display_data"
    },
    {
     "name": "stdout",
     "output_type": "stream",
     "text": [
      " "
     ]
    },
    {
     "data": {
      "application/vnd.jupyter.widget-view+json": {
       "model_id": "6dc0341adbdc4e84a921f9c4c386cf6a",
       "version_major": 2,
       "version_minor": 0
      },
      "text/plain": [
       "Filtering... #14:   0%|          | 0/1 [00:00<?, ?ba/s]"
      ]
     },
     "metadata": {},
     "output_type": "display_data"
    },
    {
     "name": "stdout",
     "output_type": "stream",
     "text": [
      " "
     ]
    },
    {
     "data": {
      "application/vnd.jupyter.widget-view+json": {
       "model_id": "d2103128b39347bb8c9b3bcccf6aeaf6",
       "version_major": 2,
       "version_minor": 0
      },
      "text/plain": [
       "Filtering... #15:   0%|          | 0/1 [00:00<?, ?ba/s]"
      ]
     },
     "metadata": {},
     "output_type": "display_data"
    },
    {
     "name": "stdout",
     "output_type": "stream",
     "text": [
      "  "
     ]
    },
    {
     "data": {
      "application/vnd.jupyter.widget-view+json": {
       "model_id": "ec3f507be2084c90a555cbd1323e2ee8",
       "version_major": 2,
       "version_minor": 0
      },
      "text/plain": [
       "Filtering... #16:   0%|          | 0/1 [00:00<?, ?ba/s]"
      ]
     },
     "metadata": {},
     "output_type": "display_data"
    },
    {
     "name": "stdout",
     "output_type": "stream",
     "text": [
      "  "
     ]
    },
    {
     "data": {
      "application/vnd.jupyter.widget-view+json": {
       "model_id": "2b1e3f1892f44dbb85ecbf869f3c499f",
       "version_major": 2,
       "version_minor": 0
      },
      "text/plain": [
       "Filtering... #17:   0%|          | 0/1 [00:00<?, ?ba/s]"
      ]
     },
     "metadata": {},
     "output_type": "display_data"
    },
    {
     "data": {
      "application/vnd.jupyter.widget-view+json": {
       "model_id": "a0b5caaa81b94c8ea53bd74a58bf3213",
       "version_major": 2,
       "version_minor": 0
      },
      "text/plain": [
       "Filtering... #18:   0%|          | 0/1 [00:00<?, ?ba/s]"
      ]
     },
     "metadata": {},
     "output_type": "display_data"
    },
    {
     "data": {
      "application/vnd.jupyter.widget-view+json": {
       "model_id": "adde91ecc75d4f5f87011c9daa4e90e4",
       "version_major": 2,
       "version_minor": 0
      },
      "text/plain": [
       "Filtering... #19:   0%|          | 0/1 [00:00<?, ?ba/s]"
      ]
     },
     "metadata": {},
     "output_type": "display_data"
    },
    {
     "name": "stdout",
     "output_type": "stream",
     "text": [
      " "
     ]
    },
    {
     "data": {
      "application/vnd.jupyter.widget-view+json": {
       "model_id": "171177187b134c7d9f4bbcc752bcd250",
       "version_major": 2,
       "version_minor": 0
      },
      "text/plain": [
       "Filtering... #20:   0%|          | 0/1 [00:00<?, ?ba/s]"
      ]
     },
     "metadata": {},
     "output_type": "display_data"
    },
    {
     "name": "stdout",
     "output_type": "stream",
     "text": [
      " "
     ]
    },
    {
     "data": {
      "application/vnd.jupyter.widget-view+json": {
       "model_id": "41e8157a9066481c94b347391e886441",
       "version_major": 2,
       "version_minor": 0
      },
      "text/plain": [
       "Filtering... #21:   0%|          | 0/1 [00:00<?, ?ba/s]"
      ]
     },
     "metadata": {},
     "output_type": "display_data"
    },
    {
     "name": "stdout",
     "output_type": "stream",
     "text": [
      " "
     ]
    },
    {
     "data": {
      "application/vnd.jupyter.widget-view+json": {
       "model_id": "cecfff1ecc36489cbc27328d7ebcdbcc",
       "version_major": 2,
       "version_minor": 0
      },
      "text/plain": [
       "Filtering... #22:   0%|          | 0/1 [00:00<?, ?ba/s]"
      ]
     },
     "metadata": {},
     "output_type": "display_data"
    },
    {
     "data": {
      "application/vnd.jupyter.widget-view+json": {
       "model_id": "a047918114724ceda598a621f678d7bd",
       "version_major": 2,
       "version_minor": 0
      },
      "text/plain": [
       "Filtering... #23:   0%|          | 0/1 [00:00<?, ?ba/s]"
      ]
     },
     "metadata": {},
     "output_type": "display_data"
    },
    {
     "name": "stdout",
     "output_type": "stream",
     "text": [
      "   "
     ]
    },
    {
     "data": {
      "application/vnd.jupyter.widget-view+json": {
       "model_id": "d51bbcde4f68437fa194c97c8ec520ac",
       "version_major": 2,
       "version_minor": 0
      },
      "text/plain": [
       "Filtering... #26:   0%|          | 0/1 [00:00<?, ?ba/s]"
      ]
     },
     "metadata": {},
     "output_type": "display_data"
    },
    {
     "name": "stdout",
     "output_type": "stream",
     "text": [
      " "
     ]
    },
    {
     "data": {
      "application/vnd.jupyter.widget-view+json": {
       "model_id": "17e51787940a4900b5ef0ae20a74dbd7",
       "version_major": 2,
       "version_minor": 0
      },
      "text/plain": [
       "Filtering... #27:   0%|          | 0/1 [00:00<?, ?ba/s]"
      ]
     },
     "metadata": {},
     "output_type": "display_data"
    },
    {
     "data": {
      "application/vnd.jupyter.widget-view+json": {
       "model_id": "2ab99a8cd38c40f3a252b4ffa14e0383",
       "version_major": 2,
       "version_minor": 0
      },
      "text/plain": [
       "Filtering... #28:   0%|          | 0/1 [00:00<?, ?ba/s]"
      ]
     },
     "metadata": {},
     "output_type": "display_data"
    },
    {
     "name": "stdout",
     "output_type": "stream",
     "text": [
      "   "
     ]
    },
    {
     "data": {
      "application/vnd.jupyter.widget-view+json": {
       "model_id": "3d2b74f4b8b943d9afc99e52e0abb021",
       "version_major": 2,
       "version_minor": 0
      },
      "text/plain": [
       "Filtering... #29:   0%|          | 0/1 [00:00<?, ?ba/s]"
      ]
     },
     "metadata": {},
     "output_type": "display_data"
    },
    {
     "name": "stdout",
     "output_type": "stream",
     "text": [
      " "
     ]
    },
    {
     "data": {
      "application/vnd.jupyter.widget-view+json": {
       "model_id": "ecbc53443f974faba92fb44a8dfc5aa1",
       "version_major": 2,
       "version_minor": 0
      },
      "text/plain": [
       "Filtering... #25:   0%|          | 0/1 [00:00<?, ?ba/s]"
      ]
     },
     "metadata": {},
     "output_type": "display_data"
    },
    {
     "data": {
      "application/vnd.jupyter.widget-view+json": {
       "model_id": "5e86e7a1cf1c44acbbd4adb4ae49207a",
       "version_major": 2,
       "version_minor": 0
      },
      "text/plain": [
       "Filtering... #30:   0%|          | 0/1 [00:00<?, ?ba/s]"
      ]
     },
     "metadata": {},
     "output_type": "display_data"
    },
    {
     "data": {
      "application/vnd.jupyter.widget-view+json": {
       "model_id": "6a48d5870b98419d8bd5637aed39645a",
       "version_major": 2,
       "version_minor": 0
      },
      "text/plain": [
       "Filtering... #24:   0%|          | 0/1 [00:00<?, ?ba/s]"
      ]
     },
     "metadata": {},
     "output_type": "display_data"
    },
    {
     "data": {
      "application/vnd.jupyter.widget-view+json": {
       "model_id": "359bba236d0946518da44981e585a513",
       "version_major": 2,
       "version_minor": 0
      },
      "text/plain": [
       "Filtering... #31:   0%|          | 0/1 [00:00<?, ?ba/s]"
      ]
     },
     "metadata": {},
     "output_type": "display_data"
    },
    {
     "data": {
      "application/vnd.jupyter.widget-view+json": {
       "model_id": "ee8c17ea52f44c7cb0f95e177abd562a",
       "version_major": 2,
       "version_minor": 0
      },
      "text/plain": [
       "Checking for false positives...:   0%|          | 0/4602 [00:00<?, ?it/s]"
      ]
     },
     "metadata": {},
     "output_type": "display_data"
    },
    {
     "name": "stdout",
     "output_type": "stream",
     "text": [
      "       "
     ]
    },
    {
     "data": {
      "application/vnd.jupyter.widget-view+json": {
       "model_id": "b4bf68160217438cb745f8fcdad0a1f7",
       "version_major": 2,
       "version_minor": 0
      },
      "text/plain": [
       "Fingerprinting... #0:   0%|          | 0/65 [00:00<?, ?ex/s]"
      ]
     },
     "metadata": {},
     "output_type": "display_data"
    },
    {
     "name": "stdout",
     "output_type": "stream",
     "text": [
      " "
     ]
    },
    {
     "data": {
      "application/vnd.jupyter.widget-view+json": {
       "model_id": "f09aeeda0eb14b8ea500a4a6ca3b1e0c",
       "version_major": 2,
       "version_minor": 0
      },
      "text/plain": [
       "Fingerprinting... #1:   0%|          | 0/64 [00:00<?, ?ex/s]"
      ]
     },
     "metadata": {},
     "output_type": "display_data"
    },
    {
     "data": {
      "application/vnd.jupyter.widget-view+json": {
       "model_id": "5c3f515eb06849e2b8957140a65e776f",
       "version_major": 2,
       "version_minor": 0
      },
      "text/plain": [
       "Fingerprinting... #2:   0%|          | 0/64 [00:00<?, ?ex/s]"
      ]
     },
     "metadata": {},
     "output_type": "display_data"
    },
    {
     "data": {
      "application/vnd.jupyter.widget-view+json": {
       "model_id": "46548e176e7749c2b27322ac6b39a7f7",
       "version_major": 2,
       "version_minor": 0
      },
      "text/plain": [
       "Fingerprinting... #3:   0%|          | 0/64 [00:00<?, ?ex/s]"
      ]
     },
     "metadata": {},
     "output_type": "display_data"
    },
    {
     "name": "stdout",
     "output_type": "stream",
     "text": [
      "                                            "
     ]
    },
    {
     "data": {
      "application/vnd.jupyter.widget-view+json": {
       "model_id": "d143ece6a13143239a5634c71aa38c73",
       "version_major": 2,
       "version_minor": 0
      },
      "text/plain": [
       "Querying... #1:   0%|          | 0/313 [00:00<?, ?ex/s]"
      ]
     },
     "metadata": {},
     "output_type": "display_data"
    },
    {
     "data": {
      "application/vnd.jupyter.widget-view+json": {
       "model_id": "1a8919ccacbd4029b36b1f9d574e65b6",
       "version_major": 2,
       "version_minor": 0
      },
      "text/plain": [
       "Querying... #0:   0%|          | 0/313 [00:00<?, ?ex/s]"
      ]
     },
     "metadata": {},
     "output_type": "display_data"
    },
    {
     "data": {
      "application/vnd.jupyter.widget-view+json": {
       "model_id": "c090f76331f3429298a19c1929baa03f",
       "version_major": 2,
       "version_minor": 0
      },
      "text/plain": [
       "Querying... #2:   0%|          | 0/313 [00:00<?, ?ex/s]"
      ]
     },
     "metadata": {},
     "output_type": "display_data"
    },
    {
     "data": {
      "application/vnd.jupyter.widget-view+json": {
       "model_id": "d195350ae2024bcbb937be2186922489",
       "version_major": 2,
       "version_minor": 0
      },
      "text/plain": [
       "Querying... #3:   0%|          | 0/313 [00:00<?, ?ex/s]"
      ]
     },
     "metadata": {},
     "output_type": "display_data"
    },
    {
     "name": "stdout",
     "output_type": "stream",
     "text": [
      "     "
     ]
    },
    {
     "data": {
      "application/vnd.jupyter.widget-view+json": {
       "model_id": "52341ebfe53741a78d927a5c7b1e3398",
       "version_major": 2,
       "version_minor": 0
      },
      "text/plain": [
       "Querying... #4:   0%|          | 0/313 [00:00<?, ?ex/s]"
      ]
     },
     "metadata": {},
     "output_type": "display_data"
    },
    {
     "name": "stdout",
     "output_type": "stream",
     "text": [
      "  "
     ]
    },
    {
     "data": {
      "application/vnd.jupyter.widget-view+json": {
       "model_id": "22e4442af8724092af52b85a73688de6",
       "version_major": 2,
       "version_minor": 0
      },
      "text/plain": [
       "Querying... #5:   0%|          | 0/313 [00:00<?, ?ex/s]"
      ]
     },
     "metadata": {},
     "output_type": "display_data"
    },
    {
     "data": {
      "application/vnd.jupyter.widget-view+json": {
       "model_id": "e71db123f69a4c4d9745833a652891be",
       "version_major": 2,
       "version_minor": 0
      },
      "text/plain": [
       "Querying... #7:   0%|          | 0/313 [00:00<?, ?ex/s]"
      ]
     },
     "metadata": {},
     "output_type": "display_data"
    },
    {
     "name": "stdout",
     "output_type": "stream",
     "text": [
      "   "
     ]
    },
    {
     "data": {
      "application/vnd.jupyter.widget-view+json": {
       "model_id": "c47d6941d8f8489c96ebc19ec8fb9755",
       "version_major": 2,
       "version_minor": 0
      },
      "text/plain": [
       "Querying... #9:   0%|          | 0/313 [00:00<?, ?ex/s]"
      ]
     },
     "metadata": {},
     "output_type": "display_data"
    },
    {
     "data": {
      "application/vnd.jupyter.widget-view+json": {
       "model_id": "64e20c8239a14eb0bae8f85339d55543",
       "version_major": 2,
       "version_minor": 0
      },
      "text/plain": [
       "Querying... #8:   0%|          | 0/313 [00:00<?, ?ex/s]"
      ]
     },
     "metadata": {},
     "output_type": "display_data"
    },
    {
     "data": {
      "application/vnd.jupyter.widget-view+json": {
       "model_id": "50f9b561e99a4911a72b0848b632ae83",
       "version_major": 2,
       "version_minor": 0
      },
      "text/plain": [
       "Querying... #6:   0%|          | 0/313 [00:00<?, ?ex/s]"
      ]
     },
     "metadata": {},
     "output_type": "display_data"
    },
    {
     "name": "stdout",
     "output_type": "stream",
     "text": [
      "  "
     ]
    },
    {
     "data": {
      "application/vnd.jupyter.widget-view+json": {
       "model_id": "51a2c6bcb72449eea5533ac07a2a2247",
       "version_major": 2,
       "version_minor": 0
      },
      "text/plain": [
       "Querying... #10:   0%|          | 0/313 [00:00<?, ?ex/s]"
      ]
     },
     "metadata": {},
     "output_type": "display_data"
    },
    {
     "data": {
      "application/vnd.jupyter.widget-view+json": {
       "model_id": "264361074d164f1f932bd73b2a2bf14d",
       "version_major": 2,
       "version_minor": 0
      },
      "text/plain": [
       "Querying... #14:   0%|          | 0/313 [00:00<?, ?ex/s]"
      ]
     },
     "metadata": {},
     "output_type": "display_data"
    },
    {
     "data": {
      "application/vnd.jupyter.widget-view+json": {
       "model_id": "e00c071f506340e7a13868dfa5c40e5c",
       "version_major": 2,
       "version_minor": 0
      },
      "text/plain": [
       "Querying... #12:   0%|          | 0/313 [00:00<?, ?ex/s]"
      ]
     },
     "metadata": {},
     "output_type": "display_data"
    },
    {
     "name": "stdout",
     "output_type": "stream",
     "text": [
      "  "
     ]
    },
    {
     "data": {
      "application/vnd.jupyter.widget-view+json": {
       "model_id": "0b7a7d9acc6e4d51895e56981ceaab2f",
       "version_major": 2,
       "version_minor": 0
      },
      "text/plain": [
       "Querying... #17:   0%|          | 0/312 [00:00<?, ?ex/s]"
      ]
     },
     "metadata": {},
     "output_type": "display_data"
    },
    {
     "name": "stdout",
     "output_type": "stream",
     "text": [
      "   "
     ]
    },
    {
     "data": {
      "application/vnd.jupyter.widget-view+json": {
       "model_id": "2116f6b667204945acea2cb4acd6438f",
       "version_major": 2,
       "version_minor": 0
      },
      "text/plain": [
       "Querying... #18:   0%|          | 0/312 [00:00<?, ?ex/s]"
      ]
     },
     "metadata": {},
     "output_type": "display_data"
    },
    {
     "data": {
      "application/vnd.jupyter.widget-view+json": {
       "model_id": "a4881b28e3df4dd280f4d6223383471d",
       "version_major": 2,
       "version_minor": 0
      },
      "text/plain": [
       "Querying... #11:   0%|          | 0/313 [00:00<?, ?ex/s]"
      ]
     },
     "metadata": {},
     "output_type": "display_data"
    },
    {
     "name": "stdout",
     "output_type": "stream",
     "text": [
      " "
     ]
    },
    {
     "data": {
      "application/vnd.jupyter.widget-view+json": {
       "model_id": "2030a0b550684a06a916eb5c4957d5de",
       "version_major": 2,
       "version_minor": 0
      },
      "text/plain": [
       "Querying... #13:   0%|          | 0/313 [00:00<?, ?ex/s]"
      ]
     },
     "metadata": {},
     "output_type": "display_data"
    },
    {
     "data": {
      "application/vnd.jupyter.widget-view+json": {
       "model_id": "0506ce7099d24c48b0397ecf5fe0d9ab",
       "version_major": 2,
       "version_minor": 0
      },
      "text/plain": [
       "Querying... #19:   0%|          | 0/312 [00:00<?, ?ex/s]"
      ]
     },
     "metadata": {},
     "output_type": "display_data"
    },
    {
     "data": {
      "application/vnd.jupyter.widget-view+json": {
       "model_id": "8726bca402254565b467e1c3ebc09cd2",
       "version_major": 2,
       "version_minor": 0
      },
      "text/plain": [
       "Querying... #16:   0%|          | 0/312 [00:00<?, ?ex/s]"
      ]
     },
     "metadata": {},
     "output_type": "display_data"
    },
    {
     "data": {
      "application/vnd.jupyter.widget-view+json": {
       "model_id": "bec039c589324fb8ab2e64b5a54d9e4d",
       "version_major": 2,
       "version_minor": 0
      },
      "text/plain": [
       "Querying... #20:   0%|          | 0/312 [00:00<?, ?ex/s]"
      ]
     },
     "metadata": {},
     "output_type": "display_data"
    },
    {
     "data": {
      "application/vnd.jupyter.widget-view+json": {
       "model_id": "4bf4b094ac35408eb727208a6d310942",
       "version_major": 2,
       "version_minor": 0
      },
      "text/plain": [
       "Querying... #15:   0%|          | 0/313 [00:00<?, ?ex/s]"
      ]
     },
     "metadata": {},
     "output_type": "display_data"
    },
    {
     "data": {
      "application/vnd.jupyter.widget-view+json": {
       "model_id": "820be085b0234186a9a0199e12d0cf0f",
       "version_major": 2,
       "version_minor": 0
      },
      "text/plain": [
       "Querying... #21:   0%|          | 0/312 [00:00<?, ?ex/s]"
      ]
     },
     "metadata": {},
     "output_type": "display_data"
    },
    {
     "name": "stdout",
     "output_type": "stream",
     "text": [
      " "
     ]
    },
    {
     "data": {
      "application/vnd.jupyter.widget-view+json": {
       "model_id": "4dfd4e6ca8274c4dab81e6102a5a676c",
       "version_major": 2,
       "version_minor": 0
      },
      "text/plain": [
       "Querying... #23:   0%|          | 0/312 [00:00<?, ?ex/s]"
      ]
     },
     "metadata": {},
     "output_type": "display_data"
    },
    {
     "data": {
      "application/vnd.jupyter.widget-view+json": {
       "model_id": "ab1dbafbf92e4b909a7664326747f4aa",
       "version_major": 2,
       "version_minor": 0
      },
      "text/plain": [
       "Querying... #27:   0%|          | 0/312 [00:00<?, ?ex/s]"
      ]
     },
     "metadata": {},
     "output_type": "display_data"
    },
    {
     "data": {
      "application/vnd.jupyter.widget-view+json": {
       "model_id": "ba1557b82fe84857a4e2a13f1ab22739",
       "version_major": 2,
       "version_minor": 0
      },
      "text/plain": [
       "Querying... #22:   0%|          | 0/312 [00:00<?, ?ex/s]"
      ]
     },
     "metadata": {},
     "output_type": "display_data"
    },
    {
     "data": {
      "application/vnd.jupyter.widget-view+json": {
       "model_id": "a1f8a16e323c433892dfe5886359f4f3",
       "version_major": 2,
       "version_minor": 0
      },
      "text/plain": [
       "Querying... #28:   0%|          | 0/312 [00:00<?, ?ex/s]"
      ]
     },
     "metadata": {},
     "output_type": "display_data"
    },
    {
     "data": {
      "application/vnd.jupyter.widget-view+json": {
       "model_id": "aad710b5d5c6495b80623563c347a170",
       "version_major": 2,
       "version_minor": 0
      },
      "text/plain": [
       "Querying... #26:   0%|          | 0/312 [00:00<?, ?ex/s]"
      ]
     },
     "metadata": {},
     "output_type": "display_data"
    },
    {
     "data": {
      "application/vnd.jupyter.widget-view+json": {
       "model_id": "14ee3316b2224af3b2d1aec21746a385",
       "version_major": 2,
       "version_minor": 0
      },
      "text/plain": [
       "Querying... #29:   0%|          | 0/312 [00:00<?, ?ex/s]"
      ]
     },
     "metadata": {},
     "output_type": "display_data"
    },
    {
     "data": {
      "application/vnd.jupyter.widget-view+json": {
       "model_id": "103de3a47e41487d94ca758d360862f5",
       "version_major": 2,
       "version_minor": 0
      },
      "text/plain": [
       "Querying... #31:   0%|          | 0/312 [00:00<?, ?ex/s]"
      ]
     },
     "metadata": {},
     "output_type": "display_data"
    },
    {
     "data": {
      "application/vnd.jupyter.widget-view+json": {
       "model_id": "1131186bff514a329f130c4b787048b3",
       "version_major": 2,
       "version_minor": 0
      },
      "text/plain": [
       "Querying... #30:   0%|          | 0/312 [00:00<?, ?ex/s]"
      ]
     },
     "metadata": {},
     "output_type": "display_data"
    },
    {
     "name": "stdout",
     "output_type": "stream",
     "text": [
      " "
     ]
    },
    {
     "data": {
      "application/vnd.jupyter.widget-view+json": {
       "model_id": "38c43a3320044e5fafca867de87d197b",
       "version_major": 2,
       "version_minor": 0
      },
      "text/plain": [
       "Querying... #25:   0%|          | 0/312 [00:00<?, ?ex/s]"
      ]
     },
     "metadata": {},
     "output_type": "display_data"
    },
    {
     "data": {
      "application/vnd.jupyter.widget-view+json": {
       "model_id": "e427bb6c9c054da0b9331bf706ab4b30",
       "version_major": 2,
       "version_minor": 0
      },
      "text/plain": [
       "Querying... #24:   0%|          | 0/312 [00:00<?, ?ex/s]"
      ]
     },
     "metadata": {},
     "output_type": "display_data"
    },
    {
     "name": "stdout",
     "output_type": "stream",
     "text": [
      "                                   "
     ]
    },
    {
     "data": {
      "application/vnd.jupyter.widget-view+json": {
       "model_id": "a1093b7df6414462aa391713a82d55c0",
       "version_major": 2,
       "version_minor": 0
      },
      "text/plain": [
       "Filtering... #0:   0%|          | 0/1 [00:00<?, ?ba/s]"
      ]
     },
     "metadata": {},
     "output_type": "display_data"
    },
    {
     "data": {
      "application/vnd.jupyter.widget-view+json": {
       "model_id": "3b6c55baa8974f86b03786a22a77c0f1",
       "version_major": 2,
       "version_minor": 0
      },
      "text/plain": [
       "Filtering... #1:   0%|          | 0/1 [00:00<?, ?ba/s]"
      ]
     },
     "metadata": {},
     "output_type": "display_data"
    },
    {
     "name": "stdout",
     "output_type": "stream",
     "text": [
      " "
     ]
    },
    {
     "data": {
      "application/vnd.jupyter.widget-view+json": {
       "model_id": "8039ad17b5ee4d9788d9a282736806f5",
       "version_major": 2,
       "version_minor": 0
      },
      "text/plain": [
       "Filtering... #2:   0%|          | 0/1 [00:00<?, ?ba/s]"
      ]
     },
     "metadata": {},
     "output_type": "display_data"
    },
    {
     "name": "stdout",
     "output_type": "stream",
     "text": [
      " "
     ]
    },
    {
     "data": {
      "application/vnd.jupyter.widget-view+json": {
       "model_id": "c157440555de4a949246634e0907ff40",
       "version_major": 2,
       "version_minor": 0
      },
      "text/plain": [
       "Filtering... #3:   0%|          | 0/1 [00:00<?, ?ba/s]"
      ]
     },
     "metadata": {},
     "output_type": "display_data"
    },
    {
     "name": "stdout",
     "output_type": "stream",
     "text": [
      " "
     ]
    },
    {
     "data": {
      "application/vnd.jupyter.widget-view+json": {
       "model_id": "61c2c10ea4b7403dac5f7cb088c3897e",
       "version_major": 2,
       "version_minor": 0
      },
      "text/plain": [
       "Filtering... #4:   0%|          | 0/1 [00:00<?, ?ba/s]"
      ]
     },
     "metadata": {},
     "output_type": "display_data"
    },
    {
     "name": "stdout",
     "output_type": "stream",
     "text": [
      " "
     ]
    },
    {
     "data": {
      "application/vnd.jupyter.widget-view+json": {
       "model_id": "c47e7b9470b94cb29ac26bd6ae0b642b",
       "version_major": 2,
       "version_minor": 0
      },
      "text/plain": [
       "Filtering... #5:   0%|          | 0/1 [00:00<?, ?ba/s]"
      ]
     },
     "metadata": {},
     "output_type": "display_data"
    },
    {
     "name": "stdout",
     "output_type": "stream",
     "text": [
      " "
     ]
    },
    {
     "data": {
      "application/vnd.jupyter.widget-view+json": {
       "model_id": "0d4338d82ba647a7981ff9a260ee1085",
       "version_major": 2,
       "version_minor": 0
      },
      "text/plain": [
       "Filtering... #6:   0%|          | 0/1 [00:00<?, ?ba/s]"
      ]
     },
     "metadata": {},
     "output_type": "display_data"
    },
    {
     "name": "stdout",
     "output_type": "stream",
     "text": [
      " "
     ]
    },
    {
     "data": {
      "application/vnd.jupyter.widget-view+json": {
       "model_id": "45b5844e5cf54c3a9f3eea2268675ae5",
       "version_major": 2,
       "version_minor": 0
      },
      "text/plain": [
       "Filtering... #7:   0%|          | 0/1 [00:00<?, ?ba/s]"
      ]
     },
     "metadata": {},
     "output_type": "display_data"
    },
    {
     "name": "stdout",
     "output_type": "stream",
     "text": [
      " "
     ]
    },
    {
     "data": {
      "application/vnd.jupyter.widget-view+json": {
       "model_id": "dd53583f530c4a349bf08d9f18e3513e",
       "version_major": 2,
       "version_minor": 0
      },
      "text/plain": [
       "Filtering... #8:   0%|          | 0/1 [00:00<?, ?ba/s]"
      ]
     },
     "metadata": {},
     "output_type": "display_data"
    },
    {
     "name": "stdout",
     "output_type": "stream",
     "text": [
      " "
     ]
    },
    {
     "data": {
      "application/vnd.jupyter.widget-view+json": {
       "model_id": "5fe571d3f41845309e655e1dce7ac0f3",
       "version_major": 2,
       "version_minor": 0
      },
      "text/plain": [
       "Filtering... #9:   0%|          | 0/1 [00:00<?, ?ba/s]"
      ]
     },
     "metadata": {},
     "output_type": "display_data"
    },
    {
     "name": "stdout",
     "output_type": "stream",
     "text": [
      " "
     ]
    },
    {
     "data": {
      "application/vnd.jupyter.widget-view+json": {
       "model_id": "5ac3a56e0c4046cc9643d7bdff9bddf5",
       "version_major": 2,
       "version_minor": 0
      },
      "text/plain": [
       "Filtering... #10:   0%|          | 0/1 [00:00<?, ?ba/s]"
      ]
     },
     "metadata": {},
     "output_type": "display_data"
    },
    {
     "name": "stdout",
     "output_type": "stream",
     "text": [
      " "
     ]
    },
    {
     "data": {
      "application/vnd.jupyter.widget-view+json": {
       "model_id": "5a11f9b413f54cb9a60e140d239d8118",
       "version_major": 2,
       "version_minor": 0
      },
      "text/plain": [
       "Filtering... #11:   0%|          | 0/1 [00:00<?, ?ba/s]"
      ]
     },
     "metadata": {},
     "output_type": "display_data"
    },
    {
     "name": "stdout",
     "output_type": "stream",
     "text": [
      " "
     ]
    },
    {
     "data": {
      "application/vnd.jupyter.widget-view+json": {
       "model_id": "c413d30d54b44462bcc260bfc4d11b51",
       "version_major": 2,
       "version_minor": 0
      },
      "text/plain": [
       "Filtering... #12:   0%|          | 0/1 [00:00<?, ?ba/s]"
      ]
     },
     "metadata": {},
     "output_type": "display_data"
    },
    {
     "name": "stdout",
     "output_type": "stream",
     "text": [
      " "
     ]
    },
    {
     "data": {
      "application/vnd.jupyter.widget-view+json": {
       "model_id": "bf169a9dca8f4e5c87c04be9549171a7",
       "version_major": 2,
       "version_minor": 0
      },
      "text/plain": [
       "Filtering... #13:   0%|          | 0/1 [00:00<?, ?ba/s]"
      ]
     },
     "metadata": {},
     "output_type": "display_data"
    },
    {
     "name": "stdout",
     "output_type": "stream",
     "text": [
      " "
     ]
    },
    {
     "data": {
      "application/vnd.jupyter.widget-view+json": {
       "model_id": "c67a2fec2c9a4bbc8122e44116ae4563",
       "version_major": 2,
       "version_minor": 0
      },
      "text/plain": [
       "Filtering... #14:   0%|          | 0/1 [00:00<?, ?ba/s]"
      ]
     },
     "metadata": {},
     "output_type": "display_data"
    },
    {
     "name": "stdout",
     "output_type": "stream",
     "text": [
      "  "
     ]
    },
    {
     "data": {
      "application/vnd.jupyter.widget-view+json": {
       "model_id": "38624fcb16014bf699a307add1adea3e",
       "version_major": 2,
       "version_minor": 0
      },
      "text/plain": [
       "Filtering... #15:   0%|          | 0/1 [00:00<?, ?ba/s]"
      ]
     },
     "metadata": {},
     "output_type": "display_data"
    },
    {
     "name": "stdout",
     "output_type": "stream",
     "text": [
      " "
     ]
    },
    {
     "data": {
      "application/vnd.jupyter.widget-view+json": {
       "model_id": "2433c9ba2d4d45a5b238d0a7ace3269b",
       "version_major": 2,
       "version_minor": 0
      },
      "text/plain": [
       "Filtering... #16:   0%|          | 0/1 [00:00<?, ?ba/s]"
      ]
     },
     "metadata": {},
     "output_type": "display_data"
    },
    {
     "data": {
      "application/vnd.jupyter.widget-view+json": {
       "model_id": "bb42143897604516876203a0a871ea1f",
       "version_major": 2,
       "version_minor": 0
      },
      "text/plain": [
       "Filtering... #17:   0%|          | 0/1 [00:00<?, ?ba/s]"
      ]
     },
     "metadata": {},
     "output_type": "display_data"
    },
    {
     "name": "stdout",
     "output_type": "stream",
     "text": [
      " "
     ]
    },
    {
     "data": {
      "application/vnd.jupyter.widget-view+json": {
       "model_id": "8cc9d796043c4d7dbc897b3c87125370",
       "version_major": 2,
       "version_minor": 0
      },
      "text/plain": [
       "Filtering... #18:   0%|          | 0/1 [00:00<?, ?ba/s]"
      ]
     },
     "metadata": {},
     "output_type": "display_data"
    },
    {
     "name": "stdout",
     "output_type": "stream",
     "text": [
      " "
     ]
    },
    {
     "data": {
      "application/vnd.jupyter.widget-view+json": {
       "model_id": "2268ff2294574aef9de7db7ec1fb2dc6",
       "version_major": 2,
       "version_minor": 0
      },
      "text/plain": [
       "Filtering... #19:   0%|          | 0/1 [00:00<?, ?ba/s]"
      ]
     },
     "metadata": {},
     "output_type": "display_data"
    },
    {
     "name": "stdout",
     "output_type": "stream",
     "text": [
      "  "
     ]
    },
    {
     "data": {
      "application/vnd.jupyter.widget-view+json": {
       "model_id": "7dd159e896b3423a876aa9cf8819b841",
       "version_major": 2,
       "version_minor": 0
      },
      "text/plain": [
       "Filtering... #20:   0%|          | 0/1 [00:00<?, ?ba/s]"
      ]
     },
     "metadata": {},
     "output_type": "display_data"
    },
    {
     "data": {
      "application/vnd.jupyter.widget-view+json": {
       "model_id": "f9072f907210444ea3063cfd1f11b118",
       "version_major": 2,
       "version_minor": 0
      },
      "text/plain": [
       "Filtering... #21:   0%|          | 0/1 [00:00<?, ?ba/s]"
      ]
     },
     "metadata": {},
     "output_type": "display_data"
    },
    {
     "name": "stdout",
     "output_type": "stream",
     "text": [
      " "
     ]
    },
    {
     "data": {
      "application/vnd.jupyter.widget-view+json": {
       "model_id": "035cf86e440049b2a27018845034f867",
       "version_major": 2,
       "version_minor": 0
      },
      "text/plain": [
       "Filtering... #22:   0%|          | 0/1 [00:00<?, ?ba/s]"
      ]
     },
     "metadata": {},
     "output_type": "display_data"
    },
    {
     "data": {
      "application/vnd.jupyter.widget-view+json": {
       "model_id": "497cf6814b7f476e838a101c038d7e2a",
       "version_major": 2,
       "version_minor": 0
      },
      "text/plain": [
       "Filtering... #23:   0%|          | 0/1 [00:00<?, ?ba/s]"
      ]
     },
     "metadata": {},
     "output_type": "display_data"
    },
    {
     "name": "stdout",
     "output_type": "stream",
     "text": [
      "  "
     ]
    },
    {
     "data": {
      "application/vnd.jupyter.widget-view+json": {
       "model_id": "97b994d48c844072ac989ddd20e63025",
       "version_major": 2,
       "version_minor": 0
      },
      "text/plain": [
       "Filtering... #26:   0%|          | 0/1 [00:00<?, ?ba/s]"
      ]
     },
     "metadata": {},
     "output_type": "display_data"
    },
    {
     "name": "stdout",
     "output_type": "stream",
     "text": [
      " "
     ]
    },
    {
     "data": {
      "application/vnd.jupyter.widget-view+json": {
       "model_id": "f2a6fd7879fe4b95b8581be6997b8432",
       "version_major": 2,
       "version_minor": 0
      },
      "text/plain": [
       "Filtering... #27:   0%|          | 0/1 [00:00<?, ?ba/s]"
      ]
     },
     "metadata": {},
     "output_type": "display_data"
    },
    {
     "name": "stdout",
     "output_type": "stream",
     "text": [
      "   "
     ]
    },
    {
     "data": {
      "application/vnd.jupyter.widget-view+json": {
       "model_id": "e3d7c315f376448d938e58b2f5d0d5e4",
       "version_major": 2,
       "version_minor": 0
      },
      "text/plain": [
       "Filtering... #28:   0%|          | 0/1 [00:00<?, ?ba/s]"
      ]
     },
     "metadata": {},
     "output_type": "display_data"
    },
    {
     "name": "stdout",
     "output_type": "stream",
     "text": [
      "  "
     ]
    },
    {
     "data": {
      "application/vnd.jupyter.widget-view+json": {
       "model_id": "c41138324606433582d8d647bceec495",
       "version_major": 2,
       "version_minor": 0
      },
      "text/plain": [
       "Filtering... #24:   0%|          | 0/1 [00:00<?, ?ba/s]"
      ]
     },
     "metadata": {},
     "output_type": "display_data"
    },
    {
     "data": {
      "application/vnd.jupyter.widget-view+json": {
       "model_id": "0de99aeadabb4e54985f60a45193f036",
       "version_major": 2,
       "version_minor": 0
      },
      "text/plain": [
       "Filtering... #29:   0%|          | 0/1 [00:00<?, ?ba/s]"
      ]
     },
     "metadata": {},
     "output_type": "display_data"
    },
    {
     "data": {
      "application/vnd.jupyter.widget-view+json": {
       "model_id": "d32891e2423f4ec9b9223493ed880a22",
       "version_major": 2,
       "version_minor": 0
      },
      "text/plain": [
       "Filtering... #25:   0%|          | 0/1 [00:00<?, ?ba/s]"
      ]
     },
     "metadata": {},
     "output_type": "display_data"
    },
    {
     "data": {
      "application/vnd.jupyter.widget-view+json": {
       "model_id": "9bf639cafac545d787b76d08ae20a73e",
       "version_major": 2,
       "version_minor": 0
      },
      "text/plain": [
       "Filtering... #30:   0%|          | 0/1 [00:00<?, ?ba/s]"
      ]
     },
     "metadata": {},
     "output_type": "display_data"
    },
    {
     "data": {
      "application/vnd.jupyter.widget-view+json": {
       "model_id": "be33d5a3ea6a48caac82e2b975a7a625",
       "version_major": 2,
       "version_minor": 0
      },
      "text/plain": [
       "Filtering... #31:   0%|          | 0/1 [00:00<?, ?ba/s]"
      ]
     },
     "metadata": {},
     "output_type": "display_data"
    },
    {
     "data": {
      "application/vnd.jupyter.widget-view+json": {
       "model_id": "8b492ef8568f4e66b2fc74832bc6e5c7",
       "version_major": 2,
       "version_minor": 0
      },
      "text/plain": [
       "Checking for false positives...:   0%|          | 0/7555 [00:00<?, ?it/s]"
      ]
     },
     "metadata": {},
     "output_type": "display_data"
    },
    {
     "name": "stdout",
     "output_type": "stream",
     "text": [
      "        "
     ]
    },
    {
     "data": {
      "application/vnd.jupyter.widget-view+json": {
       "model_id": "35acaf7dbafe4b239d10e3c0ffc57d2e",
       "version_major": 2,
       "version_minor": 0
      },
      "text/plain": [
       "Fingerprinting... #0:   0%|          | 0/11 [00:00<?, ?ex/s]"
      ]
     },
     "metadata": {},
     "output_type": "display_data"
    },
    {
     "data": {
      "application/vnd.jupyter.widget-view+json": {
       "model_id": "ffd751969ed34311902d0cb5eea921d7",
       "version_major": 2,
       "version_minor": 0
      },
      "text/plain": [
       "Fingerprinting... #1:   0%|          | 0/11 [00:00<?, ?ex/s]"
      ]
     },
     "metadata": {},
     "output_type": "display_data"
    },
    {
     "data": {
      "application/vnd.jupyter.widget-view+json": {
       "model_id": "68a488ef93da42488e96beff621f44f8",
       "version_major": 2,
       "version_minor": 0
      },
      "text/plain": [
       "Fingerprinting... #3:   0%|          | 0/10 [00:00<?, ?ex/s]"
      ]
     },
     "metadata": {},
     "output_type": "display_data"
    },
    {
     "data": {
      "application/vnd.jupyter.widget-view+json": {
       "model_id": "a66db9213eb849d780c545df7348a67a",
       "version_major": 2,
       "version_minor": 0
      },
      "text/plain": [
       "Fingerprinting... #2:   0%|          | 0/11 [00:00<?, ?ex/s]"
      ]
     },
     "metadata": {},
     "output_type": "display_data"
    },
    {
     "name": "stdout",
     "output_type": "stream",
     "text": [
      "                                            "
     ]
    },
    {
     "data": {
      "application/vnd.jupyter.widget-view+json": {
       "model_id": "47809982514a42fd8dce97615e4d9a65",
       "version_major": 2,
       "version_minor": 0
      },
      "text/plain": [
       "Querying... #0:   0%|          | 0/313 [00:00<?, ?ex/s]"
      ]
     },
     "metadata": {},
     "output_type": "display_data"
    },
    {
     "name": "stdout",
     "output_type": "stream",
     "text": [
      "  "
     ]
    },
    {
     "data": {
      "application/vnd.jupyter.widget-view+json": {
       "model_id": "00010556933b4ca2af4fd5f70d9c06a9",
       "version_major": 2,
       "version_minor": 0
      },
      "text/plain": [
       "Querying... #2:   0%|          | 0/313 [00:00<?, ?ex/s]"
      ]
     },
     "metadata": {},
     "output_type": "display_data"
    },
    {
     "name": "stdout",
     "output_type": "stream",
     "text": [
      "  "
     ]
    },
    {
     "data": {
      "application/vnd.jupyter.widget-view+json": {
       "model_id": "6ebca299829b482faad062e832b5a780",
       "version_major": 2,
       "version_minor": 0
      },
      "text/plain": [
       "Querying... #3:   0%|          | 0/313 [00:00<?, ?ex/s]"
      ]
     },
     "metadata": {},
     "output_type": "display_data"
    },
    {
     "name": "stdout",
     "output_type": "stream",
     "text": [
      " "
     ]
    },
    {
     "data": {
      "application/vnd.jupyter.widget-view+json": {
       "model_id": "0e5cf89af13f43799629dac4566698ad",
       "version_major": 2,
       "version_minor": 0
      },
      "text/plain": [
       "Querying... #1:   0%|          | 0/313 [00:00<?, ?ex/s]"
      ]
     },
     "metadata": {},
     "output_type": "display_data"
    },
    {
     "name": "stdout",
     "output_type": "stream",
     "text": [
      " "
     ]
    },
    {
     "data": {
      "application/vnd.jupyter.widget-view+json": {
       "model_id": "75376b7257d345bbab1970a4b5b98b4d",
       "version_major": 2,
       "version_minor": 0
      },
      "text/plain": [
       "Querying... #5:   0%|          | 0/313 [00:00<?, ?ex/s]"
      ]
     },
     "metadata": {},
     "output_type": "display_data"
    },
    {
     "name": "stdout",
     "output_type": "stream",
     "text": [
      "      "
     ]
    },
    {
     "data": {
      "application/vnd.jupyter.widget-view+json": {
       "model_id": "2e1e566d01bd491ba627af132d23f682",
       "version_major": 2,
       "version_minor": 0
      },
      "text/plain": [
       "Querying... #6:   0%|          | 0/313 [00:00<?, ?ex/s]"
      ]
     },
     "metadata": {},
     "output_type": "display_data"
    },
    {
     "data": {
      "application/vnd.jupyter.widget-view+json": {
       "model_id": "a4f167d473274dea9c4ad13454fc1b25",
       "version_major": 2,
       "version_minor": 0
      },
      "text/plain": [
       "Querying... #9:   0%|          | 0/313 [00:00<?, ?ex/s]"
      ]
     },
     "metadata": {},
     "output_type": "display_data"
    },
    {
     "name": "stdout",
     "output_type": "stream",
     "text": [
      " "
     ]
    },
    {
     "data": {
      "application/vnd.jupyter.widget-view+json": {
       "model_id": "9e50b0f2be1c4926abc6497d41270eb0",
       "version_major": 2,
       "version_minor": 0
      },
      "text/plain": [
       "Querying... #8:   0%|          | 0/313 [00:00<?, ?ex/s]"
      ]
     },
     "metadata": {},
     "output_type": "display_data"
    },
    {
     "data": {
      "application/vnd.jupyter.widget-view+json": {
       "model_id": "f3d186ded8ca479fa514fb396e922858",
       "version_major": 2,
       "version_minor": 0
      },
      "text/plain": [
       "Querying... #4:   0%|          | 0/313 [00:00<?, ?ex/s]"
      ]
     },
     "metadata": {},
     "output_type": "display_data"
    },
    {
     "name": "stdout",
     "output_type": "stream",
     "text": [
      " "
     ]
    },
    {
     "data": {
      "application/vnd.jupyter.widget-view+json": {
       "model_id": "89bfee185ba74125ac982a3e7eb64fc0",
       "version_major": 2,
       "version_minor": 0
      },
      "text/plain": [
       "Querying... #10:   0%|          | 0/313 [00:00<?, ?ex/s]"
      ]
     },
     "metadata": {},
     "output_type": "display_data"
    },
    {
     "name": "stdout",
     "output_type": "stream",
     "text": [
      "   "
     ]
    },
    {
     "data": {
      "application/vnd.jupyter.widget-view+json": {
       "model_id": "64937bdb0d184c248fd61fc8600b84f4",
       "version_major": 2,
       "version_minor": 0
      },
      "text/plain": [
       "Querying... #11:   0%|          | 0/313 [00:00<?, ?ex/s]"
      ]
     },
     "metadata": {},
     "output_type": "display_data"
    },
    {
     "name": "stdout",
     "output_type": "stream",
     "text": [
      " "
     ]
    },
    {
     "data": {
      "application/vnd.jupyter.widget-view+json": {
       "model_id": "7858857085244729b0fc37cf78fa0fcd",
       "version_major": 2,
       "version_minor": 0
      },
      "text/plain": [
       "Querying... #7:   0%|          | 0/313 [00:00<?, ?ex/s]"
      ]
     },
     "metadata": {},
     "output_type": "display_data"
    },
    {
     "data": {
      "application/vnd.jupyter.widget-view+json": {
       "model_id": "a240ad3338be44ecae7a4f4715780245",
       "version_major": 2,
       "version_minor": 0
      },
      "text/plain": [
       "Querying... #21:   0%|          | 0/312 [00:00<?, ?ex/s]"
      ]
     },
     "metadata": {},
     "output_type": "display_data"
    },
    {
     "data": {
      "application/vnd.jupyter.widget-view+json": {
       "model_id": "594894374fb9426b94666ffb2a42225c",
       "version_major": 2,
       "version_minor": 0
      },
      "text/plain": [
       "Querying... #23:   0%|          | 0/312 [00:00<?, ?ex/s]"
      ]
     },
     "metadata": {},
     "output_type": "display_data"
    },
    {
     "data": {
      "application/vnd.jupyter.widget-view+json": {
       "model_id": "435132615ea445229ce6fecc6733af4c",
       "version_major": 2,
       "version_minor": 0
      },
      "text/plain": [
       "Querying... #26:   0%|          | 0/312 [00:00<?, ?ex/s]"
      ]
     },
     "metadata": {},
     "output_type": "display_data"
    },
    {
     "data": {
      "application/vnd.jupyter.widget-view+json": {
       "model_id": "935e8f9e36594e7892afe1db9dfe2a4b",
       "version_major": 2,
       "version_minor": 0
      },
      "text/plain": [
       "Querying... #15:   0%|          | 0/313 [00:00<?, ?ex/s]"
      ]
     },
     "metadata": {},
     "output_type": "display_data"
    },
    {
     "data": {
      "application/vnd.jupyter.widget-view+json": {
       "model_id": "fd055e5331604f68bede54395ed43f13",
       "version_major": 2,
       "version_minor": 0
      },
      "text/plain": [
       "Querying... #18:   0%|          | 0/312 [00:00<?, ?ex/s]"
      ]
     },
     "metadata": {},
     "output_type": "display_data"
    },
    {
     "data": {
      "application/vnd.jupyter.widget-view+json": {
       "model_id": "89a56230287e42b2a26a935903a69fd5",
       "version_major": 2,
       "version_minor": 0
      },
      "text/plain": [
       "Querying... #22:   0%|          | 0/312 [00:00<?, ?ex/s]"
      ]
     },
     "metadata": {},
     "output_type": "display_data"
    },
    {
     "data": {
      "application/vnd.jupyter.widget-view+json": {
       "model_id": "3c9eda0fda794bc1afb5ceab29170ee7",
       "version_major": 2,
       "version_minor": 0
      },
      "text/plain": [
       "Querying... #14:   0%|          | 0/313 [00:00<?, ?ex/s]"
      ]
     },
     "metadata": {},
     "output_type": "display_data"
    },
    {
     "data": {
      "application/vnd.jupyter.widget-view+json": {
       "model_id": "fdb810f01fc64c07b83b14aa1a881ae1",
       "version_major": 2,
       "version_minor": 0
      },
      "text/plain": [
       "Querying... #12:   0%|          | 0/313 [00:00<?, ?ex/s]"
      ]
     },
     "metadata": {},
     "output_type": "display_data"
    },
    {
     "data": {
      "application/vnd.jupyter.widget-view+json": {
       "model_id": "61080ef280e948dd971f04f6cc60dc88",
       "version_major": 2,
       "version_minor": 0
      },
      "text/plain": [
       "Querying... #13:   0%|          | 0/313 [00:00<?, ?ex/s]"
      ]
     },
     "metadata": {},
     "output_type": "display_data"
    },
    {
     "data": {
      "application/vnd.jupyter.widget-view+json": {
       "model_id": "6940dd35f9534584b780ef700331b710",
       "version_major": 2,
       "version_minor": 0
      },
      "text/plain": [
       "Querying... #31:   0%|          | 0/312 [00:00<?, ?ex/s]"
      ]
     },
     "metadata": {},
     "output_type": "display_data"
    },
    {
     "data": {
      "application/vnd.jupyter.widget-view+json": {
       "model_id": "ee3deb060e3d434999df3702593092bf",
       "version_major": 2,
       "version_minor": 0
      },
      "text/plain": [
       "Querying... #28:   0%|          | 0/312 [00:00<?, ?ex/s]"
      ]
     },
     "metadata": {},
     "output_type": "display_data"
    },
    {
     "data": {
      "application/vnd.jupyter.widget-view+json": {
       "model_id": "51a5d3afa48548879bf277a9bec0c996",
       "version_major": 2,
       "version_minor": 0
      },
      "text/plain": [
       "Querying... #17:   0%|          | 0/312 [00:00<?, ?ex/s]"
      ]
     },
     "metadata": {},
     "output_type": "display_data"
    },
    {
     "data": {
      "application/vnd.jupyter.widget-view+json": {
       "model_id": "24797a117bcc4be5bafea7707b35f5a4",
       "version_major": 2,
       "version_minor": 0
      },
      "text/plain": [
       "Querying... #20:   0%|          | 0/312 [00:00<?, ?ex/s]"
      ]
     },
     "metadata": {},
     "output_type": "display_data"
    },
    {
     "data": {
      "application/vnd.jupyter.widget-view+json": {
       "model_id": "abf0ea41e9af492ea602375d6cef338d",
       "version_major": 2,
       "version_minor": 0
      },
      "text/plain": [
       "Querying... #19:   0%|          | 0/312 [00:00<?, ?ex/s]"
      ]
     },
     "metadata": {},
     "output_type": "display_data"
    },
    {
     "data": {
      "application/vnd.jupyter.widget-view+json": {
       "model_id": "e8ecef2cdea44d788ba8bf30ff3e0619",
       "version_major": 2,
       "version_minor": 0
      },
      "text/plain": [
       "Querying... #16:   0%|          | 0/312 [00:00<?, ?ex/s]"
      ]
     },
     "metadata": {},
     "output_type": "display_data"
    },
    {
     "name": "stdout",
     "output_type": "stream",
     "text": [
      " "
     ]
    },
    {
     "data": {
      "application/vnd.jupyter.widget-view+json": {
       "model_id": "fb39ca7a47484044a8ec9098ce856bd5",
       "version_major": 2,
       "version_minor": 0
      },
      "text/plain": [
       "Querying... #27:   0%|          | 0/312 [00:00<?, ?ex/s]"
      ]
     },
     "metadata": {},
     "output_type": "display_data"
    },
    {
     "name": "stdout",
     "output_type": "stream",
     "text": [
      " "
     ]
    },
    {
     "data": {
      "application/vnd.jupyter.widget-view+json": {
       "model_id": "7178d2b3a2f64ca5bf563fca1690202d",
       "version_major": 2,
       "version_minor": 0
      },
      "text/plain": [
       "Querying... #29:   0%|          | 0/312 [00:00<?, ?ex/s]"
      ]
     },
     "metadata": {},
     "output_type": "display_data"
    },
    {
     "data": {
      "application/vnd.jupyter.widget-view+json": {
       "model_id": "20028948d2404ffc90234e40d8cc36b9",
       "version_major": 2,
       "version_minor": 0
      },
      "text/plain": [
       "Querying... #30:   0%|          | 0/312 [00:00<?, ?ex/s]"
      ]
     },
     "metadata": {},
     "output_type": "display_data"
    },
    {
     "data": {
      "application/vnd.jupyter.widget-view+json": {
       "model_id": "be9cebc34f0f425db9c9fe1043665596",
       "version_major": 2,
       "version_minor": 0
      },
      "text/plain": [
       "Querying... #25:   0%|          | 0/312 [00:00<?, ?ex/s]"
      ]
     },
     "metadata": {},
     "output_type": "display_data"
    },
    {
     "data": {
      "application/vnd.jupyter.widget-view+json": {
       "model_id": "701af6ac048c4d81b2f155a4dfed4b69",
       "version_major": 2,
       "version_minor": 0
      },
      "text/plain": [
       "Querying... #24:   0%|          | 0/312 [00:00<?, ?ex/s]"
      ]
     },
     "metadata": {},
     "output_type": "display_data"
    },
    {
     "name": "stdout",
     "output_type": "stream",
     "text": [
      "                                   "
     ]
    },
    {
     "data": {
      "application/vnd.jupyter.widget-view+json": {
       "model_id": "783f1001cc2f4471937050dd2fc7987c",
       "version_major": 2,
       "version_minor": 0
      },
      "text/plain": [
       "Filtering... #0:   0%|          | 0/1 [00:00<?, ?ba/s]"
      ]
     },
     "metadata": {},
     "output_type": "display_data"
    },
    {
     "data": {
      "application/vnd.jupyter.widget-view+json": {
       "model_id": "5d5a6673730e4056ba79c7412b9b2b0b",
       "version_major": 2,
       "version_minor": 0
      },
      "text/plain": [
       "Filtering... #1:   0%|          | 0/1 [00:00<?, ?ba/s]"
      ]
     },
     "metadata": {},
     "output_type": "display_data"
    },
    {
     "name": "stdout",
     "output_type": "stream",
     "text": [
      " "
     ]
    },
    {
     "data": {
      "application/vnd.jupyter.widget-view+json": {
       "model_id": "96e4d36af3ff4ac8819590c60851f17a",
       "version_major": 2,
       "version_minor": 0
      },
      "text/plain": [
       "Filtering... #2:   0%|          | 0/1 [00:00<?, ?ba/s]"
      ]
     },
     "metadata": {},
     "output_type": "display_data"
    },
    {
     "name": "stdout",
     "output_type": "stream",
     "text": [
      " "
     ]
    },
    {
     "data": {
      "application/vnd.jupyter.widget-view+json": {
       "model_id": "8149769989d2493fb80ac6f1949266ae",
       "version_major": 2,
       "version_minor": 0
      },
      "text/plain": [
       "Filtering... #3:   0%|          | 0/1 [00:00<?, ?ba/s]"
      ]
     },
     "metadata": {},
     "output_type": "display_data"
    },
    {
     "name": "stdout",
     "output_type": "stream",
     "text": [
      " "
     ]
    },
    {
     "data": {
      "application/vnd.jupyter.widget-view+json": {
       "model_id": "6bcf266fac774b25bf2e865f19ce05bd",
       "version_major": 2,
       "version_minor": 0
      },
      "text/plain": [
       "Filtering... #4:   0%|          | 0/1 [00:00<?, ?ba/s]"
      ]
     },
     "metadata": {},
     "output_type": "display_data"
    },
    {
     "name": "stdout",
     "output_type": "stream",
     "text": [
      " "
     ]
    },
    {
     "data": {
      "application/vnd.jupyter.widget-view+json": {
       "model_id": "0cb02df766f54239849f8cfdfd277096",
       "version_major": 2,
       "version_minor": 0
      },
      "text/plain": [
       "Filtering... #5:   0%|          | 0/1 [00:00<?, ?ba/s]"
      ]
     },
     "metadata": {},
     "output_type": "display_data"
    },
    {
     "name": "stdout",
     "output_type": "stream",
     "text": [
      " "
     ]
    },
    {
     "data": {
      "application/vnd.jupyter.widget-view+json": {
       "model_id": "9bf60d620ae242b7ba697be79baa8521",
       "version_major": 2,
       "version_minor": 0
      },
      "text/plain": [
       "Filtering... #6:   0%|          | 0/1 [00:00<?, ?ba/s]"
      ]
     },
     "metadata": {},
     "output_type": "display_data"
    },
    {
     "name": "stdout",
     "output_type": "stream",
     "text": [
      " "
     ]
    },
    {
     "data": {
      "application/vnd.jupyter.widget-view+json": {
       "model_id": "10955f84f507453b9d362a94948b0f6f",
       "version_major": 2,
       "version_minor": 0
      },
      "text/plain": [
       "Filtering... #7:   0%|          | 0/1 [00:00<?, ?ba/s]"
      ]
     },
     "metadata": {},
     "output_type": "display_data"
    },
    {
     "name": "stdout",
     "output_type": "stream",
     "text": [
      " "
     ]
    },
    {
     "data": {
      "application/vnd.jupyter.widget-view+json": {
       "model_id": "11373f41e61b4ba9a54771a78b509808",
       "version_major": 2,
       "version_minor": 0
      },
      "text/plain": [
       "Filtering... #8:   0%|          | 0/1 [00:00<?, ?ba/s]"
      ]
     },
     "metadata": {},
     "output_type": "display_data"
    },
    {
     "name": "stdout",
     "output_type": "stream",
     "text": [
      " "
     ]
    },
    {
     "data": {
      "application/vnd.jupyter.widget-view+json": {
       "model_id": "84ee2b5306ee46b5b2eda37c1bc1210f",
       "version_major": 2,
       "version_minor": 0
      },
      "text/plain": [
       "Filtering... #9:   0%|          | 0/1 [00:00<?, ?ba/s]"
      ]
     },
     "metadata": {},
     "output_type": "display_data"
    },
    {
     "name": "stdout",
     "output_type": "stream",
     "text": [
      " "
     ]
    },
    {
     "data": {
      "application/vnd.jupyter.widget-view+json": {
       "model_id": "6002ffe33bfe412e81a5fbcba0ea1b89",
       "version_major": 2,
       "version_minor": 0
      },
      "text/plain": [
       "Filtering... #10:   0%|          | 0/1 [00:00<?, ?ba/s]"
      ]
     },
     "metadata": {},
     "output_type": "display_data"
    },
    {
     "name": "stdout",
     "output_type": "stream",
     "text": [
      " "
     ]
    },
    {
     "data": {
      "application/vnd.jupyter.widget-view+json": {
       "model_id": "7273240f8b194bc484742ec25814496b",
       "version_major": 2,
       "version_minor": 0
      },
      "text/plain": [
       "Filtering... #11:   0%|          | 0/1 [00:00<?, ?ba/s]"
      ]
     },
     "metadata": {},
     "output_type": "display_data"
    },
    {
     "name": "stdout",
     "output_type": "stream",
     "text": [
      "  "
     ]
    },
    {
     "data": {
      "application/vnd.jupyter.widget-view+json": {
       "model_id": "336f068541a645c3903b0b36ba815405",
       "version_major": 2,
       "version_minor": 0
      },
      "text/plain": [
       "Filtering... #12:   0%|          | 0/1 [00:00<?, ?ba/s]"
      ]
     },
     "metadata": {},
     "output_type": "display_data"
    },
    {
     "name": "stdout",
     "output_type": "stream",
     "text": [
      " "
     ]
    },
    {
     "data": {
      "application/vnd.jupyter.widget-view+json": {
       "model_id": "222cc4c9579a4c46bffe12ad3e09b9b4",
       "version_major": 2,
       "version_minor": 0
      },
      "text/plain": [
       "Filtering... #13:   0%|          | 0/1 [00:00<?, ?ba/s]"
      ]
     },
     "metadata": {},
     "output_type": "display_data"
    },
    {
     "data": {
      "application/vnd.jupyter.widget-view+json": {
       "model_id": "405bf5e5ae6541a0a44d5e4cba17224d",
       "version_major": 2,
       "version_minor": 0
      },
      "text/plain": [
       "Filtering... #14:   0%|          | 0/1 [00:00<?, ?ba/s]"
      ]
     },
     "metadata": {},
     "output_type": "display_data"
    },
    {
     "name": "stdout",
     "output_type": "stream",
     "text": [
      "  "
     ]
    },
    {
     "data": {
      "application/vnd.jupyter.widget-view+json": {
       "model_id": "497ad51dfbd64876abe2d346cb48961f",
       "version_major": 2,
       "version_minor": 0
      },
      "text/plain": [
       "Filtering... #15:   0%|          | 0/1 [00:00<?, ?ba/s]"
      ]
     },
     "metadata": {},
     "output_type": "display_data"
    },
    {
     "name": "stdout",
     "output_type": "stream",
     "text": [
      " "
     ]
    },
    {
     "data": {
      "application/vnd.jupyter.widget-view+json": {
       "model_id": "f85482a6b68944e7a32c00c18311cff1",
       "version_major": 2,
       "version_minor": 0
      },
      "text/plain": [
       "Filtering... #16:   0%|          | 0/1 [00:00<?, ?ba/s]"
      ]
     },
     "metadata": {},
     "output_type": "display_data"
    },
    {
     "data": {
      "application/vnd.jupyter.widget-view+json": {
       "model_id": "74f36ce421da43fc80c3aa16af846a5c",
       "version_major": 2,
       "version_minor": 0
      },
      "text/plain": [
       "Filtering... #17:   0%|          | 0/1 [00:00<?, ?ba/s]"
      ]
     },
     "metadata": {},
     "output_type": "display_data"
    },
    {
     "name": "stdout",
     "output_type": "stream",
     "text": [
      " "
     ]
    },
    {
     "data": {
      "application/vnd.jupyter.widget-view+json": {
       "model_id": "8dfc38560b714277a7c3eda52deb8dc1",
       "version_major": 2,
       "version_minor": 0
      },
      "text/plain": [
       "Filtering... #18:   0%|          | 0/1 [00:00<?, ?ba/s]"
      ]
     },
     "metadata": {},
     "output_type": "display_data"
    },
    {
     "name": "stdout",
     "output_type": "stream",
     "text": [
      " "
     ]
    },
    {
     "data": {
      "application/vnd.jupyter.widget-view+json": {
       "model_id": "d9514ba20f534a0eaf757c28aa8e9a8c",
       "version_major": 2,
       "version_minor": 0
      },
      "text/plain": [
       "Filtering... #19:   0%|          | 0/1 [00:00<?, ?ba/s]"
      ]
     },
     "metadata": {},
     "output_type": "display_data"
    },
    {
     "name": "stdout",
     "output_type": "stream",
     "text": [
      "  "
     ]
    },
    {
     "data": {
      "application/vnd.jupyter.widget-view+json": {
       "model_id": "232a93d13f0c435ab8e9ed7635e43383",
       "version_major": 2,
       "version_minor": 0
      },
      "text/plain": [
       "Filtering... #20:   0%|          | 0/1 [00:00<?, ?ba/s]"
      ]
     },
     "metadata": {},
     "output_type": "display_data"
    },
    {
     "name": "stdout",
     "output_type": "stream",
     "text": [
      " "
     ]
    },
    {
     "data": {
      "application/vnd.jupyter.widget-view+json": {
       "model_id": "89732b2ded154f1dac6a615f4341a884",
       "version_major": 2,
       "version_minor": 0
      },
      "text/plain": [
       "Filtering... #21:   0%|          | 0/1 [00:00<?, ?ba/s]"
      ]
     },
     "metadata": {},
     "output_type": "display_data"
    },
    {
     "data": {
      "application/vnd.jupyter.widget-view+json": {
       "model_id": "93a50d93c7f14b3c8da8de9d9b578efe",
       "version_major": 2,
       "version_minor": 0
      },
      "text/plain": [
       "Filtering... #22:   0%|          | 0/1 [00:00<?, ?ba/s]"
      ]
     },
     "metadata": {},
     "output_type": "display_data"
    },
    {
     "data": {
      "application/vnd.jupyter.widget-view+json": {
       "model_id": "da262816f2224a929e6fc924697a81a2",
       "version_major": 2,
       "version_minor": 0
      },
      "text/plain": [
       "Filtering... #23:   0%|          | 0/1 [00:00<?, ?ba/s]"
      ]
     },
     "metadata": {},
     "output_type": "display_data"
    },
    {
     "name": "stdout",
     "output_type": "stream",
     "text": [
      "    "
     ]
    },
    {
     "data": {
      "application/vnd.jupyter.widget-view+json": {
       "model_id": "9159f593d19d4687b700102c2ff2bcac",
       "version_major": 2,
       "version_minor": 0
      },
      "text/plain": [
       "Filtering... #26:   0%|          | 0/1 [00:00<?, ?ba/s]"
      ]
     },
     "metadata": {},
     "output_type": "display_data"
    },
    {
     "data": {
      "application/vnd.jupyter.widget-view+json": {
       "model_id": "21c7c1453e84466d827140bf62ac0684",
       "version_major": 2,
       "version_minor": 0
      },
      "text/plain": [
       "Filtering... #27:   0%|          | 0/1 [00:00<?, ?ba/s]"
      ]
     },
     "metadata": {},
     "output_type": "display_data"
    },
    {
     "data": {
      "application/vnd.jupyter.widget-view+json": {
       "model_id": "fcb7806838a946a8b838a1072f149008",
       "version_major": 2,
       "version_minor": 0
      },
      "text/plain": [
       "Filtering... #28:   0%|          | 0/1 [00:00<?, ?ba/s]"
      ]
     },
     "metadata": {},
     "output_type": "display_data"
    },
    {
     "name": "stdout",
     "output_type": "stream",
     "text": [
      "   "
     ]
    },
    {
     "data": {
      "application/vnd.jupyter.widget-view+json": {
       "model_id": "03d208402c4346a98bdd3a6334b49007",
       "version_major": 2,
       "version_minor": 0
      },
      "text/plain": [
       "Filtering... #29:   0%|          | 0/1 [00:00<?, ?ba/s]"
      ]
     },
     "metadata": {},
     "output_type": "display_data"
    },
    {
     "name": "stdout",
     "output_type": "stream",
     "text": [
      " "
     ]
    },
    {
     "data": {
      "application/vnd.jupyter.widget-view+json": {
       "model_id": "ff4f5098a76e4e7db098f2558583e73b",
       "version_major": 2,
       "version_minor": 0
      },
      "text/plain": [
       "Filtering... #30:   0%|          | 0/1 [00:00<?, ?ba/s]"
      ]
     },
     "metadata": {},
     "output_type": "display_data"
    },
    {
     "data": {
      "application/vnd.jupyter.widget-view+json": {
       "model_id": "9ab7938e26c84c2eb2dfe6616c0dd459",
       "version_major": 2,
       "version_minor": 0
      },
      "text/plain": [
       "Filtering... #25:   0%|          | 0/1 [00:00<?, ?ba/s]"
      ]
     },
     "metadata": {},
     "output_type": "display_data"
    },
    {
     "data": {
      "application/vnd.jupyter.widget-view+json": {
       "model_id": "0c7f5cd7e56d4be289d776f6ed97f5a0",
       "version_major": 2,
       "version_minor": 0
      },
      "text/plain": [
       "Filtering... #24:   0%|          | 0/1 [00:00<?, ?ba/s]"
      ]
     },
     "metadata": {},
     "output_type": "display_data"
    },
    {
     "data": {
      "application/vnd.jupyter.widget-view+json": {
       "model_id": "3a12f8cef17c4ef185d0a15fad1b604d",
       "version_major": 2,
       "version_minor": 0
      },
      "text/plain": [
       "Filtering... #31:   0%|          | 0/1 [00:00<?, ?ba/s]"
      ]
     },
     "metadata": {},
     "output_type": "display_data"
    },
    {
     "data": {
      "application/vnd.jupyter.widget-view+json": {
       "model_id": "59a11ed8e6484c8fb7c01ad1b2c9e627",
       "version_major": 2,
       "version_minor": 0
      },
      "text/plain": [
       "Checking for false positives...:   0%|          | 0/5533 [00:00<?, ?it/s]"
      ]
     },
     "metadata": {},
     "output_type": "display_data"
    },
    {
     "name": "stdout",
     "output_type": "stream",
     "text": [
      "        "
     ]
    },
    {
     "data": {
      "application/vnd.jupyter.widget-view+json": {
       "model_id": "4b8ef34c82f84de184fae841919b134b",
       "version_major": 2,
       "version_minor": 0
      },
      "text/plain": [
       "Fingerprinting... #0:   0%|          | 0/2 [00:00<?, ?ex/s]"
      ]
     },
     "metadata": {},
     "output_type": "display_data"
    },
    {
     "data": {
      "application/vnd.jupyter.widget-view+json": {
       "model_id": "f249e17c6a5a4b05988d2d3a57f94333",
       "version_major": 2,
       "version_minor": 0
      },
      "text/plain": [
       "Fingerprinting... #1:   0%|          | 0/2 [00:00<?, ?ex/s]"
      ]
     },
     "metadata": {},
     "output_type": "display_data"
    },
    {
     "data": {
      "application/vnd.jupyter.widget-view+json": {
       "model_id": "b17d6693bd2f4dc287ede4adf56c8772",
       "version_major": 2,
       "version_minor": 0
      },
      "text/plain": [
       "Fingerprinting... #2:   0%|          | 0/2 [00:00<?, ?ex/s]"
      ]
     },
     "metadata": {},
     "output_type": "display_data"
    },
    {
     "data": {
      "application/vnd.jupyter.widget-view+json": {
       "model_id": "21219f30aa45454cb54e1d9dc7dc70d8",
       "version_major": 2,
       "version_minor": 0
      },
      "text/plain": [
       "Fingerprinting... #3:   0%|          | 0/1 [00:00<?, ?ex/s]"
      ]
     },
     "metadata": {},
     "output_type": "display_data"
    },
    {
     "name": "stdout",
     "output_type": "stream",
     "text": [
      "                                             "
     ]
    },
    {
     "data": {
      "application/vnd.jupyter.widget-view+json": {
       "model_id": "038ddac74e9f462ebe91efa58899367c",
       "version_major": 2,
       "version_minor": 0
      },
      "text/plain": [
       "Querying... #1:   0%|          | 0/313 [00:00<?, ?ex/s]"
      ]
     },
     "metadata": {},
     "output_type": "display_data"
    },
    {
     "name": "stdout",
     "output_type": "stream",
     "text": [
      " "
     ]
    },
    {
     "data": {
      "application/vnd.jupyter.widget-view+json": {
       "model_id": "ceeac84ba0bf4cd180962ba0b0289289",
       "version_major": 2,
       "version_minor": 0
      },
      "text/plain": [
       "Querying... #0:   0%|          | 0/313 [00:00<?, ?ex/s]"
      ]
     },
     "metadata": {},
     "output_type": "display_data"
    },
    {
     "name": "stdout",
     "output_type": "stream",
     "text": [
      " "
     ]
    },
    {
     "data": {
      "application/vnd.jupyter.widget-view+json": {
       "model_id": "c0c14a039f6c4448838d68d58c5c37cf",
       "version_major": 2,
       "version_minor": 0
      },
      "text/plain": [
       "Querying... #2:   0%|          | 0/313 [00:00<?, ?ex/s]"
      ]
     },
     "metadata": {},
     "output_type": "display_data"
    },
    {
     "name": "stdout",
     "output_type": "stream",
     "text": [
      "  "
     ]
    },
    {
     "data": {
      "application/vnd.jupyter.widget-view+json": {
       "model_id": "dd8577d6ba004a8c9115d395fe71b547",
       "version_major": 2,
       "version_minor": 0
      },
      "text/plain": [
       "Querying... #3:   0%|          | 0/313 [00:00<?, ?ex/s]"
      ]
     },
     "metadata": {},
     "output_type": "display_data"
    },
    {
     "data": {
      "application/vnd.jupyter.widget-view+json": {
       "model_id": "4cabb481a6be4fd3bc2433cbba6a9576",
       "version_major": 2,
       "version_minor": 0
      },
      "text/plain": [
       "Querying... #4:   0%|          | 0/313 [00:00<?, ?ex/s]"
      ]
     },
     "metadata": {},
     "output_type": "display_data"
    },
    {
     "name": "stdout",
     "output_type": "stream",
     "text": [
      "    "
     ]
    },
    {
     "data": {
      "application/vnd.jupyter.widget-view+json": {
       "model_id": "6883a08953634770bd2c1e38a1db11a2",
       "version_major": 2,
       "version_minor": 0
      },
      "text/plain": [
       "Querying... #5:   0%|          | 0/313 [00:00<?, ?ex/s]"
      ]
     },
     "metadata": {},
     "output_type": "display_data"
    },
    {
     "name": "stdout",
     "output_type": "stream",
     "text": [
      " "
     ]
    },
    {
     "data": {
      "application/vnd.jupyter.widget-view+json": {
       "model_id": "5d7a8d8678f3434e91fdbb9509d8811c",
       "version_major": 2,
       "version_minor": 0
      },
      "text/plain": [
       "Querying... #9:   0%|          | 0/313 [00:00<?, ?ex/s]"
      ]
     },
     "metadata": {},
     "output_type": "display_data"
    },
    {
     "name": "stdout",
     "output_type": "stream",
     "text": [
      " "
     ]
    },
    {
     "data": {
      "application/vnd.jupyter.widget-view+json": {
       "model_id": "72e55e49186a4caeaae71b34cd8aaa53",
       "version_major": 2,
       "version_minor": 0
      },
      "text/plain": [
       "Querying... #7:   0%|          | 0/313 [00:00<?, ?ex/s]"
      ]
     },
     "metadata": {},
     "output_type": "display_data"
    },
    {
     "data": {
      "application/vnd.jupyter.widget-view+json": {
       "model_id": "9047700f8435401b92effb0afcccbfcf",
       "version_major": 2,
       "version_minor": 0
      },
      "text/plain": [
       "Querying... #6:   0%|          | 0/313 [00:00<?, ?ex/s]"
      ]
     },
     "metadata": {},
     "output_type": "display_data"
    },
    {
     "data": {
      "application/vnd.jupyter.widget-view+json": {
       "model_id": "3730cc0edc094d7f96b538ffa0340b56",
       "version_major": 2,
       "version_minor": 0
      },
      "text/plain": [
       "Querying... #12:   0%|          | 0/313 [00:00<?, ?ex/s]"
      ]
     },
     "metadata": {},
     "output_type": "display_data"
    },
    {
     "data": {
      "application/vnd.jupyter.widget-view+json": {
       "model_id": "317c8f93bdbc4751b5356c2250e60601",
       "version_major": 2,
       "version_minor": 0
      },
      "text/plain": [
       "Querying... #8:   0%|          | 0/313 [00:00<?, ?ex/s]"
      ]
     },
     "metadata": {},
     "output_type": "display_data"
    },
    {
     "data": {
      "application/vnd.jupyter.widget-view+json": {
       "model_id": "f5b944f4f49a47bc87a7fe195d8bb522",
       "version_major": 2,
       "version_minor": 0
      },
      "text/plain": [
       "Querying... #11:   0%|          | 0/313 [00:00<?, ?ex/s]"
      ]
     },
     "metadata": {},
     "output_type": "display_data"
    },
    {
     "name": "stdout",
     "output_type": "stream",
     "text": [
      " "
     ]
    },
    {
     "data": {
      "application/vnd.jupyter.widget-view+json": {
       "model_id": "76c281c6e49d4d1893386b16a3836817",
       "version_major": 2,
       "version_minor": 0
      },
      "text/plain": [
       "Querying... #13:   0%|          | 0/313 [00:00<?, ?ex/s]"
      ]
     },
     "metadata": {},
     "output_type": "display_data"
    },
    {
     "name": "stdout",
     "output_type": "stream",
     "text": [
      " "
     ]
    },
    {
     "data": {
      "application/vnd.jupyter.widget-view+json": {
       "model_id": "e33aad3c4a8549289566c3fcd32581f1",
       "version_major": 2,
       "version_minor": 0
      },
      "text/plain": [
       "Querying... #10:   0%|          | 0/313 [00:00<?, ?ex/s]"
      ]
     },
     "metadata": {},
     "output_type": "display_data"
    },
    {
     "name": "stdout",
     "output_type": "stream",
     "text": [
      "     "
     ]
    },
    {
     "data": {
      "application/vnd.jupyter.widget-view+json": {
       "model_id": "fb64227445594049943973e7172f8d62",
       "version_major": 2,
       "version_minor": 0
      },
      "text/plain": [
       "Querying... #17:   0%|          | 0/312 [00:00<?, ?ex/s]"
      ]
     },
     "metadata": {},
     "output_type": "display_data"
    },
    {
     "data": {
      "application/vnd.jupyter.widget-view+json": {
       "model_id": "9eec0461df624e1f8a5bf994626760eb",
       "version_major": 2,
       "version_minor": 0
      },
      "text/plain": [
       "Querying... #16:   0%|          | 0/312 [00:00<?, ?ex/s]"
      ]
     },
     "metadata": {},
     "output_type": "display_data"
    },
    {
     "data": {
      "application/vnd.jupyter.widget-view+json": {
       "model_id": "8e9480aa60b04cac8e1015004a402444",
       "version_major": 2,
       "version_minor": 0
      },
      "text/plain": [
       "Querying... #14:   0%|          | 0/313 [00:00<?, ?ex/s]"
      ]
     },
     "metadata": {},
     "output_type": "display_data"
    },
    {
     "name": "stdout",
     "output_type": "stream",
     "text": [
      " "
     ]
    },
    {
     "data": {
      "application/vnd.jupyter.widget-view+json": {
       "model_id": "dc8b464ef4e64263b9dacc4783c1b666",
       "version_major": 2,
       "version_minor": 0
      },
      "text/plain": [
       "Querying... #18:   0%|          | 0/312 [00:00<?, ?ex/s]"
      ]
     },
     "metadata": {},
     "output_type": "display_data"
    },
    {
     "data": {
      "application/vnd.jupyter.widget-view+json": {
       "model_id": "be27353a069846b2b3b82721baee0fae",
       "version_major": 2,
       "version_minor": 0
      },
      "text/plain": [
       "Querying... #15:   0%|          | 0/313 [00:00<?, ?ex/s]"
      ]
     },
     "metadata": {},
     "output_type": "display_data"
    },
    {
     "data": {
      "application/vnd.jupyter.widget-view+json": {
       "model_id": "f76e5ab3c71a4f909a7574cffcd150f3",
       "version_major": 2,
       "version_minor": 0
      },
      "text/plain": [
       "Querying... #22:   0%|          | 0/312 [00:00<?, ?ex/s]"
      ]
     },
     "metadata": {},
     "output_type": "display_data"
    },
    {
     "name": "stdout",
     "output_type": "stream",
     "text": [
      " "
     ]
    },
    {
     "data": {
      "application/vnd.jupyter.widget-view+json": {
       "model_id": "bb10e7c0844441c58dbce1b1a0eb0fb5",
       "version_major": 2,
       "version_minor": 0
      },
      "text/plain": [
       "Querying... #28:   0%|          | 0/312 [00:00<?, ?ex/s]"
      ]
     },
     "metadata": {},
     "output_type": "display_data"
    },
    {
     "data": {
      "application/vnd.jupyter.widget-view+json": {
       "model_id": "7f577ae4c0c64bbcb92e83ccaf49e5c9",
       "version_major": 2,
       "version_minor": 0
      },
      "text/plain": [
       "Querying... #19:   0%|          | 0/312 [00:00<?, ?ex/s]"
      ]
     },
     "metadata": {},
     "output_type": "display_data"
    },
    {
     "data": {
      "application/vnd.jupyter.widget-view+json": {
       "model_id": "a22c5b43d1114db8ad1fb900fa9df1f8",
       "version_major": 2,
       "version_minor": 0
      },
      "text/plain": [
       "Querying... #29:   0%|          | 0/312 [00:00<?, ?ex/s]"
      ]
     },
     "metadata": {},
     "output_type": "display_data"
    },
    {
     "data": {
      "application/vnd.jupyter.widget-view+json": {
       "model_id": "654eda1cbb1c42b6be98106cd1000f5e",
       "version_major": 2,
       "version_minor": 0
      },
      "text/plain": [
       "Querying... #26:   0%|          | 0/312 [00:00<?, ?ex/s]"
      ]
     },
     "metadata": {},
     "output_type": "display_data"
    },
    {
     "data": {
      "application/vnd.jupyter.widget-view+json": {
       "model_id": "abdc4ce278bc445d9225c1b65a547552",
       "version_major": 2,
       "version_minor": 0
      },
      "text/plain": [
       "Querying... #20:   0%|          | 0/312 [00:00<?, ?ex/s]"
      ]
     },
     "metadata": {},
     "output_type": "display_data"
    },
    {
     "data": {
      "application/vnd.jupyter.widget-view+json": {
       "model_id": "b4714f40f1854667872c85720590112d",
       "version_major": 2,
       "version_minor": 0
      },
      "text/plain": [
       "Querying... #21:   0%|          | 0/312 [00:00<?, ?ex/s]"
      ]
     },
     "metadata": {},
     "output_type": "display_data"
    },
    {
     "data": {
      "application/vnd.jupyter.widget-view+json": {
       "model_id": "aa7b2696d5944c6d8ce7c148d433d9f5",
       "version_major": 2,
       "version_minor": 0
      },
      "text/plain": [
       "Querying... #31:   0%|          | 0/312 [00:00<?, ?ex/s]"
      ]
     },
     "metadata": {},
     "output_type": "display_data"
    },
    {
     "data": {
      "application/vnd.jupyter.widget-view+json": {
       "model_id": "9938a79bf92a4204946c0f7a8fedf946",
       "version_major": 2,
       "version_minor": 0
      },
      "text/plain": [
       "Querying... #27:   0%|          | 0/312 [00:00<?, ?ex/s]"
      ]
     },
     "metadata": {},
     "output_type": "display_data"
    },
    {
     "data": {
      "application/vnd.jupyter.widget-view+json": {
       "model_id": "3b7934c0caf542a68acde44da28d30d5",
       "version_major": 2,
       "version_minor": 0
      },
      "text/plain": [
       "Querying... #30:   0%|          | 0/312 [00:00<?, ?ex/s]"
      ]
     },
     "metadata": {},
     "output_type": "display_data"
    },
    {
     "data": {
      "application/vnd.jupyter.widget-view+json": {
       "model_id": "b836cf5762e648d78433560cee14765d",
       "version_major": 2,
       "version_minor": 0
      },
      "text/plain": [
       "Querying... #23:   0%|          | 0/312 [00:00<?, ?ex/s]"
      ]
     },
     "metadata": {},
     "output_type": "display_data"
    },
    {
     "data": {
      "application/vnd.jupyter.widget-view+json": {
       "model_id": "8e88a37831234788b3d70ae5c17afe17",
       "version_major": 2,
       "version_minor": 0
      },
      "text/plain": [
       "Querying... #25:   0%|          | 0/312 [00:00<?, ?ex/s]"
      ]
     },
     "metadata": {},
     "output_type": "display_data"
    },
    {
     "data": {
      "application/vnd.jupyter.widget-view+json": {
       "model_id": "e2b45f87f2d74b4888dddbadfa37871c",
       "version_major": 2,
       "version_minor": 0
      },
      "text/plain": [
       "Querying... #24:   0%|          | 0/312 [00:00<?, ?ex/s]"
      ]
     },
     "metadata": {},
     "output_type": "display_data"
    },
    {
     "name": "stdout",
     "output_type": "stream",
     "text": [
      "                                   "
     ]
    },
    {
     "data": {
      "application/vnd.jupyter.widget-view+json": {
       "model_id": "6e2fee1e6da8414d836d3ce44bf739df",
       "version_major": 2,
       "version_minor": 0
      },
      "text/plain": [
       "Filtering... #0:   0%|          | 0/1 [00:00<?, ?ba/s]"
      ]
     },
     "metadata": {},
     "output_type": "display_data"
    },
    {
     "data": {
      "application/vnd.jupyter.widget-view+json": {
       "model_id": "6d2484fef2df415bbc0b64568d1992b3",
       "version_major": 2,
       "version_minor": 0
      },
      "text/plain": [
       "Filtering... #1:   0%|          | 0/1 [00:00<?, ?ba/s]"
      ]
     },
     "metadata": {},
     "output_type": "display_data"
    },
    {
     "name": "stdout",
     "output_type": "stream",
     "text": [
      " "
     ]
    },
    {
     "data": {
      "application/vnd.jupyter.widget-view+json": {
       "model_id": "3c03cb7f765d46d78e65ddc9c6202fd3",
       "version_major": 2,
       "version_minor": 0
      },
      "text/plain": [
       "Filtering... #2:   0%|          | 0/1 [00:00<?, ?ba/s]"
      ]
     },
     "metadata": {},
     "output_type": "display_data"
    },
    {
     "name": "stdout",
     "output_type": "stream",
     "text": [
      " "
     ]
    },
    {
     "data": {
      "application/vnd.jupyter.widget-view+json": {
       "model_id": "835df50a2f3b4a7d8cc5048a8728f9fb",
       "version_major": 2,
       "version_minor": 0
      },
      "text/plain": [
       "Filtering... #3:   0%|          | 0/1 [00:00<?, ?ba/s]"
      ]
     },
     "metadata": {},
     "output_type": "display_data"
    },
    {
     "name": "stdout",
     "output_type": "stream",
     "text": [
      " "
     ]
    },
    {
     "data": {
      "application/vnd.jupyter.widget-view+json": {
       "model_id": "dd28543655cd45c192943c33ea9e7ceb",
       "version_major": 2,
       "version_minor": 0
      },
      "text/plain": [
       "Filtering... #4:   0%|          | 0/1 [00:00<?, ?ba/s]"
      ]
     },
     "metadata": {},
     "output_type": "display_data"
    },
    {
     "name": "stdout",
     "output_type": "stream",
     "text": [
      "  "
     ]
    },
    {
     "data": {
      "application/vnd.jupyter.widget-view+json": {
       "model_id": "bbc30cf3992b40a7a29417e2d78adae6",
       "version_major": 2,
       "version_minor": 0
      },
      "text/plain": [
       "Filtering... #5:   0%|          | 0/1 [00:00<?, ?ba/s]"
      ]
     },
     "metadata": {},
     "output_type": "display_data"
    },
    {
     "name": "stdout",
     "output_type": "stream",
     "text": [
      " "
     ]
    },
    {
     "data": {
      "application/vnd.jupyter.widget-view+json": {
       "model_id": "a9b0d4cc192144d4917fefac933d25c2",
       "version_major": 2,
       "version_minor": 0
      },
      "text/plain": [
       "Filtering... #6:   0%|          | 0/1 [00:00<?, ?ba/s]"
      ]
     },
     "metadata": {},
     "output_type": "display_data"
    },
    {
     "data": {
      "application/vnd.jupyter.widget-view+json": {
       "model_id": "75240102f1f541948612e42fcc2bb0a7",
       "version_major": 2,
       "version_minor": 0
      },
      "text/plain": [
       "Filtering... #7:   0%|          | 0/1 [00:00<?, ?ba/s]"
      ]
     },
     "metadata": {},
     "output_type": "display_data"
    },
    {
     "name": "stdout",
     "output_type": "stream",
     "text": [
      " "
     ]
    },
    {
     "data": {
      "application/vnd.jupyter.widget-view+json": {
       "model_id": "01dbabfedadf4a00b8cc8d95009ac120",
       "version_major": 2,
       "version_minor": 0
      },
      "text/plain": [
       "Filtering... #8:   0%|          | 0/1 [00:00<?, ?ba/s]"
      ]
     },
     "metadata": {},
     "output_type": "display_data"
    },
    {
     "name": "stdout",
     "output_type": "stream",
     "text": [
      "  "
     ]
    },
    {
     "data": {
      "application/vnd.jupyter.widget-view+json": {
       "model_id": "2c2eb02de2b84ec3a2935223c6d173d5",
       "version_major": 2,
       "version_minor": 0
      },
      "text/plain": [
       "Filtering... #9:   0%|          | 0/1 [00:00<?, ?ba/s]"
      ]
     },
     "metadata": {},
     "output_type": "display_data"
    },
    {
     "data": {
      "application/vnd.jupyter.widget-view+json": {
       "model_id": "3f67173caa09475d9674665d262359a1",
       "version_major": 2,
       "version_minor": 0
      },
      "text/plain": [
       "Filtering... #10:   0%|          | 0/1 [00:00<?, ?ba/s]"
      ]
     },
     "metadata": {},
     "output_type": "display_data"
    },
    {
     "name": "stdout",
     "output_type": "stream",
     "text": [
      " "
     ]
    },
    {
     "data": {
      "application/vnd.jupyter.widget-view+json": {
       "model_id": "10013c3cbe5b41b6bc693ee83b9cea1c",
       "version_major": 2,
       "version_minor": 0
      },
      "text/plain": [
       "Filtering... #11:   0%|          | 0/1 [00:00<?, ?ba/s]"
      ]
     },
     "metadata": {},
     "output_type": "display_data"
    },
    {
     "name": "stdout",
     "output_type": "stream",
     "text": [
      "  "
     ]
    },
    {
     "data": {
      "application/vnd.jupyter.widget-view+json": {
       "model_id": "a59afd6462bb443cbac22a13177083f1",
       "version_major": 2,
       "version_minor": 0
      },
      "text/plain": [
       "Filtering... #12:   0%|          | 0/1 [00:00<?, ?ba/s]"
      ]
     },
     "metadata": {},
     "output_type": "display_data"
    },
    {
     "name": "stdout",
     "output_type": "stream",
     "text": [
      " "
     ]
    },
    {
     "data": {
      "application/vnd.jupyter.widget-view+json": {
       "model_id": "e0ab80ef42284a908792858173f5209b",
       "version_major": 2,
       "version_minor": 0
      },
      "text/plain": [
       "Filtering... #13:   0%|          | 0/1 [00:00<?, ?ba/s]"
      ]
     },
     "metadata": {},
     "output_type": "display_data"
    },
    {
     "data": {
      "application/vnd.jupyter.widget-view+json": {
       "model_id": "e40821b4d8ae440ab885380e8b01f086",
       "version_major": 2,
       "version_minor": 0
      },
      "text/plain": [
       "Filtering... #14:   0%|          | 0/1 [00:00<?, ?ba/s]"
      ]
     },
     "metadata": {},
     "output_type": "display_data"
    },
    {
     "name": "stdout",
     "output_type": "stream",
     "text": [
      " "
     ]
    },
    {
     "data": {
      "application/vnd.jupyter.widget-view+json": {
       "model_id": "e60aa40f99ca42f3bda1e2e6a58c9dd4",
       "version_major": 2,
       "version_minor": 0
      },
      "text/plain": [
       "Filtering... #15:   0%|          | 0/1 [00:00<?, ?ba/s]"
      ]
     },
     "metadata": {},
     "output_type": "display_data"
    },
    {
     "name": "stdout",
     "output_type": "stream",
     "text": [
      " "
     ]
    },
    {
     "data": {
      "application/vnd.jupyter.widget-view+json": {
       "model_id": "5cde8e43893447e3a5ae12445cc3db85",
       "version_major": 2,
       "version_minor": 0
      },
      "text/plain": [
       "Filtering... #16:   0%|          | 0/1 [00:00<?, ?ba/s]"
      ]
     },
     "metadata": {},
     "output_type": "display_data"
    },
    {
     "name": "stdout",
     "output_type": "stream",
     "text": [
      " "
     ]
    },
    {
     "data": {
      "application/vnd.jupyter.widget-view+json": {
       "model_id": "e372d4d7b5604973b56e5309921ed801",
       "version_major": 2,
       "version_minor": 0
      },
      "text/plain": [
       "Filtering... #17:   0%|          | 0/1 [00:00<?, ?ba/s]"
      ]
     },
     "metadata": {},
     "output_type": "display_data"
    },
    {
     "name": "stdout",
     "output_type": "stream",
     "text": [
      " "
     ]
    },
    {
     "data": {
      "application/vnd.jupyter.widget-view+json": {
       "model_id": "b1c18bfc6ba54e8f9dfea4e5790bff61",
       "version_major": 2,
       "version_minor": 0
      },
      "text/plain": [
       "Filtering... #18:   0%|          | 0/1 [00:00<?, ?ba/s]"
      ]
     },
     "metadata": {},
     "output_type": "display_data"
    },
    {
     "name": "stdout",
     "output_type": "stream",
     "text": [
      " "
     ]
    },
    {
     "data": {
      "application/vnd.jupyter.widget-view+json": {
       "model_id": "550dbacb167242e8bc0fe09505395e60",
       "version_major": 2,
       "version_minor": 0
      },
      "text/plain": [
       "Filtering... #19:   0%|          | 0/1 [00:00<?, ?ba/s]"
      ]
     },
     "metadata": {},
     "output_type": "display_data"
    },
    {
     "name": "stdout",
     "output_type": "stream",
     "text": [
      "  "
     ]
    },
    {
     "data": {
      "application/vnd.jupyter.widget-view+json": {
       "model_id": "df52ec98dded42dd83fc4f6e5cb361ac",
       "version_major": 2,
       "version_minor": 0
      },
      "text/plain": [
       "Filtering... #20:   0%|          | 0/1 [00:00<?, ?ba/s]"
      ]
     },
     "metadata": {},
     "output_type": "display_data"
    },
    {
     "data": {
      "application/vnd.jupyter.widget-view+json": {
       "model_id": "30158a5799e3437b8866f4b9c48da1b2",
       "version_major": 2,
       "version_minor": 0
      },
      "text/plain": [
       "Filtering... #21:   0%|          | 0/1 [00:00<?, ?ba/s]"
      ]
     },
     "metadata": {},
     "output_type": "display_data"
    },
    {
     "name": "stdout",
     "output_type": "stream",
     "text": [
      " "
     ]
    },
    {
     "data": {
      "application/vnd.jupyter.widget-view+json": {
       "model_id": "b36deedb0d0e4176bb96e2f485d2939c",
       "version_major": 2,
       "version_minor": 0
      },
      "text/plain": [
       "Filtering... #22:   0%|          | 0/1 [00:00<?, ?ba/s]"
      ]
     },
     "metadata": {},
     "output_type": "display_data"
    },
    {
     "data": {
      "application/vnd.jupyter.widget-view+json": {
       "model_id": "8db237d143804e12ae73d033f5790f77",
       "version_major": 2,
       "version_minor": 0
      },
      "text/plain": [
       "Filtering... #23:   0%|          | 0/1 [00:00<?, ?ba/s]"
      ]
     },
     "metadata": {},
     "output_type": "display_data"
    },
    {
     "name": "stdout",
     "output_type": "stream",
     "text": [
      "    "
     ]
    },
    {
     "data": {
      "application/vnd.jupyter.widget-view+json": {
       "model_id": "5ad4f956b55f4deb81bdc12b0853a9f2",
       "version_major": 2,
       "version_minor": 0
      },
      "text/plain": [
       "Filtering... #26:   0%|          | 0/1 [00:00<?, ?ba/s]"
      ]
     },
     "metadata": {},
     "output_type": "display_data"
    },
    {
     "data": {
      "application/vnd.jupyter.widget-view+json": {
       "model_id": "937708b18d374dbd84b72251cea68937",
       "version_major": 2,
       "version_minor": 0
      },
      "text/plain": [
       "Filtering... #27:   0%|          | 0/1 [00:00<?, ?ba/s]"
      ]
     },
     "metadata": {},
     "output_type": "display_data"
    },
    {
     "name": "stdout",
     "output_type": "stream",
     "text": [
      " "
     ]
    },
    {
     "data": {
      "application/vnd.jupyter.widget-view+json": {
       "model_id": "7be7c1813fa84477afc786530ca0b6ef",
       "version_major": 2,
       "version_minor": 0
      },
      "text/plain": [
       "Filtering... #24:   0%|          | 0/1 [00:00<?, ?ba/s]"
      ]
     },
     "metadata": {},
     "output_type": "display_data"
    },
    {
     "name": "stdout",
     "output_type": "stream",
     "text": [
      " "
     ]
    },
    {
     "data": {
      "application/vnd.jupyter.widget-view+json": {
       "model_id": "746a14de0f5943d7b89f624db9d8c519",
       "version_major": 2,
       "version_minor": 0
      },
      "text/plain": [
       "Filtering... #28:   0%|          | 0/1 [00:00<?, ?ba/s]"
      ]
     },
     "metadata": {},
     "output_type": "display_data"
    },
    {
     "name": "stdout",
     "output_type": "stream",
     "text": [
      " "
     ]
    },
    {
     "data": {
      "application/vnd.jupyter.widget-view+json": {
       "model_id": "34b87937baf64c76b0d89995a50671f3",
       "version_major": 2,
       "version_minor": 0
      },
      "text/plain": [
       "Filtering... #29:   0%|          | 0/1 [00:00<?, ?ba/s]"
      ]
     },
     "metadata": {},
     "output_type": "display_data"
    },
    {
     "name": "stdout",
     "output_type": "stream",
     "text": [
      " "
     ]
    },
    {
     "data": {
      "application/vnd.jupyter.widget-view+json": {
       "model_id": "feadcdc8102e4cac93529232c7efbbc8",
       "version_major": 2,
       "version_minor": 0
      },
      "text/plain": [
       "Filtering... #30:   0%|          | 0/1 [00:00<?, ?ba/s]"
      ]
     },
     "metadata": {},
     "output_type": "display_data"
    },
    {
     "data": {
      "application/vnd.jupyter.widget-view+json": {
       "model_id": "f80cde040ffb45aa87d21c546111480e",
       "version_major": 2,
       "version_minor": 0
      },
      "text/plain": [
       "Filtering... #31:   0%|          | 0/1 [00:00<?, ?ba/s]"
      ]
     },
     "metadata": {},
     "output_type": "display_data"
    },
    {
     "data": {
      "application/vnd.jupyter.widget-view+json": {
       "model_id": "c782e0552b834ef0b1b18f70c3a7ef93",
       "version_major": 2,
       "version_minor": 0
      },
      "text/plain": [
       "Filtering... #25:   0%|          | 0/1 [00:00<?, ?ba/s]"
      ]
     },
     "metadata": {},
     "output_type": "display_data"
    },
    {
     "data": {
      "application/vnd.jupyter.widget-view+json": {
       "model_id": "0c22b8b2c41f4b1093d2d10637f4bcde",
       "version_major": 2,
       "version_minor": 0
      },
      "text/plain": [
       "Checking for false positives...:   0%|          | 0/3552 [00:00<?, ?it/s]"
      ]
     },
     "metadata": {},
     "output_type": "display_data"
    },
    {
     "name": "stdout",
     "output_type": "stream",
     "text": [
      "                                "
     ]
    },
    {
     "data": {
      "text/html": [
       "<pre style=\"white-space:pre;overflow-x:auto;line-height:normal;font-family:Menlo,'DejaVu Sans Mono',consolas,'Courier New',monospace\"><span style=\"color: #7fbfbf; text-decoration-color: #7fbfbf\">[01/12/23 05:06:31] </span><span style=\"color: #000080; text-decoration-color: #000080\">INFO    </span> Data Number                   : <span style=\"color: #008080; text-decoration-color: #008080; font-weight: bold\">10000</span>                                <a href=\"file:///tmp/ipykernel_154371/3890709806.py\" target=\"_blank\"><span style=\"color: #7f7f7f; text-decoration-color: #7f7f7f\">3890709806.py</span></a><span style=\"color: #7f7f7f; text-decoration-color: #7f7f7f\">:</span><a href=\"file:///tmp/ipykernel_154371/3890709806.py#127\" target=\"_blank\"><span style=\"color: #7f7f7f; text-decoration-color: #7f7f7f\">127</span></a>\n",
       "</pre>\n"
      ],
      "text/plain": [
       "\u001b[2;36m[01/12/23 05:06:31]\u001b[0m\u001b[2;36m \u001b[0m\u001b[34mINFO    \u001b[0m Data Number                   : \u001b[1;36m10000\u001b[0m                                \u001b]8;id=882018;file:///tmp/ipykernel_154371/3890709806.py\u001b\\\u001b[2m3890709806.py\u001b[0m\u001b]8;;\u001b\\\u001b[2m:\u001b[0m\u001b]8;id=27706;file:///tmp/ipykernel_154371/3890709806.py#127\u001b\\\u001b[2m127\u001b[0m\u001b]8;;\u001b\\\n"
      ]
     },
     "metadata": {},
     "output_type": "display_data"
    },
    {
     "data": {
      "text/html": [
       "<pre style=\"white-space:pre;overflow-x:auto;line-height:normal;font-family:Menlo,'DejaVu Sans Mono',consolas,'Courier New',monospace\"><span style=\"color: #7fbfbf; text-decoration-color: #7fbfbf\">                    </span><span style=\"color: #000080; text-decoration-color: #000080\">INFO    </span> Duplicate Number              : <span style=\"color: #008080; text-decoration-color: #008080; font-weight: bold\">4611</span>                                 <a href=\"file:///tmp/ipykernel_154371/3890709806.py\" target=\"_blank\"><span style=\"color: #7f7f7f; text-decoration-color: #7f7f7f\">3890709806.py</span></a><span style=\"color: #7f7f7f; text-decoration-color: #7f7f7f\">:</span><a href=\"file:///tmp/ipykernel_154371/3890709806.py#128\" target=\"_blank\"><span style=\"color: #7f7f7f; text-decoration-color: #7f7f7f\">128</span></a>\n",
       "</pre>\n"
      ],
      "text/plain": [
       "\u001b[2;36m                   \u001b[0m\u001b[2;36m \u001b[0m\u001b[34mINFO    \u001b[0m Duplicate Number              : \u001b[1;36m4611\u001b[0m                                 \u001b]8;id=556782;file:///tmp/ipykernel_154371/3890709806.py\u001b\\\u001b[2m3890709806.py\u001b[0m\u001b]8;;\u001b\\\u001b[2m:\u001b[0m\u001b]8;id=669234;file:///tmp/ipykernel_154371/3890709806.py#128\u001b\\\u001b[2m128\u001b[0m\u001b]8;;\u001b\\\n"
      ]
     },
     "metadata": {},
     "output_type": "display_data"
    },
    {
     "data": {
      "text/html": [
       "<pre style=\"white-space:pre;overflow-x:auto;line-height:normal;font-family:Menlo,'DejaVu Sans Mono',consolas,'Courier New',monospace\"><span style=\"color: #7fbfbf; text-decoration-color: #7fbfbf\">                    </span><span style=\"color: #000080; text-decoration-color: #000080\">INFO    </span> Duplicate Rate                : <span style=\"color: #008080; text-decoration-color: #008080; font-weight: bold\">46.11</span>%                               <a href=\"file:///tmp/ipykernel_154371/3890709806.py\" target=\"_blank\"><span style=\"color: #7f7f7f; text-decoration-color: #7f7f7f\">3890709806.py</span></a><span style=\"color: #7f7f7f; text-decoration-color: #7f7f7f\">:</span><a href=\"file:///tmp/ipykernel_154371/3890709806.py#129\" target=\"_blank\"><span style=\"color: #7f7f7f; text-decoration-color: #7f7f7f\">129</span></a>\n",
       "</pre>\n"
      ],
      "text/plain": [
       "\u001b[2;36m                   \u001b[0m\u001b[2;36m \u001b[0m\u001b[34mINFO    \u001b[0m Duplicate Rate                : \u001b[1;36m46.11\u001b[0m%                               \u001b]8;id=921560;file:///tmp/ipykernel_154371/3890709806.py\u001b\\\u001b[2m3890709806.py\u001b[0m\u001b]8;;\u001b\\\u001b[2m:\u001b[0m\u001b]8;id=35290;file:///tmp/ipykernel_154371/3890709806.py#129\u001b\\\u001b[2m129\u001b[0m\u001b]8;;\u001b\\\n"
      ]
     },
     "metadata": {},
     "output_type": "display_data"
    },
    {
     "data": {
      "text/html": [
       "<pre style=\"white-space:pre;overflow-x:auto;line-height:normal;font-family:Menlo,'DejaVu Sans Mono',consolas,'Courier New',monospace\"><span style=\"color: #7fbfbf; text-decoration-color: #7fbfbf\">                    </span><span style=\"color: #000080; text-decoration-color: #000080\">INFO    </span> Total Time                    : <span style=\"color: #008080; text-decoration-color: #008080; font-weight: bold\">151.11</span> seconds                       <a href=\"file:///tmp/ipykernel_154371/3890709806.py\" target=\"_blank\"><span style=\"color: #7f7f7f; text-decoration-color: #7f7f7f\">3890709806.py</span></a><span style=\"color: #7f7f7f; text-decoration-color: #7f7f7f\">:</span><a href=\"file:///tmp/ipykernel_154371/3890709806.py#130\" target=\"_blank\"><span style=\"color: #7f7f7f; text-decoration-color: #7f7f7f\">130</span></a>\n",
       "</pre>\n"
      ],
      "text/plain": [
       "\u001b[2;36m                   \u001b[0m\u001b[2;36m \u001b[0m\u001b[34mINFO    \u001b[0m Total Time                    : \u001b[1;36m151.11\u001b[0m seconds                       \u001b]8;id=895370;file:///tmp/ipykernel_154371/3890709806.py\u001b\\\u001b[2m3890709806.py\u001b[0m\u001b]8;;\u001b\\\u001b[2m:\u001b[0m\u001b]8;id=451853;file:///tmp/ipykernel_154371/3890709806.py#130\u001b\\\u001b[2m130\u001b[0m\u001b]8;;\u001b\\\n"
      ]
     },
     "metadata": {},
     "output_type": "display_data"
    }
   ],
   "source": [
    "#|eval: false\n",
    "benchmark_names = [\"openai_humaneval\", \"mbpp\"]\n",
    "ds = load_dataset(\"bigcode/the-stack-smol\", data_dir=\"data/python\", split=\"train\")\n",
    "bench_cleaner = BenchmarkCleaner(benchmark_names, threshold=0.1, num_perm=128)\n",
    "ds = bench_cleaner.clean(ds, \"content\")"
   ]
  },
  {
   "cell_type": "code",
   "execution_count": null,
   "metadata": {},
   "outputs": [],
   "source": [
    "#| hide\n",
    "import nbdev; nbdev.nbdev_export()"
   ]
  }
 ],
 "metadata": {
  "kernelspec": {
   "display_name": "squeakily",
   "language": "python",
   "name": "python3"
  },
  "language_info": {
   "codemirror_mode": {
    "name": "ipython",
    "version": 3
   },
   "file_extension": ".py",
   "mimetype": "text/x-python",
   "name": "python",
   "nbconvert_exporter": "python",
   "pygments_lexer": "ipython3",
   "version": "3.10.8 (main, Nov 24 2022, 14:13:03) [GCC 11.2.0]"
  },
  "vscode": {
   "interpreter": {
    "hash": "6a222d7587809c2a33fc17a9ecdb564affee98b0a556fae425cf72b4dca9a568"
   }
  }
 },
 "nbformat": 4,
 "nbformat_minor": 4
}
