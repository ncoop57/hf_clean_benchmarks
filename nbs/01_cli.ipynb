{
 "cells": [
  {
   "cell_type": "markdown",
   "metadata": {},
   "source": [
    "# cli\n",
    "\n",
    "> Fill in a module description here"
   ]
  },
  {
   "cell_type": "code",
   "execution_count": null,
   "metadata": {},
   "outputs": [],
   "source": [
    "#| default_exp cli"
   ]
  },
  {
   "cell_type": "code",
   "execution_count": null,
   "metadata": {},
   "outputs": [],
   "source": [
    "#| export\n",
    "import json\n",
    "\n",
    "from datasets import load_dataset\n",
    "from fastcore.script import *\n",
    "from hf_clean_benchmarks.core import BenchmarkCleaner"
   ]
  },
  {
   "cell_type": "code",
   "execution_count": null,
   "metadata": {},
   "outputs": [],
   "source": [
    "#| hide\n",
    "import logging\n",
    "\n",
    "from nbdev.showdoc import *\n",
    "\n",
    "# Turn off logging for datasets\n",
    "logging.getLogger(\"datasets\").setLevel(logging.ERROR)"
   ]
  },
  {
   "cell_type": "code",
   "execution_count": null,
   "metadata": {},
   "outputs": [
    {
     "name": "stdout",
     "output_type": "stream",
     "text": [
      "/tmp/pre_c3y63zl4_suf.json\n",
      "[{'name': 'openai_humaneval', 'splits': ['test'], 'columns': ['prompt', 'canonical_solution', 'test']}, {'name': 'mbpp', 'splits': ['validation', 'test'], 'columns': ['text', 'code', 'test_list']}]\n"
     ]
    }
   ],
   "source": [
    "#| hide\n",
    "import json\n",
    "import tempfile\n",
    "\n",
    "benchmarks = [\n",
    "    {\n",
    "        \"name\": \"openai_humaneval\",\n",
    "        \"splits\": [\"test\"],\n",
    "        \"columns\": [\"prompt\", \"canonical_solution\", \"test\"],\n",
    "    },\n",
    "    {\n",
    "        \"name\": \"mbpp\",\n",
    "        \"splits\": [\"validation\", \"test\"],\n",
    "        \"columns\": [\"text\", \"code\", \"test_list\"],\n",
    "    },\n",
    "]\n",
    "\n",
    "temp = tempfile.NamedTemporaryFile(prefix='pre_', suffix='_suf.json')\n",
    "temp.write(json.dumps(benchmarks).encode())\n",
    "print(temp.name)\n",
    "temp.seek(0)\n",
    "bm = json.load(temp)\n",
    "print(bm)"
   ]
  },
  {
   "cell_type": "code",
   "execution_count": null,
   "metadata": {},
   "outputs": [],
   "source": [
    "#| export\n",
    "@call_parse\n",
    "def clean_dataset(\n",
    "    dataset_name: str, # Name of the dataset to clean\n",
    "    column_name: str, # Name of the column to clean\n",
    "    benchmark_configs_path: str, # Path to the benchmark configuration file\n",
    "    output_path: str, # Path to where the cleaned dataset will be saved\n",
    "    dataset_config_name: str = None, # Name of the dataset configuration to use\n",
    "    data_dir: str = None, # Path to the data files to use\n",
    "    dataset_split: str = \"train\", # Name of the dataset split to clean\n",
    "    save_json: bool = False, # Whether to save the cleaned dataset as a JSON file\n",
    "    ): \n",
    "    \"\"\"\n",
    "    Clean a dataset using a benchmark configuration file.\n",
    "    \"\"\"\n",
    "    ds = load_dataset(\n",
    "        dataset_name,\n",
    "        name=dataset_config_name,\n",
    "        data_dir=data_dir,\n",
    "        split=dataset_split,\n",
    "    )\n",
    "    benchmarks = json.load(open(benchmark_configs_path))\n",
    "    bench_cleaner = BenchmarkCleaner(benchmarks, threshold=0.1, num_perm=128)\n",
    "    ds = bench_cleaner.clean(ds, column_name)\n",
    "    if save_json:\n",
    "        ds.to_json(output_path, orient=\"records\", lines=True)\n",
    "    else:\n",
    "        ds.save_to_disk(output_path)"
   ]
  },
  {
   "cell_type": "code",
   "execution_count": null,
   "metadata": {},
   "outputs": [
    {
     "name": "stderr",
     "output_type": "stream",
     "text": [
      "Checking for false positives...: 100%|██████████| 8780/8780 [00:33<00:00, 260.81it/s]\n",
      "Checking for false positives...: 100%|██████████| 8674/8674 [01:07<00:00, 129.20it/s]\n"
     ]
    },
    {
     "data": {
      "text/html": [
       "<pre style=\"white-space:pre;overflow-x:auto;line-height:normal;font-family:Menlo,'DejaVu Sans Mono',consolas,'Courier New',monospace\"><span style=\"color: #7fbfbf; text-decoration-color: #7fbfbf\">[11/06/22 10:39:25] </span><span style=\"color: #000080; text-decoration-color: #000080\">INFO    </span> Data Number                   : <span style=\"color: #008080; text-decoration-color: #008080; font-weight: bold\">10000</span>                                      <a href=\"file:///home/nathan/projects/other/hf_clean_benchmarks/hf_clean_benchmarks/core.py\" target=\"_blank\"><span style=\"color: #7f7f7f; text-decoration-color: #7f7f7f\">core.py</span></a><span style=\"color: #7f7f7f; text-decoration-color: #7f7f7f\">:</span><a href=\"file:///home/nathan/projects/other/hf_clean_benchmarks/hf_clean_benchmarks/core.py#210\" target=\"_blank\"><span style=\"color: #7f7f7f; text-decoration-color: #7f7f7f\">210</span></a>\n",
       "</pre>\n"
      ],
      "text/plain": [
       "\u001b[2;36m[11/06/22 10:39:25]\u001b[0m\u001b[2;36m \u001b[0m\u001b[34mINFO    \u001b[0m Data Number                   : \u001b[1;36m10000\u001b[0m                                      \u001b]8;id=912292;file:///home/nathan/projects/other/hf_clean_benchmarks/hf_clean_benchmarks/core.py\u001b\\\u001b[2mcore.py\u001b[0m\u001b]8;;\u001b\\\u001b[2m:\u001b[0m\u001b]8;id=694905;file:///home/nathan/projects/other/hf_clean_benchmarks/hf_clean_benchmarks/core.py#210\u001b\\\u001b[2m210\u001b[0m\u001b]8;;\u001b\\\n"
      ]
     },
     "metadata": {},
     "output_type": "display_data"
    },
    {
     "data": {
      "text/html": [
       "<pre style=\"white-space:pre;overflow-x:auto;line-height:normal;font-family:Menlo,'DejaVu Sans Mono',consolas,'Courier New',monospace\"><span style=\"color: #7fbfbf; text-decoration-color: #7fbfbf\">                    </span><span style=\"color: #000080; text-decoration-color: #000080\">INFO    </span> Duplicate Number              : <span style=\"color: #008080; text-decoration-color: #008080; font-weight: bold\">4612</span>                                       <a href=\"file:///home/nathan/projects/other/hf_clean_benchmarks/hf_clean_benchmarks/core.py\" target=\"_blank\"><span style=\"color: #7f7f7f; text-decoration-color: #7f7f7f\">core.py</span></a><span style=\"color: #7f7f7f; text-decoration-color: #7f7f7f\">:</span><a href=\"file:///home/nathan/projects/other/hf_clean_benchmarks/hf_clean_benchmarks/core.py#211\" target=\"_blank\"><span style=\"color: #7f7f7f; text-decoration-color: #7f7f7f\">211</span></a>\n",
       "</pre>\n"
      ],
      "text/plain": [
       "\u001b[2;36m                   \u001b[0m\u001b[2;36m \u001b[0m\u001b[34mINFO    \u001b[0m Duplicate Number              : \u001b[1;36m4612\u001b[0m                                       \u001b]8;id=235532;file:///home/nathan/projects/other/hf_clean_benchmarks/hf_clean_benchmarks/core.py\u001b\\\u001b[2mcore.py\u001b[0m\u001b]8;;\u001b\\\u001b[2m:\u001b[0m\u001b]8;id=846901;file:///home/nathan/projects/other/hf_clean_benchmarks/hf_clean_benchmarks/core.py#211\u001b\\\u001b[2m211\u001b[0m\u001b]8;;\u001b\\\n"
      ]
     },
     "metadata": {},
     "output_type": "display_data"
    },
    {
     "data": {
      "text/html": [
       "<pre style=\"white-space:pre;overflow-x:auto;line-height:normal;font-family:Menlo,'DejaVu Sans Mono',consolas,'Courier New',monospace\"><span style=\"color: #7fbfbf; text-decoration-color: #7fbfbf\">                    </span><span style=\"color: #000080; text-decoration-color: #000080\">INFO    </span> Duplicate Rate                : <span style=\"color: #008080; text-decoration-color: #008080; font-weight: bold\">46.12</span>%                                     <a href=\"file:///home/nathan/projects/other/hf_clean_benchmarks/hf_clean_benchmarks/core.py\" target=\"_blank\"><span style=\"color: #7f7f7f; text-decoration-color: #7f7f7f\">core.py</span></a><span style=\"color: #7f7f7f; text-decoration-color: #7f7f7f\">:</span><a href=\"file:///home/nathan/projects/other/hf_clean_benchmarks/hf_clean_benchmarks/core.py#212\" target=\"_blank\"><span style=\"color: #7f7f7f; text-decoration-color: #7f7f7f\">212</span></a>\n",
       "</pre>\n"
      ],
      "text/plain": [
       "\u001b[2;36m                   \u001b[0m\u001b[2;36m \u001b[0m\u001b[34mINFO    \u001b[0m Duplicate Rate                : \u001b[1;36m46.12\u001b[0m%                                     \u001b]8;id=982478;file:///home/nathan/projects/other/hf_clean_benchmarks/hf_clean_benchmarks/core.py\u001b\\\u001b[2mcore.py\u001b[0m\u001b]8;;\u001b\\\u001b[2m:\u001b[0m\u001b]8;id=643623;file:///home/nathan/projects/other/hf_clean_benchmarks/hf_clean_benchmarks/core.py#212\u001b\\\u001b[2m212\u001b[0m\u001b]8;;\u001b\\\n"
      ]
     },
     "metadata": {},
     "output_type": "display_data"
    },
    {
     "data": {
      "text/html": [
       "<pre style=\"white-space:pre;overflow-x:auto;line-height:normal;font-family:Menlo,'DejaVu Sans Mono',consolas,'Courier New',monospace\"><span style=\"color: #7fbfbf; text-decoration-color: #7fbfbf\">                    </span><span style=\"color: #000080; text-decoration-color: #000080\">INFO    </span> Total Time                    : <span style=\"color: #008080; text-decoration-color: #008080; font-weight: bold\">104.49</span> seconds                             <a href=\"file:///home/nathan/projects/other/hf_clean_benchmarks/hf_clean_benchmarks/core.py\" target=\"_blank\"><span style=\"color: #7f7f7f; text-decoration-color: #7f7f7f\">core.py</span></a><span style=\"color: #7f7f7f; text-decoration-color: #7f7f7f\">:</span><a href=\"file:///home/nathan/projects/other/hf_clean_benchmarks/hf_clean_benchmarks/core.py#213\" target=\"_blank\"><span style=\"color: #7f7f7f; text-decoration-color: #7f7f7f\">213</span></a>\n",
       "</pre>\n"
      ],
      "text/plain": [
       "\u001b[2;36m                   \u001b[0m\u001b[2;36m \u001b[0m\u001b[34mINFO    \u001b[0m Total Time                    : \u001b[1;36m104.49\u001b[0m seconds                             \u001b]8;id=792790;file:///home/nathan/projects/other/hf_clean_benchmarks/hf_clean_benchmarks/core.py\u001b\\\u001b[2mcore.py\u001b[0m\u001b]8;;\u001b\\\u001b[2m:\u001b[0m\u001b]8;id=828620;file:///home/nathan/projects/other/hf_clean_benchmarks/hf_clean_benchmarks/core.py#213\u001b\\\u001b[2m213\u001b[0m\u001b]8;;\u001b\\\n"
      ]
     },
     "metadata": {},
     "output_type": "display_data"
    },
    {
     "name": "stderr",
     "output_type": "stream",
     "text": [
      "Creating json from Arrow format: 100%|██████████| 1/1 [00:00<00:00,  1.77ba/s]\n"
     ]
    }
   ],
   "source": [
    "#| exec_doc\n",
    "clean_dataset(\n",
    "    dataset_name=\"bigcode/the-stack-smol\",\n",
    "    column_name=\"content\",\n",
    "    benchmark_configs_path=temp.name,\n",
    "    output_path=\"/tmp/test.jsonl\",\n",
    "    data_dir=\"data/python\",\n",
    "    dataset_split=\"train\",\n",
    "    save_json=True,\n",
    ")"
   ]
  },
  {
   "cell_type": "code",
   "execution_count": null,
   "metadata": {},
   "outputs": [],
   "source": [
    "#| hide\n",
    "temp.close()"
   ]
  },
  {
   "cell_type": "code",
   "execution_count": null,
   "metadata": {},
   "outputs": [],
   "source": [
    "#| hide\n",
    "import nbdev; nbdev.nbdev_export()"
   ]
  }
 ],
 "metadata": {
  "kernelspec": {
   "display_name": "Python 3.9.13 ('clean_bench')",
   "language": "python",
   "name": "python3"
  }
 },
 "nbformat": 4,
 "nbformat_minor": 4
}
